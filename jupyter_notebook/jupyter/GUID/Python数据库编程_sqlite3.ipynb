{
 "cells": [
  {
   "cell_type": "markdown",
   "metadata": {},
   "source": [
    "### 导入 sqlite3模块"
   ]
  },
  {
   "cell_type": "code",
   "execution_count": 5,
   "metadata": {
    "collapsed": true
   },
   "outputs": [],
   "source": [
    "from sqlite3 import connect"
   ]
  },
  {
   "cell_type": "code",
   "execution_count": 6,
   "metadata": {
    "collapsed": true
   },
   "outputs": [],
   "source": [
    "db_name=\"test1.db\""
   ]
  },
  {
   "cell_type": "markdown",
   "metadata": {},
   "source": [
    "### 连接并使用游标"
   ]
  },
  {
   "cell_type": "code",
   "execution_count": 7,
   "metadata": {
    "collapsed": true
   },
   "outputs": [],
   "source": [
    "con=connect(db_name)\n",
    "cur=con.cursor()"
   ]
  },
  {
   "cell_type": "markdown",
   "metadata": {},
   "source": [
    "### 利用execute进行执行"
   ]
  },
  {
   "cell_type": "code",
   "execution_count": 8,
   "metadata": {},
   "outputs": [
    {
     "data": {
      "text/plain": [
       "<sqlite3.Cursor at 0x1cc17a371f0>"
      ]
     },
     "execution_count": 8,
     "metadata": {},
     "output_type": "execute_result"
    }
   ],
   "source": [
    "cur.execute(\"create table star(id integer,name text,age integer,\\\n",
    "           address text)\")"
   ]
  },
  {
   "cell_type": "code",
   "execution_count": 9,
   "metadata": {
    "collapsed": true
   },
   "outputs": [],
   "source": [
    "rows=[(1,\"王俊凯\",16,\"重庆\"),(2,\"王源\",15,\"重庆\"),(3,\"易烊千玺\",15,\"怀化\")]"
   ]
  },
  {
   "cell_type": "markdown",
   "metadata": {},
   "source": [
    "### 占位符的使用"
   ]
  },
  {
   "cell_type": "code",
   "execution_count": 10,
   "metadata": {
    "collapsed": true
   },
   "outputs": [],
   "source": [
    "for item in rows:\n",
    "    cur.execute(\"insert into star(id,name,age,address)\\\n",
    "    values (?,?,?,?)\",item)"
   ]
  },
  {
   "cell_type": "code",
   "execution_count": 11,
   "metadata": {},
   "outputs": [
    {
     "data": {
      "text/plain": [
       "<sqlite3.Cursor at 0x1cc17a371f0>"
      ]
     },
     "execution_count": 11,
     "metadata": {},
     "output_type": "execute_result"
    }
   ],
   "source": [
    "cur.execute(\"select *from star\")"
   ]
  },
  {
   "cell_type": "code",
   "execution_count": 12,
   "metadata": {},
   "outputs": [
    {
     "name": "stdout",
     "output_type": "stream",
     "text": [
      "(1, '王俊凯', 16, '重庆')\n",
      "(2, '王源', 15, '重庆')\n",
      "(3, '易烊千玺', 15, '怀化')\n"
     ]
    }
   ],
   "source": [
    "for row in cur:\n",
    "    print(row)"
   ]
  },
  {
   "cell_type": "markdown",
   "metadata": {},
   "source": [
    "### 如何查询数据"
   ]
  },
  {
   "cell_type": "code",
   "execution_count": 13,
   "metadata": {},
   "outputs": [
    {
     "data": {
      "text/plain": [
       "<sqlite3.Cursor at 0x1cc17a371f0>"
      ]
     },
     "execution_count": 13,
     "metadata": {},
     "output_type": "execute_result"
    }
   ],
   "source": [
    "cur.execute(\"update star set age=? where id=?\",(16,3))"
   ]
  },
  {
   "cell_type": "code",
   "execution_count": 14,
   "metadata": {},
   "outputs": [
    {
     "name": "stdout",
     "output_type": "stream",
     "text": [
      "(1, '王俊凯', 16, '重庆')\n",
      "(2, '王源', 15, '重庆')\n",
      "(3, '易烊千玺', 16, '怀化')\n"
     ]
    }
   ],
   "source": [
    "cur.execute(\"select *from star\")\n",
    "for row in cur:\n",
    "    print(row)"
   ]
  },
  {
   "cell_type": "markdown",
   "metadata": {},
   "source": [
    "### 提交数据"
   ]
  },
  {
   "cell_type": "code",
   "execution_count": 15,
   "metadata": {
    "collapsed": true
   },
   "outputs": [],
   "source": [
    "con.commit()"
   ]
  },
  {
   "cell_type": "code",
   "execution_count": 16,
   "metadata": {},
   "outputs": [
    {
     "data": {
      "text/plain": [
       "<sqlite3.Cursor at 0x1cc17a371f0>"
      ]
     },
     "execution_count": 16,
     "metadata": {},
     "output_type": "execute_result"
    }
   ],
   "source": [
    "cur.execute(\"delete from star where id=?\",(3,))"
   ]
  },
  {
   "cell_type": "code",
   "execution_count": 17,
   "metadata": {},
   "outputs": [
    {
     "name": "stdout",
     "output_type": "stream",
     "text": [
      "(1, '王俊凯', 16, '重庆')\n",
      "(2, '王源', 15, '重庆')\n"
     ]
    }
   ],
   "source": [
    "cur.execute(\"select * from star\")\n",
    "for row in cur:\n",
    "    print(row)"
   ]
  },
  {
   "cell_type": "code",
   "execution_count": 18,
   "metadata": {
    "collapsed": true
   },
   "outputs": [],
   "source": [
    "con.commit()"
   ]
  },
  {
   "cell_type": "markdown",
   "metadata": {},
   "source": [
    "### 关闭数据库连接"
   ]
  },
  {
   "cell_type": "code",
   "execution_count": 19,
   "metadata": {
    "collapsed": true
   },
   "outputs": [],
   "source": [
    "con.close()"
   ]
  },
  {
   "cell_type": "markdown",
   "metadata": {},
   "source": [
    "### 行对象\n"
   ]
  },
  {
   "cell_type": "markdown",
   "metadata": {},
   "source": [
    "- 支持的操作：\n",
    "    - 列名进行访问\n",
    "    - 索引号进行访问\n",
    "    - 迭代访问\n",
    "    - len()操作\n",
    "- 游标建立前：\n",
    "    - con.row_factory=sqlite3.Row\n",
    "- 例子如下"
   ]
  },
  {
   "cell_type": "code",
   "execution_count": 23,
   "metadata": {},
   "outputs": [
    {
     "name": "stdout",
     "output_type": "stream",
     "text": [
      "<class 'sqlite3.Row'>\n",
      "以列名进行访问：  王俊凯\n",
      "以索引号进行访问：  王俊凯\n",
      "采用迭代形式访问：\n",
      "1\n",
      "王俊凯\n",
      "16\n",
      "重庆\n",
      "len():  4\n"
     ]
    }
   ],
   "source": [
    "from sqlite3 import connect,Row\n",
    "db_name=\"test.db\"\n",
    "con=connect(db_name)\n",
    "con.row_factory=Row\n",
    "cur=con.cursor()\n",
    "cur.execute(\"select * from star\")\n",
    "row=cur.fetchone()\n",
    "print(type(row))\n",
    "print(\"以列名进行访问： \",row[\"name\"])\n",
    "print(\"以索引号进行访问： \",row[1])\n",
    "print(\"采用迭代形式访问：\")\n",
    "for item in row:\n",
    "    print(item)\n",
    "\n",
    "print(\"len(): \",len(row))\n",
    "con.close()"
   ]
  },
  {
   "cell_type": "markdown",
   "metadata": {},
   "source": [
    "### 批量数据库操作"
   ]
  },
  {
   "cell_type": "markdown",
   "metadata": {},
   "source": [
    "-  cur.executemany(sql_string,seq)\n",
    "-  cur.executescript(sql_string)"
   ]
  },
  {
   "cell_type": "code",
   "execution_count": 35,
   "metadata": {},
   "outputs": [
    {
     "name": "stdout",
     "output_type": "stream",
     "text": [
      "1\n",
      "王俊凯\n",
      "16\n",
      "重庆\n",
      "2\n",
      "王源\n",
      "15\n",
      "重庆\n",
      "5\n",
      "Lily\n",
      "12\n",
      "北京\n",
      "6\n",
      "John\n",
      "13\n",
      "上海\n"
     ]
    }
   ],
   "source": [
    "from sqlite3 import connect,Row\n",
    "db_name=\"test.db\"\n",
    "con=connect(db_name)\n",
    "con.row_factory=Row\n",
    "cur=con.cursor()\n",
    "\n",
    "rows=[(5,\"Lily\",12,\"北京\"),(6,\"John\",13,\"上海\")]\n",
    "cur.executemany(\"insert into star (id,name,age,address) values (?,?,?,?)\",rows)\n",
    "\n",
    "cur.execute(\"select * from star\")\n",
    "\n",
    "for row in cur:\n",
    "    for r in row:\n",
    "        print(r)\n",
    "\n",
    "con.commit()\n",
    "con.close()"
   ]
  },
  {
   "cell_type": "code",
   "execution_count": 39,
   "metadata": {},
   "outputs": [
    {
     "name": "stdout",
     "output_type": "stream",
     "text": [
      "(1, 'Lily')\n",
      "(2, 'John')\n"
     ]
    }
   ],
   "source": [
    "from sqlite3 import  connect\n",
    "da_name=\"test1.db\"\n",
    "con=connect(db_name)\n",
    "cur=con.cursor()\n",
    "sql_string=\"\"\"\n",
    "create table test1(id integer,name text);\n",
    "insert into test1 (id,name) values(1,\"Lily\");\n",
    "insert into test1 (id,name) values(2,\"John\");\n",
    "\"\"\"\n",
    "cur.executescript(sql_string)\n",
    "cur.execute(\"select * from test1\")\n",
    "for item in cur:\n",
    "    print(item)\n",
    "con.commit()\n",
    "con.close()"
   ]
  },
  {
   "cell_type": "markdown",
   "metadata": {},
   "source": [
    "### 创建可在SQL语句使用自定的函数"
   ]
  },
  {
   "cell_type": "markdown",
   "metadata": {},
   "source": [
    "- 创建基本函数"
   ]
  },
  {
   "cell_type": "code",
   "execution_count": 41,
   "metadata": {
    "collapsed": true
   },
   "outputs": [],
   "source": [
    "from sqlite3 import connect ,Row\n",
    "import binascii  #加密的模块\n",
    "\n",
    "da_name=\"test1.db\"\n",
    "\n",
    "def encrypt(mydata):\n",
    "    crc=str(binascii.crc32(mydata.encode()))\n",
    "    while len(crc)<10:\n",
    "        crc=\"0\"+crc\n",
    "    return mydata+crc\n",
    "\n",
    "def check(mydata):\n",
    "    if len(mydata)<11:\n",
    "        return None\n",
    "    crc_res=str(binascii.crc32(mydata[:-10].encode()))\n",
    "    while len(crc_res)<10:\n",
    "        crc_res=\"0\"+crc_res\n",
    "    if crc_res==mydata[-10:]:\n",
    "        return mydata[:-10]"
   ]
  },
  {
   "cell_type": "code",
   "execution_count": 47,
   "metadata": {},
   "outputs": [
    {
     "name": "stdout",
     "output_type": "stream",
     "text": [
      "\n",
      "drop table if exists testa;\n",
      "create table if not exists testa(id integer,name text);\n",
      "insert into testa (id,name) values (3,\"Lily1460741381\");\n",
      "insert into testa (id,name) values (4,\"Green0291225893\");\n",
      "\n",
      "(3, 'Lily')\n",
      "(4, None)\n"
     ]
    }
   ],
   "source": [
    "con=connect(db_name)\n",
    "con.create_function(\"checkk\",1,check)\n",
    "cur=con.cursor()\n",
    "sql_script=\"\"\"\n",
    "drop table if exists testa;\n",
    "create table if not exists testa(id integer,name text);\n",
    "insert into testa (id,name) values (3,\"%s\");\n",
    "insert into testa (id,name) values (4,\"%s\");\n",
    "\"\"\"\n",
    "names=[\"Lily\",\"Green\"]\n",
    "names=tuple(encrypt(i) for i in names)\n",
    "sql_script=sql_script % names\n",
    "print(sql_script)\n",
    "cur.executescript(sql_script)\n",
    "\n",
    "cur.execute(\"update testa set name=? where id=?\",(\"dfddkkjd1122334455\",4))\n",
    "cur.execute(\"select id,checkk(name) from testa\")\n",
    "for item in cur:\n",
    "    print(item)\n",
    "    \n",
    "con.commit()\n",
    "con.close()"
   ]
  },
  {
   "cell_type": "markdown",
   "metadata": {},
   "source": [
    "- 创建聚合函数"
   ]
  },
  {
   "cell_type": "code",
   "execution_count": 51,
   "metadata": {},
   "outputs": [
    {
     "name": "stdout",
     "output_type": "stream",
     "text": [
      "(170,)\n"
     ]
    }
   ],
   "source": [
    "from sqlite3 import connect ,Row\n",
    "import binascii  #加密的模块\n",
    "\n",
    "da_name=\"test1.db\"\n",
    "\n",
    "class AbsSum:\n",
    "        def __init__(self):\n",
    "            self.s=0\n",
    "        def step(self,v):\n",
    "            self.s+=abs(v)\n",
    "        def finalize(self):\n",
    "            return self.s\n",
    "\n",
    "con=connect(db_name)\n",
    "con.create_aggregate(\"abssum\",1,AbsSum)\n",
    "cur=con.cursor()\n",
    "\n",
    "sql_script=\"\"\"\n",
    "drop table if exists testa;\n",
    "create table if not exists testa(id integer,name text,score integer);\n",
    "insert into testa (id,name,score) values (3,\"Lily\",90);\n",
    "insert into testa (id,name,score) values (4,\"Green\",80);\n",
    "\"\"\"\n",
    "cur.executescript(sql_script)\n",
    "cur.execute(\"select abssum(score) from testa\")\n",
    "for item in cur:\n",
    "    print(item)\n",
    "    \n",
    "con.commit()\n",
    "con.close()"
   ]
  },
  {
   "cell_type": "code",
   "execution_count": 1,
   "metadata": {
    "collapsed": true
   },
   "outputs": [],
   "source": [
    "import sqlite3 as lite\n",
    "import sys\n",
    "\n",
    "cars = (\n",
    "    (1, 'Audi', 52642),\n",
    "    (2, 'Mercedes', 57127),\n",
    "    (3, 'Skoda', 9000),\n",
    "    (4, 'Volvo', 29000),\n",
    "    (5, 'Bentley', 350000),\n",
    "    (6, 'Hummer', 41400),\n",
    "    (7, 'Volkswagen', 21600)\n",
    ")\n",
    "\n",
    "\n",
    "con = lite.connect('test.db')\n",
    "\n",
    "with con:\n",
    "    \n",
    "    cur = con.cursor()    \n",
    "    \n",
    "    cur.execute(\"DROP TABLE IF EXISTS Cars\")\n",
    "    cur.execute(\"CREATE TABLE Cars(Id INT, Name TEXT, Price INT)\")\n",
    "    cur.executemany(\"INSERT INTO Cars VALUES(?, ?, ?)\", cars)"
   ]
  },
  {
   "cell_type": "code",
   "execution_count": 15,
   "metadata": {},
   "outputs": [
    {
     "data": {
      "text/plain": [
       "<sqlite3.Cursor at 0x28bc24620a0>"
      ]
     },
     "execution_count": 15,
     "metadata": {},
     "output_type": "execute_result"
    }
   ],
   "source": [
    "cur.execute(\"select * from Cars\")\n",
    "    "
   ]
  },
  {
   "cell_type": "code",
   "execution_count": 16,
   "metadata": {},
   "outputs": [
    {
     "name": "stdout",
     "output_type": "stream",
     "text": [
      "The last Id of the inserted row is 4\n"
     ]
    }
   ],
   "source": [
    "import sqlite3 as lite\n",
    "import sys\n",
    "\n",
    "con = lite.connect(':memory:')\n",
    "\n",
    "with con:\n",
    "    \n",
    "    cur = con.cursor()    \n",
    "    cur.execute(\"CREATE TABLE Friends(Id INTEGER PRIMARY KEY, Name TEXT);\")\n",
    "    cur.execute(\"INSERT INTO Friends(Name) VALUES ('Tom');\")\n",
    "    cur.execute(\"INSERT INTO Friends(Name) VALUES ('Rebecca');\")\n",
    "    cur.execute(\"INSERT INTO Friends(Name) VALUES ('Jim');\")\n",
    "    cur.execute(\"INSERT INTO Friends(Name) VALUES ('Robert');\")\n",
    "        \n",
    "    lid = cur.lastrowid\n",
    "    print(\"The last Id of the inserted row is %d\" % lid)"
   ]
  },
  {
   "cell_type": "markdown",
   "metadata": {},
   "source": [
    "- 读入或者写出数据"
   ]
  },
  {
   "cell_type": "code",
   "execution_count": 19,
   "metadata": {
    "collapsed": true
   },
   "outputs": [],
   "source": [
    "import sqlite3 as lite\n",
    "import sys\n",
    "\n",
    "cars = (\n",
    "    (1, 'Audi', 52643),\n",
    "    (2, 'Mercedes', 57642),\n",
    "    (3, 'Skoda', 9000),\n",
    "    (4, 'Volvo', 29000),\n",
    "    (5, 'Bentley', 350000),\n",
    "    (6, 'Hummer', 41400),\n",
    "    (7, 'Volkswagen', 21600)\n",
    ")\n",
    "\n",
    "def writeData(data):\n",
    "    \n",
    "    f = open('cars.sql', 'w')\n",
    "    \n",
    "    with f:\n",
    "        f.write(data)\n",
    "\n",
    "\n",
    "con = lite.connect(':memory:')\n",
    "\n",
    "with con:\n",
    "    \n",
    "    cur = con.cursor()\n",
    "    \n",
    "    cur.execute(\"DROP TABLE IF EXISTS Cars\")\n",
    "    cur.execute(\"CREATE TABLE Cars(Id INT, Name TEXT, Price INT)\")\n",
    "    cur.executemany(\"INSERT INTO Cars VALUES(?, ?, ?)\", cars)\n",
    "    cur.execute(\"DELETE FROM Cars WHERE Price < 30000\")\n",
    "    \n",
    "    data = '\\n'.join(con.iterdump())\n",
    "    \n",
    "    writeData(data)"
   ]
  },
  {
   "cell_type": "code",
   "execution_count": 20,
   "metadata": {},
   "outputs": [
    {
     "name": "stdout",
     "output_type": "stream",
     "text": [
      "(1, 'Audi', 52643)\n",
      "(2, 'Mercedes', 57642)\n",
      "(5, 'Bentley', 350000)\n",
      "(6, 'Hummer', 41400)\n"
     ]
    }
   ],
   "source": [
    "import sqlite3 as lite\n",
    "import sys\n",
    "\n",
    "\n",
    "def readData():\n",
    "    \n",
    "    f = open('cars.sql', 'r')\n",
    "    \n",
    "    with f:\n",
    "        data = f.read()\n",
    "        return data\n",
    "        \n",
    "\n",
    "con = lite.connect(':memory:')\n",
    "\n",
    "with con:   \n",
    "\n",
    "    cur = con.cursor()\n",
    "    \n",
    "    sql = readData()\n",
    "    cur.executescript(sql)\n",
    "    \n",
    "    cur.execute(\"SELECT * FROM Cars\")\n",
    "    \n",
    "    rows = cur.fetchall()\n",
    "    \n",
    "    for row in rows:\n",
    "        print(row)    "
   ]
  }
 ],
 "metadata": {
  "kernelspec": {
   "display_name": "Python 3",
   "language": "python",
   "name": "python3"
  },
  "language_info": {
   "codemirror_mode": {
    "name": "ipython",
    "version": 3
   },
   "file_extension": ".py",
   "mimetype": "text/x-python",
   "name": "python",
   "nbconvert_exporter": "python",
   "pygments_lexer": "ipython3",
   "version": "3.6.1"
  },
  "toc": {
   "colors": {
    "hover_highlight": "#DAA520",
    "navigate_num": "#000000",
    "navigate_text": "#333333",
    "running_highlight": "#FF0000",
    "selected_highlight": "#FFD700",
    "sidebar_border": "#EEEEEE",
    "wrapper_background": "#FFFFFF"
   },
   "moveMenuLeft": true,
   "nav_menu": {
    "height": "196px",
    "width": "252px"
   },
   "navigate_menu": true,
   "number_sections": true,
   "sideBar": true,
   "threshold": 4,
   "toc_cell": false,
   "toc_section_display": "block",
   "toc_window_display": false,
   "widenNotebook": false
  }
 },
 "nbformat": 4,
 "nbformat_minor": 2
}
