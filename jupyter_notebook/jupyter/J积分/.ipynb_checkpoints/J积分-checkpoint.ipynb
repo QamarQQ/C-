{
 "cells": [
  {
   "cell_type": "markdown",
   "metadata": {},
   "source": [
    "<font size=6 color=\"red\">--------------------------------------------J积分----------------------------------------------------</font>"
   ]
  },
  {
   "cell_type": "markdown",
   "metadata": {},
   "source": [
    "## J积分"
   ]
  },
  {
   "cell_type": "markdown",
   "metadata": {},
   "source": [
    "- J积分理论应用的适用范围\n",
    "    - 全量理论和单调加载  <font size=4>$$dw=\\sigma_{ij}d\\epsilon_{ij}$$</font>\n",
    "    - 小变形理论   <font size=4>$$\\epsilon_{ij}=\\frac{1}{2}(\\frac{\\partial {u_{i}}}{\\partial {x_j}}+\\frac{\\partial {u_{j}}}{\\partial {x_i}})$$</font>\n",
    "    - 不存在体积力 <font size=4>$$\\frac{\\partial{\\sigma_{ij}}}{\\partial {x_{j}}}=0$$ </font>"
   ]
  },
  {
   "cell_type": "markdown",
   "metadata": {},
   "source": [
    "## J积分的推导过程"
   ]
  },
  {
   "cell_type": "markdown",
   "metadata": {
    "collapsed": true
   },
   "source": [
    "<body>\n",
    "\n",
    "<table>\n",
    "<tr>\n",
    "<td><img src=\"J-1.png\" height=100 width=600 alt=\"J积分\"></td>\n",
    "<td><img src=\"J-2.png\" height=100 width=600 alt=\"J积分\"></td>\n",
    "<td><img src=\"J-3.png\" height=100 width=600 alt=\"J积分\"></td>\n",
    "<tr>\n",
    "<td><img src=\"J-4.png\" height=100 width=600 alt=\"J积分\"></td>\n",
    "<td><img src=\"J-5.png\" height=100 width=600 alt=\"J积分\"></td>\n",
    "<td><img src=\"J-6.png\" height=100 width=600 alt=\"J积分\"></td>\n",
    "</tr>\n",
    "<tr>\n",
    "<td><img src=\"J-7.png\" height=100 width=600 alt=\"J积分\"></td>\n",
    "<td><img src=\"J-8.png\" height=100 width=600 alt=\"J积分\"></td>\n",
    "<td><img src=\"J-9.png\" height=100 width=600 alt=\"J积分\"></td>\n",
    "</tr>\n",
    "</table>\n",
    "</body>"
   ]
  },
  {
   "cell_type": "markdown",
   "metadata": {},
   "source": [
    "## 裂纹尖端应力、应变场与J积分判据"
   ]
  },
  {
   "cell_type": "markdown",
   "metadata": {},
   "source": [
    "### HRR理论"
   ]
  },
  {
   "cell_type": "markdown",
   "metadata": {},
   "source": [
    "1968年Hutchinson,Rice与Rosengren建立了HRR理论：\n",
    "\n",
    "- 给出了硬化材料裂纹尖端应力场的HRR解，指出裂纹尖端附近应力具有HRR奇异性；\n",
    "- 指出弹塑性或非线性情况下，裂纹尖端附近应力场的强度有J积分决定，J积分是度量裂纹尖端弹塑性应力应变场强度的参量\n"
   ]
  },
  {
   "cell_type": "markdown",
   "metadata": {},
   "source": [
    "<font size=4>求解方法：</font>\n",
    "\n",
    "- 应用J积分守恒性及材料的硬化规律确定应力和应变的幂，然后选择满足平衡方程的应力函数，从而得出裂纹尖端的应力和应变场的局部解。"
   ]
  },
  {
   "cell_type": "markdown",
   "metadata": {},
   "source": [
    "<font size=4>重要矛盾：</font>\n",
    "\n",
    "- 既然考虑了塑性变形，裂纹尖端的应力就不应该是奇异的"
   ]
  },
  {
   "cell_type": "markdown",
   "metadata": {},
   "source": [
    "### 弹塑性HRR解"
   ]
  },
  {
   "cell_type": "markdown",
   "metadata": {},
   "source": [
    "<font size=5 >$$\\sigma_{ij}=\\sigma_0(\\frac{EJ}{{\\sigma_0}^2\\alpha I_n r})^\\frac{1}{n+1}F_{ij}(\\theta,n)$$</font>"
   ]
  },
  {
   "cell_type": "markdown",
   "metadata": {},
   "source": [
    "<font size=5 >$$\\epsilon_{ij}=\\frac{\\sigma_0\\alpha}{E}(\\frac{EJ}{{\\sigma_0}^2\\alpha I_n r})^\\frac{n}{n+1}\\phi_{ij}(\\theta,n)$$</font>"
   ]
  },
  {
   "cell_type": "markdown",
   "metadata": {},
   "source": [
    "- 其中：\n",
    "    - <font size=4>$\\sigma_0$</font> -----材料的屈服强度\n",
    "    - <font size=4>$E$</font> -----材料的弹性模量\n",
    "    - <font size=4>$n$</font> -----材料的硬化指数\n",
    "    - <font size=4>$\\alpha,I_n$</font> -----与材料有关的常数"
   ]
  },
  {
   "cell_type": "markdown",
   "metadata": {},
   "source": [
    "### 线弹性解"
   ]
  },
  {
   "cell_type": "markdown",
   "metadata": {},
   "source": [
    "<font size=5>$$\\sigma_{ij}=\\frac{K_I}{\\sqrt{2\\pi r}}F_{ij}(\\theta)$$</font>"
   ]
  },
  {
   "cell_type": "markdown",
   "metadata": {},
   "source": [
    "<font size=5>$$\\epsilon_{ij}=\\frac{K_I}{\\sqrt{2\\pi r}}\\phi_{ij}(\\theta)$$</font>"
   ]
  },
  {
   "cell_type": "markdown",
   "metadata": {},
   "source": [
    "### J积分与其他断裂韧性的关系"
   ]
  },
  {
   "cell_type": "markdown",
   "metadata": {},
   "source": [
    "- 试件应变能"
   ]
  },
  {
   "cell_type": "markdown",
   "metadata": {},
   "source": [
    "<font size=4>$$U=\\iint_{D} wd(BA)=B\\iint_{D}w\\mathrm{d}x\\mathrm{d}y$$</font>"
   ]
  },
  {
   "cell_type": "markdown",
   "metadata": {},
   "source": [
    "- 试件边界上外力做功"
   ]
  },
  {
   "cell_type": "markdown",
   "metadata": {},
   "source": [
    "<font size=4>$$W=\\int_{\\Gamma}\\vec{T}\\cdot\\vec{u}(Bs)=B\\int_{\\Gamma}\\vec{T}\\cdot\\vec{u}\\mathrm{d}s$$</font>"
   ]
  },
  {
   "cell_type": "markdown",
   "metadata": {},
   "source": [
    "- 试件总势能(内能)"
   ]
  },
  {
   "cell_type": "markdown",
   "metadata": {},
   "source": [
    "<font size=4>$$\\Pi=U-W=B(\\iint_{D}w\\mathrm{d}x\\mathrm{d}y-\\int_{\\Gamma}\\vec{T}\\cdot\\vec{u}\\mathrm{d}s)$$</font>"
   ]
  },
  {
   "cell_type": "markdown",
   "metadata": {},
   "source": [
    "<font size=4>$$G=-\\frac{\\partial \\Pi}{\\partial A}=\\int_{\\Gamma}(w\\mathrm{d}y-\\vec{T}\\cdot \\frac{\\partial {\\vec{u}}}{\\partial x}\\mathrm {d}s)=J$$</font>"
   ]
  },
  {
   "cell_type": "markdown",
   "metadata": {},
   "source": [
    "<font size=4>$$J=\\int_{\\Gamma}(w\\mathrm{d}x_2-\\vec{T_i}\\frac{\\partial{u_i}}{\\partial x_1}\\mathrm{d}s)$$</font>"
   ]
  },
  {
   "cell_type": "markdown",
   "metadata": {},
   "source": [
    "### 线弹性平面应变问题（J和G的关系）"
   ]
  },
  {
   "cell_type": "markdown",
   "metadata": {},
   "source": [
    "- 由应力分量表示的应变能函数表达式为："
   ]
  },
  {
   "cell_type": "markdown",
   "metadata": {},
   "source": [
    "$$\\omega=\\frac{1}{2E}[{(\\sigma_{11}}^2+{\\sigma_{22}}^2+{\\sigma_{33}}^2)-2\\mu(\\sigma_{11}\\sigma_{22}+\\sigma_{22}\\sigma_{33}+\\sigma_{33}\\sigma_{11})]+\\frac{1+\\mu}{E}({\\sigma_{12}}^2+{\\sigma_{23}}^2+{\\sigma_{31}}^2)$$"
   ]
  },
  {
   "cell_type": "markdown",
   "metadata": {},
   "source": [
    "- 平面应变状态下："
   ]
  },
  {
   "cell_type": "markdown",
   "metadata": {},
   "source": [
    "$$\\omega=\\frac{1+\\mu}{2E}[(1-\\mu)({{\\sigma_{11}}^2}+{{\\sigma_{22}}^2})-2\\mu\\sigma_{11}\\sigma_{22}+2{\\sigma_{12}}^2]$$"
   ]
  },
  {
   "cell_type": "markdown",
   "metadata": {},
   "source": [
    "- 将应力分量表达式代入并化简，既得"
   ]
  },
  {
   "cell_type": "markdown",
   "metadata": {},
   "source": [
    "$$\\omega=\\frac{{K_1}^2}{2\\pi r}\\frac{1+\\mu}{E}\\cos{^2}{\\frac{\\theta}{2}}(1-2\\mu+\\sin{^2}{\\frac{\\theta}{2}})$$"
   ]
  },
  {
   "cell_type": "markdown",
   "metadata": {},
   "source": [
    "- 代入J积分的定义表达式的第一项中，由于<font size=4 color=\"red\">J积分与积分路径无关</font>,所以其积分回线可选取以裂纹尖端为圆心、半径为r的圆，则有："
   ]
  },
  {
   "cell_type": "markdown",
   "metadata": {},
   "source": [
    "$$\\int_{\\Gamma}w\\mathrm{d}x_2=\\int_{-\\pi}^{\\pi}wr\\cos{\\theta}\\mathrm{d}\\theta=\n",
    "\\int_{-\\pi}^{\\pi}\\frac{K_{1}^{2}}{2\\pi r}\\frac{1+\\mu}{E}\\cos^2{\\frac{\\theta}{2}}(1-2\\mu+\\sin^2{\\frac{\\theta}{2}})r\\cos{\\theta}\\mathrm{d}{\\theta}=\\frac{(1+\\mu)(1-2\\mu)}{4E}K_{1}^{2}$$"
   ]
  },
  {
   "cell_type": "markdown",
   "metadata": {},
   "source": [
    "$$T_1=\\sigma_{11}n_1+\\sigma_{12}n_2=\\sigma_{11}\\cos{\\theta}+\\sigma_{12}\\sin{\\theta}$$"
   ]
  },
  {
   "cell_type": "markdown",
   "metadata": {},
   "source": [
    "$$T_2=\\sigma_{21}n_1+\\sigma_{22}n_2=\\sigma_{21}\\cos{\\theta}+\\sigma_{22}\\sin{\\theta}$$"
   ]
  },
  {
   "cell_type": "markdown",
   "metadata": {},
   "source": [
    "$$T_1=\\frac{K_1}{\\sqrt{2\\pi r}}\\cos{\\frac{\\theta}{2}}(3\\cos^2{\\frac{\\theta}{2}}-2)$$"
   ]
  },
  {
   "cell_type": "markdown",
   "metadata": {},
   "source": [
    "$$T_2=\\frac{3K_1}{\\sqrt{2\\pi r}}\\cos^2{\\frac{\\theta}{2}}\\sin{\\frac{\\theta}{2}}$$"
   ]
  },
  {
   "cell_type": "markdown",
   "metadata": {},
   "source": [
    "$$u_1=u=\\frac{K_I}{G}\\sqrt{\\frac{r}{2\\pi}}\\cos{\\frac{\\theta}{2}}[1-2\\mu+\\sin^2\\frac{\\theta}{2}]$$"
   ]
  },
  {
   "cell_type": "markdown",
   "metadata": {},
   "source": [
    "$$u_2=\\nu=\\frac{K_I}{G}\\sqrt{\\frac{r}{2\\pi}}\\sin{\\frac{\\theta}{2}}[2-2\\mu-\\cos^2{\\frac{\\theta}{2}}]$$"
   ]
  },
  {
   "cell_type": "markdown",
   "metadata": {},
   "source": [
    "$$\\frac{\\partial}{\\partial{x_1}}=\\cos{\\theta}\\frac{\\partial}{\\partial r}-\\frac{\\sin{\\theta}}{r}\\frac{\\partial}{\\partial \\theta}$$"
   ]
  },
  {
   "cell_type": "markdown",
   "metadata": {},
   "source": [
    "$$\\int_{\\Gamma}T_i\\frac{\\partial u_i}{\\partial x_1}\\mathrm{d}{s}=\\int_{-\\pi}^{\\pi}(T_1\\frac{\\partial u_1}{\\partial x_1}+T_2\\frac{\\partial u_2}{\\partial x_1})r\\mathrm{\\theta}$$"
   ]
  },
  {
   "cell_type": "markdown",
   "metadata": {},
   "source": [
    "$$\\int_{\\Gamma}T_i\\frac{\\partial u_i}{\\partial x_1}\\mathrm{d}{s}=-\\frac{(1+\\mu)(3-2\\mu)}{4E}K_{I}^{2}$$"
   ]
  },
  {
   "cell_type": "markdown",
   "metadata": {},
   "source": [
    "$$J=\\int_{\\Gamma}(w\\mathrm{d}{x_2}-T_i\\frac{\\partial u_i}{\\partial x_1}\\mathrm{d}{s})=\\frac{1-{\\mu}^2}{E}K_{I}^{2}=G_I$$"
   ]
  },
  {
   "cell_type": "markdown",
   "metadata": {},
   "source": [
    "- 同理可以证明平面应力状态下有：\n",
    "\n"
   ]
  },
  {
   "cell_type": "markdown",
   "metadata": {},
   "source": [
    "$$J=\\int_{\\Gamma}(w\\mathrm{d}{x_2}-T_i\\frac{\\partial u_i}{\\partial x_1}\\mathrm{d}{s})=\\frac{1}{E}K_{I}^{2}=G_I$$"
   ]
  },
  {
   "cell_type": "markdown",
   "metadata": {},
   "source": [
    "### 弹塑性问题（J和$\\delta$的关系）"
   ]
  },
  {
   "cell_type": "markdown",
   "metadata": {},
   "source": [
    "$$J=\\int_{\\Gamma}(w\\mathrm{d}{x_2}-T_i\\frac{\\partial u_i}{\\partial x_1}\\mathrm{d}{s})$$\n",
    "$$\\mathrm{d}{x_2}=0$$\n",
    "$$J=\\int_{\\Gamma}T_i\\frac{\\partial u_i}{\\partial x_i}\\mathrm{d}{s}$$\n",
    "$$J=-2\\int_{A}^{B}\\sigma_s\\frac{\\partial \\nu}{\\partial x}\\mathrm{d}{x}=-\\int_{A}^{B}\\sigma_s\\frac{d}{dx}(2\\nu)\\mathrm{d}{x}=-\\sigma_s[(2\\nu)_B-(2\\nu)_A]$$"
   ]
  },
  {
   "cell_type": "markdown",
   "metadata": {},
   "source": [
    "塑性区呈尖窄劈形，B点的位移$\\nu_B=0$,A点的张开位移$\\delta=(2\\nu)_A$,于是"
   ]
  },
  {
   "cell_type": "markdown",
   "metadata": {},
   "source": [
    "$$J=\\sigma_s\\delta$$"
   ]
  },
  {
   "cell_type": "markdown",
   "metadata": {},
   "source": [
    "### 在介绍CTOD时：\n"
   ]
  },
  {
   "cell_type": "markdown",
   "metadata": {},
   "source": [
    "- D-M模型"
   ]
  },
  {
   "cell_type": "markdown",
   "metadata": {},
   "source": [
    "$$\\delta=\\frac{G_I}{\\sigma_s}$$  "
   ]
  },
  {
   "cell_type": "markdown",
   "metadata": {},
   "source": [
    "- 平面应力线弹性小范围屈服"
   ]
  },
  {
   "cell_type": "markdown",
   "metadata": {},
   "source": [
    "$$\\delta=\\frac{4}{\\pi}\\frac{G_I}{\\sigma_s}=1.27\\frac{G_I}{\\sigma_s}$$"
   ]
  },
  {
   "cell_type": "markdown",
   "metadata": {},
   "source": [
    "- 平面应变线弹性小范围屈服"
   ]
  },
  {
   "cell_type": "markdown",
   "metadata": {},
   "source": [
    "$$\\delta=\\frac{2\\sqrt{\\sqrt{2}}}{\\pi}\\frac{G_I}{\\sigma_s}=0.76\\frac{G_I}{\\sigma_s}$$"
   ]
  },
  {
   "cell_type": "markdown",
   "metadata": {},
   "source": [
    "- 实际应用中：（k=1~2.6）"
   ]
  },
  {
   "cell_type": "markdown",
   "metadata": {},
   "source": [
    "$$ J=k\\sigma_s\\delta$$"
   ]
  },
  {
   "cell_type": "markdown",
   "metadata": {},
   "source": [
    "- k 随着塑性区的增加而增加\n",
    "- k随着硬化指数n的增加而减小\n",
    "- k还与裂纹试样尺寸和裂纹形式有关"
   ]
  },
  {
   "cell_type": "markdown",
   "metadata": {},
   "source": [
    "## J积分断裂判据"
   ]
  },
  {
   "cell_type": "markdown",
   "metadata": {},
   "source": [
    "- 在弹塑性状态下，裂纹顶端附近的应力、应变场均由J唯一地确定，当裂纹顶端的应力、应变场达到裂纹开始扩展的临界状态时，J积分也达到临界值$J_IC$,裂纹体即发生失稳断裂。因此，在弹塑性状态下，可用J积分作为参量来建立断裂判据 "
   ]
  },
  {
   "cell_type": "markdown",
   "metadata": {},
   "source": [
    "- 在弹塑性撞他下，可用J积分作为参量来建立断裂判据："
   ]
  },
  {
   "cell_type": "markdown",
   "metadata": {},
   "source": [
    "$$J>J_c$$"
   ]
  }
 ],
 "metadata": {
  "kernelspec": {
   "display_name": "Python 3",
   "language": "python",
   "name": "python3"
  },
  "language_info": {
   "codemirror_mode": {
    "name": "ipython",
    "version": 3
   },
   "file_extension": ".py",
   "mimetype": "text/x-python",
   "name": "python",
   "nbconvert_exporter": "python",
   "pygments_lexer": "ipython3",
   "version": "3.6.1"
  },
  "toc": {
   "colors": {
    "hover_highlight": "#DAA520",
    "navigate_num": "#000000",
    "navigate_text": "#333333",
    "running_highlight": "#FF0000",
    "selected_highlight": "#FFD700",
    "sidebar_border": "#EEEEEE",
    "wrapper_background": "#FFFFFF"
   },
   "moveMenuLeft": true,
   "nav_menu": {
    "height": "67px",
    "width": "252px"
   },
   "navigate_menu": true,
   "number_sections": true,
   "sideBar": true,
   "threshold": 4,
   "toc_cell": false,
   "toc_section_display": "block",
   "toc_window_display": false,
   "widenNotebook": false
  }
 },
 "nbformat": 4,
 "nbformat_minor": 2
}
