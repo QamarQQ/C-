{
 "cells": [
  {
   "cell_type": "markdown",
   "metadata": {
    "collapsed": true
   },
   "source": [
    " # 10分钟简单介绍Pandas"
   ]
  },
  {
   "cell_type": "markdown",
   "metadata": {},
   "source": [
    "这是一个对pandas的简要介绍，涵盖了对于新手而言的基本使用。"
   ]
  },
  {
   "cell_type": "code",
   "execution_count": 1,
   "metadata": {
    "collapsed": true
   },
   "outputs": [],
   "source": [
    "import pandas as pd\n",
    "import numpy as np\n",
    "import matplotlib.pyplot as plt\n"
   ]
  },
  {
   "cell_type": "markdown",
   "metadata": {},
   "source": [
    "## Obeject Creation"
   ]
  },
  {
   "cell_type": "markdown",
   "metadata": {},
   "source": [
    "Pandas主要分为两大种类：\n",
    "\n",
    "- Series\n",
    "- DataFrame\n"
   ]
  },
  {
   "cell_type": "code",
   "execution_count": 2,
   "metadata": {
    "collapsed": true
   },
   "outputs": [],
   "source": [
    "s=pd.Series([1,2,3.6,6,\"qamar\",\"炫酷龙\"])"
   ]
  },
  {
   "cell_type": "code",
   "execution_count": 3,
   "metadata": {},
   "outputs": [
    {
     "data": {
      "text/plain": [
       "0        1\n",
       "1        2\n",
       "2      3.6\n",
       "3        6\n",
       "4    qamar\n",
       "5      炫酷龙\n",
       "dtype: object"
      ]
     },
     "execution_count": 3,
     "metadata": {},
     "output_type": "execute_result"
    }
   ],
   "source": [
    "s"
   ]
  },
  {
   "cell_type": "markdown",
   "metadata": {},
   "source": [
    "- DataFrame"
   ]
  },
  {
   "cell_type": "code",
   "execution_count": 4,
   "metadata": {
    "collapsed": true
   },
   "outputs": [],
   "source": [
    "dates=pd.date_range(\"20130101\",periods=6)"
   ]
  },
  {
   "cell_type": "code",
   "execution_count": 5,
   "metadata": {},
   "outputs": [
    {
     "data": {
      "text/plain": [
       "DatetimeIndex(['2013-01-01', '2013-01-02', '2013-01-03', '2013-01-04',\n",
       "               '2013-01-05', '2013-01-06'],\n",
       "              dtype='datetime64[ns]', freq='D')"
      ]
     },
     "execution_count": 5,
     "metadata": {},
     "output_type": "execute_result"
    }
   ],
   "source": [
    "dates"
   ]
  },
  {
   "cell_type": "code",
   "execution_count": 6,
   "metadata": {
    "collapsed": true
   },
   "outputs": [],
   "source": [
    "df=pd.DataFrame(np.random.randn(6,4),index=dates,columns=list(\"ABCD\"))"
   ]
  },
  {
   "cell_type": "code",
   "execution_count": 7,
   "metadata": {},
   "outputs": [
    {
     "data": {
      "text/html": [
       "<div>\n",
       "<style>\n",
       "    .dataframe thead tr:only-child th {\n",
       "        text-align: right;\n",
       "    }\n",
       "\n",
       "    .dataframe thead th {\n",
       "        text-align: left;\n",
       "    }\n",
       "\n",
       "    .dataframe tbody tr th {\n",
       "        vertical-align: top;\n",
       "    }\n",
       "</style>\n",
       "<table border=\"1\" class=\"dataframe\">\n",
       "  <thead>\n",
       "    <tr style=\"text-align: right;\">\n",
       "      <th></th>\n",
       "      <th>A</th>\n",
       "      <th>B</th>\n",
       "      <th>C</th>\n",
       "      <th>D</th>\n",
       "    </tr>\n",
       "  </thead>\n",
       "  <tbody>\n",
       "    <tr>\n",
       "      <th>2013-01-01</th>\n",
       "      <td>0.562931</td>\n",
       "      <td>-0.131550</td>\n",
       "      <td>1.131439</td>\n",
       "      <td>1.094483</td>\n",
       "    </tr>\n",
       "    <tr>\n",
       "      <th>2013-01-02</th>\n",
       "      <td>-1.156791</td>\n",
       "      <td>0.695225</td>\n",
       "      <td>-1.481043</td>\n",
       "      <td>-0.592337</td>\n",
       "    </tr>\n",
       "    <tr>\n",
       "      <th>2013-01-03</th>\n",
       "      <td>0.151178</td>\n",
       "      <td>0.179467</td>\n",
       "      <td>-0.222623</td>\n",
       "      <td>-0.537431</td>\n",
       "    </tr>\n",
       "    <tr>\n",
       "      <th>2013-01-04</th>\n",
       "      <td>0.119923</td>\n",
       "      <td>0.650069</td>\n",
       "      <td>0.720750</td>\n",
       "      <td>-0.760978</td>\n",
       "    </tr>\n",
       "    <tr>\n",
       "      <th>2013-01-05</th>\n",
       "      <td>-0.051360</td>\n",
       "      <td>0.261210</td>\n",
       "      <td>-1.779293</td>\n",
       "      <td>-1.421486</td>\n",
       "    </tr>\n",
       "    <tr>\n",
       "      <th>2013-01-06</th>\n",
       "      <td>1.211963</td>\n",
       "      <td>0.162116</td>\n",
       "      <td>-0.795570</td>\n",
       "      <td>0.977123</td>\n",
       "    </tr>\n",
       "  </tbody>\n",
       "</table>\n",
       "</div>"
      ],
      "text/plain": [
       "                   A         B         C         D\n",
       "2013-01-01  0.562931 -0.131550  1.131439  1.094483\n",
       "2013-01-02 -1.156791  0.695225 -1.481043 -0.592337\n",
       "2013-01-03  0.151178  0.179467 -0.222623 -0.537431\n",
       "2013-01-04  0.119923  0.650069  0.720750 -0.760978\n",
       "2013-01-05 -0.051360  0.261210 -1.779293 -1.421486\n",
       "2013-01-06  1.211963  0.162116 -0.795570  0.977123"
      ]
     },
     "execution_count": 7,
     "metadata": {},
     "output_type": "execute_result"
    }
   ],
   "source": [
    "df\n"
   ]
  },
  {
   "cell_type": "code",
   "execution_count": 8,
   "metadata": {
    "collapsed": true
   },
   "outputs": [],
   "source": [
    "df2=pd.DataFrame({\"A\":1.,\n",
    "                 \"B\":pd.Timestamp(\"20130102\"),\n",
    "                 \"C\":pd.Series(1,index=list(range(4)),dtype=\"float32\"),\n",
    "                 \"D\":np.array([3]*4,dtype=\"int32\"),\n",
    "                 \"E\":pd.Categorical([\"test\",\"train\",\"test\",\"train\"]),\n",
    "                 \"F\":\"foo\"})"
   ]
  },
  {
   "cell_type": "code",
   "execution_count": 9,
   "metadata": {},
   "outputs": [
    {
     "data": {
      "text/html": [
       "<div>\n",
       "<style>\n",
       "    .dataframe thead tr:only-child th {\n",
       "        text-align: right;\n",
       "    }\n",
       "\n",
       "    .dataframe thead th {\n",
       "        text-align: left;\n",
       "    }\n",
       "\n",
       "    .dataframe tbody tr th {\n",
       "        vertical-align: top;\n",
       "    }\n",
       "</style>\n",
       "<table border=\"1\" class=\"dataframe\">\n",
       "  <thead>\n",
       "    <tr style=\"text-align: right;\">\n",
       "      <th></th>\n",
       "      <th>A</th>\n",
       "      <th>B</th>\n",
       "      <th>C</th>\n",
       "      <th>D</th>\n",
       "      <th>E</th>\n",
       "      <th>F</th>\n",
       "    </tr>\n",
       "  </thead>\n",
       "  <tbody>\n",
       "    <tr>\n",
       "      <th>0</th>\n",
       "      <td>1.0</td>\n",
       "      <td>2013-01-02</td>\n",
       "      <td>1.0</td>\n",
       "      <td>3</td>\n",
       "      <td>test</td>\n",
       "      <td>foo</td>\n",
       "    </tr>\n",
       "    <tr>\n",
       "      <th>1</th>\n",
       "      <td>1.0</td>\n",
       "      <td>2013-01-02</td>\n",
       "      <td>1.0</td>\n",
       "      <td>3</td>\n",
       "      <td>train</td>\n",
       "      <td>foo</td>\n",
       "    </tr>\n",
       "    <tr>\n",
       "      <th>2</th>\n",
       "      <td>1.0</td>\n",
       "      <td>2013-01-02</td>\n",
       "      <td>1.0</td>\n",
       "      <td>3</td>\n",
       "      <td>test</td>\n",
       "      <td>foo</td>\n",
       "    </tr>\n",
       "    <tr>\n",
       "      <th>3</th>\n",
       "      <td>1.0</td>\n",
       "      <td>2013-01-02</td>\n",
       "      <td>1.0</td>\n",
       "      <td>3</td>\n",
       "      <td>train</td>\n",
       "      <td>foo</td>\n",
       "    </tr>\n",
       "  </tbody>\n",
       "</table>\n",
       "</div>"
      ],
      "text/plain": [
       "     A          B    C  D      E    F\n",
       "0  1.0 2013-01-02  1.0  3   test  foo\n",
       "1  1.0 2013-01-02  1.0  3  train  foo\n",
       "2  1.0 2013-01-02  1.0  3   test  foo\n",
       "3  1.0 2013-01-02  1.0  3  train  foo"
      ]
     },
     "execution_count": 9,
     "metadata": {},
     "output_type": "execute_result"
    }
   ],
   "source": [
    "df2\n"
   ]
  },
  {
   "cell_type": "code",
   "execution_count": 10,
   "metadata": {},
   "outputs": [
    {
     "data": {
      "text/plain": [
       "A           float64\n",
       "B    datetime64[ns]\n",
       "C           float32\n",
       "D             int32\n",
       "E          category\n",
       "F            object\n",
       "dtype: object"
      ]
     },
     "execution_count": 10,
     "metadata": {},
     "output_type": "execute_result"
    }
   ],
   "source": [
    "df2.dtypes"
   ]
  },
  {
   "cell_type": "code",
   "execution_count": 13,
   "metadata": {},
   "outputs": [
    {
     "data": {
      "text/plain": [
       "pandas.core.frame.DataFrame"
      ]
     },
     "execution_count": 13,
     "metadata": {},
     "output_type": "execute_result"
    }
   ],
   "source": [
    "type(df2)"
   ]
  },
  {
   "cell_type": "code",
   "execution_count": 14,
   "metadata": {},
   "outputs": [
    {
     "ename": "SyntaxError",
     "evalue": "invalid syntax (<ipython-input-14-7615048b0b6e>, line 1)",
     "output_type": "error",
     "traceback": [
      "\u001b[1;36m  File \u001b[1;32m\"<ipython-input-14-7615048b0b6e>\"\u001b[1;36m, line \u001b[1;32m1\u001b[0m\n\u001b[1;33m    df.##click double <Tab>\u001b[0m\n\u001b[1;37m                           ^\u001b[0m\n\u001b[1;31mSyntaxError\u001b[0m\u001b[1;31m:\u001b[0m invalid syntax\n"
     ]
    }
   ],
   "source": [
    "df.##click double <Tab>"
   ]
  },
  {
   "cell_type": "markdown",
   "metadata": {},
   "source": [
    "## 查看数据"
   ]
  },
  {
   "cell_type": "code",
   "execution_count": 15,
   "metadata": {},
   "outputs": [
    {
     "data": {
      "text/html": [
       "<div>\n",
       "<style>\n",
       "    .dataframe thead tr:only-child th {\n",
       "        text-align: right;\n",
       "    }\n",
       "\n",
       "    .dataframe thead th {\n",
       "        text-align: left;\n",
       "    }\n",
       "\n",
       "    .dataframe tbody tr th {\n",
       "        vertical-align: top;\n",
       "    }\n",
       "</style>\n",
       "<table border=\"1\" class=\"dataframe\">\n",
       "  <thead>\n",
       "    <tr style=\"text-align: right;\">\n",
       "      <th></th>\n",
       "      <th>A</th>\n",
       "      <th>B</th>\n",
       "      <th>C</th>\n",
       "      <th>D</th>\n",
       "    </tr>\n",
       "  </thead>\n",
       "  <tbody>\n",
       "    <tr>\n",
       "      <th>2013-01-01</th>\n",
       "      <td>0.562931</td>\n",
       "      <td>-0.131550</td>\n",
       "      <td>1.131439</td>\n",
       "      <td>1.094483</td>\n",
       "    </tr>\n",
       "    <tr>\n",
       "      <th>2013-01-02</th>\n",
       "      <td>-1.156791</td>\n",
       "      <td>0.695225</td>\n",
       "      <td>-1.481043</td>\n",
       "      <td>-0.592337</td>\n",
       "    </tr>\n",
       "    <tr>\n",
       "      <th>2013-01-03</th>\n",
       "      <td>0.151178</td>\n",
       "      <td>0.179467</td>\n",
       "      <td>-0.222623</td>\n",
       "      <td>-0.537431</td>\n",
       "    </tr>\n",
       "    <tr>\n",
       "      <th>2013-01-04</th>\n",
       "      <td>0.119923</td>\n",
       "      <td>0.650069</td>\n",
       "      <td>0.720750</td>\n",
       "      <td>-0.760978</td>\n",
       "    </tr>\n",
       "    <tr>\n",
       "      <th>2013-01-05</th>\n",
       "      <td>-0.051360</td>\n",
       "      <td>0.261210</td>\n",
       "      <td>-1.779293</td>\n",
       "      <td>-1.421486</td>\n",
       "    </tr>\n",
       "  </tbody>\n",
       "</table>\n",
       "</div>"
      ],
      "text/plain": [
       "                   A         B         C         D\n",
       "2013-01-01  0.562931 -0.131550  1.131439  1.094483\n",
       "2013-01-02 -1.156791  0.695225 -1.481043 -0.592337\n",
       "2013-01-03  0.151178  0.179467 -0.222623 -0.537431\n",
       "2013-01-04  0.119923  0.650069  0.720750 -0.760978\n",
       "2013-01-05 -0.051360  0.261210 -1.779293 -1.421486"
      ]
     },
     "execution_count": 15,
     "metadata": {},
     "output_type": "execute_result"
    }
   ],
   "source": [
    "df.head()"
   ]
  },
  {
   "cell_type": "code",
   "execution_count": 16,
   "metadata": {},
   "outputs": [
    {
     "data": {
      "text/html": [
       "<div>\n",
       "<style>\n",
       "    .dataframe thead tr:only-child th {\n",
       "        text-align: right;\n",
       "    }\n",
       "\n",
       "    .dataframe thead th {\n",
       "        text-align: left;\n",
       "    }\n",
       "\n",
       "    .dataframe tbody tr th {\n",
       "        vertical-align: top;\n",
       "    }\n",
       "</style>\n",
       "<table border=\"1\" class=\"dataframe\">\n",
       "  <thead>\n",
       "    <tr style=\"text-align: right;\">\n",
       "      <th></th>\n",
       "      <th>A</th>\n",
       "      <th>B</th>\n",
       "      <th>C</th>\n",
       "      <th>D</th>\n",
       "    </tr>\n",
       "  </thead>\n",
       "  <tbody>\n",
       "    <tr>\n",
       "      <th>2013-01-01</th>\n",
       "      <td>0.562931</td>\n",
       "      <td>-0.131550</td>\n",
       "      <td>1.131439</td>\n",
       "      <td>1.094483</td>\n",
       "    </tr>\n",
       "    <tr>\n",
       "      <th>2013-01-02</th>\n",
       "      <td>-1.156791</td>\n",
       "      <td>0.695225</td>\n",
       "      <td>-1.481043</td>\n",
       "      <td>-0.592337</td>\n",
       "    </tr>\n",
       "    <tr>\n",
       "      <th>2013-01-03</th>\n",
       "      <td>0.151178</td>\n",
       "      <td>0.179467</td>\n",
       "      <td>-0.222623</td>\n",
       "      <td>-0.537431</td>\n",
       "    </tr>\n",
       "  </tbody>\n",
       "</table>\n",
       "</div>"
      ],
      "text/plain": [
       "                   A         B         C         D\n",
       "2013-01-01  0.562931 -0.131550  1.131439  1.094483\n",
       "2013-01-02 -1.156791  0.695225 -1.481043 -0.592337\n",
       "2013-01-03  0.151178  0.179467 -0.222623 -0.537431"
      ]
     },
     "execution_count": 16,
     "metadata": {},
     "output_type": "execute_result"
    }
   ],
   "source": [
    "df.head(3)"
   ]
  },
  {
   "cell_type": "code",
   "execution_count": 18,
   "metadata": {},
   "outputs": [
    {
     "data": {
      "text/html": [
       "<div>\n",
       "<style>\n",
       "    .dataframe thead tr:only-child th {\n",
       "        text-align: right;\n",
       "    }\n",
       "\n",
       "    .dataframe thead th {\n",
       "        text-align: left;\n",
       "    }\n",
       "\n",
       "    .dataframe tbody tr th {\n",
       "        vertical-align: top;\n",
       "    }\n",
       "</style>\n",
       "<table border=\"1\" class=\"dataframe\">\n",
       "  <thead>\n",
       "    <tr style=\"text-align: right;\">\n",
       "      <th></th>\n",
       "      <th>A</th>\n",
       "      <th>B</th>\n",
       "      <th>C</th>\n",
       "      <th>D</th>\n",
       "    </tr>\n",
       "  </thead>\n",
       "  <tbody>\n",
       "    <tr>\n",
       "      <th>2013-01-04</th>\n",
       "      <td>0.119923</td>\n",
       "      <td>0.650069</td>\n",
       "      <td>0.720750</td>\n",
       "      <td>-0.760978</td>\n",
       "    </tr>\n",
       "    <tr>\n",
       "      <th>2013-01-05</th>\n",
       "      <td>-0.051360</td>\n",
       "      <td>0.261210</td>\n",
       "      <td>-1.779293</td>\n",
       "      <td>-1.421486</td>\n",
       "    </tr>\n",
       "    <tr>\n",
       "      <th>2013-01-06</th>\n",
       "      <td>1.211963</td>\n",
       "      <td>0.162116</td>\n",
       "      <td>-0.795570</td>\n",
       "      <td>0.977123</td>\n",
       "    </tr>\n",
       "  </tbody>\n",
       "</table>\n",
       "</div>"
      ],
      "text/plain": [
       "                   A         B         C         D\n",
       "2013-01-04  0.119923  0.650069  0.720750 -0.760978\n",
       "2013-01-05 -0.051360  0.261210 -1.779293 -1.421486\n",
       "2013-01-06  1.211963  0.162116 -0.795570  0.977123"
      ]
     },
     "execution_count": 18,
     "metadata": {},
     "output_type": "execute_result"
    }
   ],
   "source": [
    "df.tail(3)"
   ]
  },
  {
   "cell_type": "markdown",
   "metadata": {},
   "source": [
    "- 显示下标，列名，以及Numpy形式的数据"
   ]
  },
  {
   "cell_type": "code",
   "execution_count": 19,
   "metadata": {},
   "outputs": [
    {
     "data": {
      "text/plain": [
       "DatetimeIndex(['2013-01-01', '2013-01-02', '2013-01-03', '2013-01-04',\n",
       "               '2013-01-05', '2013-01-06'],\n",
       "              dtype='datetime64[ns]', freq='D')"
      ]
     },
     "execution_count": 19,
     "metadata": {},
     "output_type": "execute_result"
    }
   ],
   "source": [
    "df.index"
   ]
  },
  {
   "cell_type": "code",
   "execution_count": 20,
   "metadata": {},
   "outputs": [
    {
     "data": {
      "text/plain": [
       "Index(['A', 'B', 'C', 'D'], dtype='object')"
      ]
     },
     "execution_count": 20,
     "metadata": {},
     "output_type": "execute_result"
    }
   ],
   "source": [
    "df.columns"
   ]
  },
  {
   "cell_type": "code",
   "execution_count": 21,
   "metadata": {},
   "outputs": [
    {
     "data": {
      "text/plain": [
       "array([[ 0.56293076, -0.13155019,  1.1314395 ,  1.09448322],\n",
       "       [-1.15679107,  0.69522494, -1.48104303, -0.59233675],\n",
       "       [ 0.15117794,  0.17946732, -0.22262279, -0.53743066],\n",
       "       [ 0.11992288,  0.65006921,  0.7207501 , -0.76097834],\n",
       "       [-0.05135955,  0.26120974, -1.77929328, -1.42148613],\n",
       "       [ 1.21196343,  0.16211576, -0.79556989,  0.97712259]])"
      ]
     },
     "execution_count": 21,
     "metadata": {},
     "output_type": "execute_result"
    }
   ],
   "source": [
    "df.values"
   ]
  },
  {
   "cell_type": "markdown",
   "metadata": {},
   "source": [
    "- 快速统计分析"
   ]
  },
  {
   "cell_type": "code",
   "execution_count": 22,
   "metadata": {},
   "outputs": [
    {
     "data": {
      "text/html": [
       "<div>\n",
       "<style>\n",
       "    .dataframe thead tr:only-child th {\n",
       "        text-align: right;\n",
       "    }\n",
       "\n",
       "    .dataframe thead th {\n",
       "        text-align: left;\n",
       "    }\n",
       "\n",
       "    .dataframe tbody tr th {\n",
       "        vertical-align: top;\n",
       "    }\n",
       "</style>\n",
       "<table border=\"1\" class=\"dataframe\">\n",
       "  <thead>\n",
       "    <tr style=\"text-align: right;\">\n",
       "      <th></th>\n",
       "      <th>A</th>\n",
       "      <th>B</th>\n",
       "      <th>C</th>\n",
       "      <th>D</th>\n",
       "    </tr>\n",
       "  </thead>\n",
       "  <tbody>\n",
       "    <tr>\n",
       "      <th>count</th>\n",
       "      <td>6.000000</td>\n",
       "      <td>6.000000</td>\n",
       "      <td>6.000000</td>\n",
       "      <td>6.000000</td>\n",
       "    </tr>\n",
       "    <tr>\n",
       "      <th>mean</th>\n",
       "      <td>0.139641</td>\n",
       "      <td>0.302756</td>\n",
       "      <td>-0.404390</td>\n",
       "      <td>-0.206771</td>\n",
       "    </tr>\n",
       "    <tr>\n",
       "      <th>std</th>\n",
       "      <td>0.780614</td>\n",
       "      <td>0.316223</td>\n",
       "      <td>1.171351</td>\n",
       "      <td>1.013464</td>\n",
       "    </tr>\n",
       "    <tr>\n",
       "      <th>min</th>\n",
       "      <td>-1.156791</td>\n",
       "      <td>-0.131550</td>\n",
       "      <td>-1.779293</td>\n",
       "      <td>-1.421486</td>\n",
       "    </tr>\n",
       "    <tr>\n",
       "      <th>25%</th>\n",
       "      <td>-0.008539</td>\n",
       "      <td>0.166454</td>\n",
       "      <td>-1.309675</td>\n",
       "      <td>-0.718818</td>\n",
       "    </tr>\n",
       "    <tr>\n",
       "      <th>50%</th>\n",
       "      <td>0.135550</td>\n",
       "      <td>0.220339</td>\n",
       "      <td>-0.509096</td>\n",
       "      <td>-0.564884</td>\n",
       "    </tr>\n",
       "    <tr>\n",
       "      <th>75%</th>\n",
       "      <td>0.459993</td>\n",
       "      <td>0.552854</td>\n",
       "      <td>0.484907</td>\n",
       "      <td>0.598484</td>\n",
       "    </tr>\n",
       "    <tr>\n",
       "      <th>max</th>\n",
       "      <td>1.211963</td>\n",
       "      <td>0.695225</td>\n",
       "      <td>1.131439</td>\n",
       "      <td>1.094483</td>\n",
       "    </tr>\n",
       "  </tbody>\n",
       "</table>\n",
       "</div>"
      ],
      "text/plain": [
       "              A         B         C         D\n",
       "count  6.000000  6.000000  6.000000  6.000000\n",
       "mean   0.139641  0.302756 -0.404390 -0.206771\n",
       "std    0.780614  0.316223  1.171351  1.013464\n",
       "min   -1.156791 -0.131550 -1.779293 -1.421486\n",
       "25%   -0.008539  0.166454 -1.309675 -0.718818\n",
       "50%    0.135550  0.220339 -0.509096 -0.564884\n",
       "75%    0.459993  0.552854  0.484907  0.598484\n",
       "max    1.211963  0.695225  1.131439  1.094483"
      ]
     },
     "execution_count": 22,
     "metadata": {},
     "output_type": "execute_result"
    }
   ],
   "source": [
    "df.describe()"
   ]
  },
  {
   "cell_type": "markdown",
   "metadata": {},
   "source": [
    "- 转置数据"
   ]
  },
  {
   "cell_type": "code",
   "execution_count": 23,
   "metadata": {},
   "outputs": [
    {
     "data": {
      "text/html": [
       "<div>\n",
       "<style>\n",
       "    .dataframe thead tr:only-child th {\n",
       "        text-align: right;\n",
       "    }\n",
       "\n",
       "    .dataframe thead th {\n",
       "        text-align: left;\n",
       "    }\n",
       "\n",
       "    .dataframe tbody tr th {\n",
       "        vertical-align: top;\n",
       "    }\n",
       "</style>\n",
       "<table border=\"1\" class=\"dataframe\">\n",
       "  <thead>\n",
       "    <tr style=\"text-align: right;\">\n",
       "      <th></th>\n",
       "      <th>2013-01-01 00:00:00</th>\n",
       "      <th>2013-01-02 00:00:00</th>\n",
       "      <th>2013-01-03 00:00:00</th>\n",
       "      <th>2013-01-04 00:00:00</th>\n",
       "      <th>2013-01-05 00:00:00</th>\n",
       "      <th>2013-01-06 00:00:00</th>\n",
       "    </tr>\n",
       "  </thead>\n",
       "  <tbody>\n",
       "    <tr>\n",
       "      <th>A</th>\n",
       "      <td>0.562931</td>\n",
       "      <td>-1.156791</td>\n",
       "      <td>0.151178</td>\n",
       "      <td>0.119923</td>\n",
       "      <td>-0.051360</td>\n",
       "      <td>1.211963</td>\n",
       "    </tr>\n",
       "    <tr>\n",
       "      <th>B</th>\n",
       "      <td>-0.131550</td>\n",
       "      <td>0.695225</td>\n",
       "      <td>0.179467</td>\n",
       "      <td>0.650069</td>\n",
       "      <td>0.261210</td>\n",
       "      <td>0.162116</td>\n",
       "    </tr>\n",
       "    <tr>\n",
       "      <th>C</th>\n",
       "      <td>1.131439</td>\n",
       "      <td>-1.481043</td>\n",
       "      <td>-0.222623</td>\n",
       "      <td>0.720750</td>\n",
       "      <td>-1.779293</td>\n",
       "      <td>-0.795570</td>\n",
       "    </tr>\n",
       "    <tr>\n",
       "      <th>D</th>\n",
       "      <td>1.094483</td>\n",
       "      <td>-0.592337</td>\n",
       "      <td>-0.537431</td>\n",
       "      <td>-0.760978</td>\n",
       "      <td>-1.421486</td>\n",
       "      <td>0.977123</td>\n",
       "    </tr>\n",
       "  </tbody>\n",
       "</table>\n",
       "</div>"
      ],
      "text/plain": [
       "   2013-01-01  2013-01-02  2013-01-03  2013-01-04  2013-01-05  2013-01-06\n",
       "A    0.562931   -1.156791    0.151178    0.119923   -0.051360    1.211963\n",
       "B   -0.131550    0.695225    0.179467    0.650069    0.261210    0.162116\n",
       "C    1.131439   -1.481043   -0.222623    0.720750   -1.779293   -0.795570\n",
       "D    1.094483   -0.592337   -0.537431   -0.760978   -1.421486    0.977123"
      ]
     },
     "execution_count": 23,
     "metadata": {},
     "output_type": "execute_result"
    }
   ],
   "source": [
    "df.T"
   ]
  },
  {
   "cell_type": "markdown",
   "metadata": {},
   "source": [
    "- 按轴排序"
   ]
  },
  {
   "cell_type": "code",
   "execution_count": 24,
   "metadata": {},
   "outputs": [
    {
     "data": {
      "text/html": [
       "<div>\n",
       "<style>\n",
       "    .dataframe thead tr:only-child th {\n",
       "        text-align: right;\n",
       "    }\n",
       "\n",
       "    .dataframe thead th {\n",
       "        text-align: left;\n",
       "    }\n",
       "\n",
       "    .dataframe tbody tr th {\n",
       "        vertical-align: top;\n",
       "    }\n",
       "</style>\n",
       "<table border=\"1\" class=\"dataframe\">\n",
       "  <thead>\n",
       "    <tr style=\"text-align: right;\">\n",
       "      <th></th>\n",
       "      <th>D</th>\n",
       "      <th>C</th>\n",
       "      <th>B</th>\n",
       "      <th>A</th>\n",
       "    </tr>\n",
       "  </thead>\n",
       "  <tbody>\n",
       "    <tr>\n",
       "      <th>2013-01-01</th>\n",
       "      <td>1.094483</td>\n",
       "      <td>1.131439</td>\n",
       "      <td>-0.131550</td>\n",
       "      <td>0.562931</td>\n",
       "    </tr>\n",
       "    <tr>\n",
       "      <th>2013-01-02</th>\n",
       "      <td>-0.592337</td>\n",
       "      <td>-1.481043</td>\n",
       "      <td>0.695225</td>\n",
       "      <td>-1.156791</td>\n",
       "    </tr>\n",
       "    <tr>\n",
       "      <th>2013-01-03</th>\n",
       "      <td>-0.537431</td>\n",
       "      <td>-0.222623</td>\n",
       "      <td>0.179467</td>\n",
       "      <td>0.151178</td>\n",
       "    </tr>\n",
       "    <tr>\n",
       "      <th>2013-01-04</th>\n",
       "      <td>-0.760978</td>\n",
       "      <td>0.720750</td>\n",
       "      <td>0.650069</td>\n",
       "      <td>0.119923</td>\n",
       "    </tr>\n",
       "    <tr>\n",
       "      <th>2013-01-05</th>\n",
       "      <td>-1.421486</td>\n",
       "      <td>-1.779293</td>\n",
       "      <td>0.261210</td>\n",
       "      <td>-0.051360</td>\n",
       "    </tr>\n",
       "    <tr>\n",
       "      <th>2013-01-06</th>\n",
       "      <td>0.977123</td>\n",
       "      <td>-0.795570</td>\n",
       "      <td>0.162116</td>\n",
       "      <td>1.211963</td>\n",
       "    </tr>\n",
       "  </tbody>\n",
       "</table>\n",
       "</div>"
      ],
      "text/plain": [
       "                   D         C         B         A\n",
       "2013-01-01  1.094483  1.131439 -0.131550  0.562931\n",
       "2013-01-02 -0.592337 -1.481043  0.695225 -1.156791\n",
       "2013-01-03 -0.537431 -0.222623  0.179467  0.151178\n",
       "2013-01-04 -0.760978  0.720750  0.650069  0.119923\n",
       "2013-01-05 -1.421486 -1.779293  0.261210 -0.051360\n",
       "2013-01-06  0.977123 -0.795570  0.162116  1.211963"
      ]
     },
     "execution_count": 24,
     "metadata": {},
     "output_type": "execute_result"
    }
   ],
   "source": [
    "df.sort_index(axis=1,ascending=False)"
   ]
  },
  {
   "cell_type": "markdown",
   "metadata": {},
   "source": [
    "- 按值排序"
   ]
  },
  {
   "cell_type": "code",
   "execution_count": 25,
   "metadata": {},
   "outputs": [
    {
     "data": {
      "text/html": [
       "<div>\n",
       "<style>\n",
       "    .dataframe thead tr:only-child th {\n",
       "        text-align: right;\n",
       "    }\n",
       "\n",
       "    .dataframe thead th {\n",
       "        text-align: left;\n",
       "    }\n",
       "\n",
       "    .dataframe tbody tr th {\n",
       "        vertical-align: top;\n",
       "    }\n",
       "</style>\n",
       "<table border=\"1\" class=\"dataframe\">\n",
       "  <thead>\n",
       "    <tr style=\"text-align: right;\">\n",
       "      <th></th>\n",
       "      <th>A</th>\n",
       "      <th>B</th>\n",
       "      <th>C</th>\n",
       "      <th>D</th>\n",
       "    </tr>\n",
       "  </thead>\n",
       "  <tbody>\n",
       "    <tr>\n",
       "      <th>2013-01-01</th>\n",
       "      <td>0.562931</td>\n",
       "      <td>-0.131550</td>\n",
       "      <td>1.131439</td>\n",
       "      <td>1.094483</td>\n",
       "    </tr>\n",
       "    <tr>\n",
       "      <th>2013-01-06</th>\n",
       "      <td>1.211963</td>\n",
       "      <td>0.162116</td>\n",
       "      <td>-0.795570</td>\n",
       "      <td>0.977123</td>\n",
       "    </tr>\n",
       "    <tr>\n",
       "      <th>2013-01-03</th>\n",
       "      <td>0.151178</td>\n",
       "      <td>0.179467</td>\n",
       "      <td>-0.222623</td>\n",
       "      <td>-0.537431</td>\n",
       "    </tr>\n",
       "    <tr>\n",
       "      <th>2013-01-05</th>\n",
       "      <td>-0.051360</td>\n",
       "      <td>0.261210</td>\n",
       "      <td>-1.779293</td>\n",
       "      <td>-1.421486</td>\n",
       "    </tr>\n",
       "    <tr>\n",
       "      <th>2013-01-04</th>\n",
       "      <td>0.119923</td>\n",
       "      <td>0.650069</td>\n",
       "      <td>0.720750</td>\n",
       "      <td>-0.760978</td>\n",
       "    </tr>\n",
       "    <tr>\n",
       "      <th>2013-01-02</th>\n",
       "      <td>-1.156791</td>\n",
       "      <td>0.695225</td>\n",
       "      <td>-1.481043</td>\n",
       "      <td>-0.592337</td>\n",
       "    </tr>\n",
       "  </tbody>\n",
       "</table>\n",
       "</div>"
      ],
      "text/plain": [
       "                   A         B         C         D\n",
       "2013-01-01  0.562931 -0.131550  1.131439  1.094483\n",
       "2013-01-06  1.211963  0.162116 -0.795570  0.977123\n",
       "2013-01-03  0.151178  0.179467 -0.222623 -0.537431\n",
       "2013-01-05 -0.051360  0.261210 -1.779293 -1.421486\n",
       "2013-01-04  0.119923  0.650069  0.720750 -0.760978\n",
       "2013-01-02 -1.156791  0.695225 -1.481043 -0.592337"
      ]
     },
     "execution_count": 25,
     "metadata": {},
     "output_type": "execute_result"
    }
   ],
   "source": [
    "df.sort_values(by=\"B\")"
   ]
  },
  {
   "cell_type": "markdown",
   "metadata": {},
   "source": [
    "## 选择"
   ]
  },
  {
   "cell_type": "markdown",
   "metadata": {},
   "source": [
    "### 获得数据："
   ]
  },
  {
   "cell_type": "code",
   "execution_count": 26,
   "metadata": {},
   "outputs": [
    {
     "data": {
      "text/plain": [
       "2013-01-01    0.562931\n",
       "2013-01-02   -1.156791\n",
       "2013-01-03    0.151178\n",
       "2013-01-04    0.119923\n",
       "2013-01-05   -0.051360\n",
       "2013-01-06    1.211963\n",
       "Freq: D, Name: A, dtype: float64"
      ]
     },
     "execution_count": 26,
     "metadata": {},
     "output_type": "execute_result"
    }
   ],
   "source": [
    "df[\"A\"]"
   ]
  },
  {
   "cell_type": "code",
   "execution_count": 27,
   "metadata": {},
   "outputs": [
    {
     "data": {
      "text/html": [
       "<div>\n",
       "<style>\n",
       "    .dataframe thead tr:only-child th {\n",
       "        text-align: right;\n",
       "    }\n",
       "\n",
       "    .dataframe thead th {\n",
       "        text-align: left;\n",
       "    }\n",
       "\n",
       "    .dataframe tbody tr th {\n",
       "        vertical-align: top;\n",
       "    }\n",
       "</style>\n",
       "<table border=\"1\" class=\"dataframe\">\n",
       "  <thead>\n",
       "    <tr style=\"text-align: right;\">\n",
       "      <th></th>\n",
       "      <th>A</th>\n",
       "      <th>B</th>\n",
       "      <th>C</th>\n",
       "      <th>D</th>\n",
       "    </tr>\n",
       "  </thead>\n",
       "  <tbody>\n",
       "    <tr>\n",
       "      <th>2013-01-01</th>\n",
       "      <td>0.562931</td>\n",
       "      <td>-0.131550</td>\n",
       "      <td>1.131439</td>\n",
       "      <td>1.094483</td>\n",
       "    </tr>\n",
       "    <tr>\n",
       "      <th>2013-01-02</th>\n",
       "      <td>-1.156791</td>\n",
       "      <td>0.695225</td>\n",
       "      <td>-1.481043</td>\n",
       "      <td>-0.592337</td>\n",
       "    </tr>\n",
       "    <tr>\n",
       "      <th>2013-01-03</th>\n",
       "      <td>0.151178</td>\n",
       "      <td>0.179467</td>\n",
       "      <td>-0.222623</td>\n",
       "      <td>-0.537431</td>\n",
       "    </tr>\n",
       "  </tbody>\n",
       "</table>\n",
       "</div>"
      ],
      "text/plain": [
       "                   A         B         C         D\n",
       "2013-01-01  0.562931 -0.131550  1.131439  1.094483\n",
       "2013-01-02 -1.156791  0.695225 -1.481043 -0.592337\n",
       "2013-01-03  0.151178  0.179467 -0.222623 -0.537431"
      ]
     },
     "execution_count": 27,
     "metadata": {},
     "output_type": "execute_result"
    }
   ],
   "source": [
    "df[0:3]"
   ]
  },
  {
   "cell_type": "code",
   "execution_count": 29,
   "metadata": {},
   "outputs": [
    {
     "data": {
      "text/html": [
       "<div>\n",
       "<style>\n",
       "    .dataframe thead tr:only-child th {\n",
       "        text-align: right;\n",
       "    }\n",
       "\n",
       "    .dataframe thead th {\n",
       "        text-align: left;\n",
       "    }\n",
       "\n",
       "    .dataframe tbody tr th {\n",
       "        vertical-align: top;\n",
       "    }\n",
       "</style>\n",
       "<table border=\"1\" class=\"dataframe\">\n",
       "  <thead>\n",
       "    <tr style=\"text-align: right;\">\n",
       "      <th></th>\n",
       "      <th>A</th>\n",
       "      <th>C</th>\n",
       "      <th>D</th>\n",
       "    </tr>\n",
       "  </thead>\n",
       "  <tbody>\n",
       "    <tr>\n",
       "      <th>2013-01-01</th>\n",
       "      <td>0.562931</td>\n",
       "      <td>1.131439</td>\n",
       "      <td>1.094483</td>\n",
       "    </tr>\n",
       "    <tr>\n",
       "      <th>2013-01-02</th>\n",
       "      <td>-1.156791</td>\n",
       "      <td>-1.481043</td>\n",
       "      <td>-0.592337</td>\n",
       "    </tr>\n",
       "    <tr>\n",
       "      <th>2013-01-03</th>\n",
       "      <td>0.151178</td>\n",
       "      <td>-0.222623</td>\n",
       "      <td>-0.537431</td>\n",
       "    </tr>\n",
       "    <tr>\n",
       "      <th>2013-01-04</th>\n",
       "      <td>0.119923</td>\n",
       "      <td>0.720750</td>\n",
       "      <td>-0.760978</td>\n",
       "    </tr>\n",
       "    <tr>\n",
       "      <th>2013-01-05</th>\n",
       "      <td>-0.051360</td>\n",
       "      <td>-1.779293</td>\n",
       "      <td>-1.421486</td>\n",
       "    </tr>\n",
       "    <tr>\n",
       "      <th>2013-01-06</th>\n",
       "      <td>1.211963</td>\n",
       "      <td>-0.795570</td>\n",
       "      <td>0.977123</td>\n",
       "    </tr>\n",
       "  </tbody>\n",
       "</table>\n",
       "</div>"
      ],
      "text/plain": [
       "                   A         C         D\n",
       "2013-01-01  0.562931  1.131439  1.094483\n",
       "2013-01-02 -1.156791 -1.481043 -0.592337\n",
       "2013-01-03  0.151178 -0.222623 -0.537431\n",
       "2013-01-04  0.119923  0.720750 -0.760978\n",
       "2013-01-05 -0.051360 -1.779293 -1.421486\n",
       "2013-01-06  1.211963 -0.795570  0.977123"
      ]
     },
     "execution_count": 29,
     "metadata": {},
     "output_type": "execute_result"
    }
   ],
   "source": [
    "df[[\"A\",\"C\",\"D\"]]"
   ]
  },
  {
   "cell_type": "markdown",
   "metadata": {},
   "source": [
    " ### 通过标签选择数据"
   ]
  },
  {
   "cell_type": "code",
   "execution_count": 30,
   "metadata": {},
   "outputs": [
    {
     "data": {
      "text/plain": [
       "A    0.562931\n",
       "B   -0.131550\n",
       "C    1.131439\n",
       "D    1.094483\n",
       "Name: 2013-01-01 00:00:00, dtype: float64"
      ]
     },
     "execution_count": 30,
     "metadata": {},
     "output_type": "execute_result"
    }
   ],
   "source": [
    "df.loc[dates[0]]"
   ]
  },
  {
   "cell_type": "code",
   "execution_count": 31,
   "metadata": {},
   "outputs": [
    {
     "data": {
      "text/html": [
       "<div>\n",
       "<style>\n",
       "    .dataframe thead tr:only-child th {\n",
       "        text-align: right;\n",
       "    }\n",
       "\n",
       "    .dataframe thead th {\n",
       "        text-align: left;\n",
       "    }\n",
       "\n",
       "    .dataframe tbody tr th {\n",
       "        vertical-align: top;\n",
       "    }\n",
       "</style>\n",
       "<table border=\"1\" class=\"dataframe\">\n",
       "  <thead>\n",
       "    <tr style=\"text-align: right;\">\n",
       "      <th></th>\n",
       "      <th>A</th>\n",
       "      <th>C</th>\n",
       "      <th>D</th>\n",
       "    </tr>\n",
       "  </thead>\n",
       "  <tbody>\n",
       "    <tr>\n",
       "      <th>2013-01-01</th>\n",
       "      <td>0.562931</td>\n",
       "      <td>1.131439</td>\n",
       "      <td>1.094483</td>\n",
       "    </tr>\n",
       "    <tr>\n",
       "      <th>2013-01-02</th>\n",
       "      <td>-1.156791</td>\n",
       "      <td>-1.481043</td>\n",
       "      <td>-0.592337</td>\n",
       "    </tr>\n",
       "    <tr>\n",
       "      <th>2013-01-03</th>\n",
       "      <td>0.151178</td>\n",
       "      <td>-0.222623</td>\n",
       "      <td>-0.537431</td>\n",
       "    </tr>\n",
       "    <tr>\n",
       "      <th>2013-01-04</th>\n",
       "      <td>0.119923</td>\n",
       "      <td>0.720750</td>\n",
       "      <td>-0.760978</td>\n",
       "    </tr>\n",
       "    <tr>\n",
       "      <th>2013-01-05</th>\n",
       "      <td>-0.051360</td>\n",
       "      <td>-1.779293</td>\n",
       "      <td>-1.421486</td>\n",
       "    </tr>\n",
       "    <tr>\n",
       "      <th>2013-01-06</th>\n",
       "      <td>1.211963</td>\n",
       "      <td>-0.795570</td>\n",
       "      <td>0.977123</td>\n",
       "    </tr>\n",
       "  </tbody>\n",
       "</table>\n",
       "</div>"
      ],
      "text/plain": [
       "                   A         C         D\n",
       "2013-01-01  0.562931  1.131439  1.094483\n",
       "2013-01-02 -1.156791 -1.481043 -0.592337\n",
       "2013-01-03  0.151178 -0.222623 -0.537431\n",
       "2013-01-04  0.119923  0.720750 -0.760978\n",
       "2013-01-05 -0.051360 -1.779293 -1.421486\n",
       "2013-01-06  1.211963 -0.795570  0.977123"
      ]
     },
     "execution_count": 31,
     "metadata": {},
     "output_type": "execute_result"
    }
   ],
   "source": [
    "df.loc[:,[\"A\",\"C\",\"D\"]]"
   ]
  },
  {
   "cell_type": "code",
   "execution_count": 32,
   "metadata": {},
   "outputs": [
    {
     "data": {
      "text/html": [
       "<div>\n",
       "<style>\n",
       "    .dataframe thead tr:only-child th {\n",
       "        text-align: right;\n",
       "    }\n",
       "\n",
       "    .dataframe thead th {\n",
       "        text-align: left;\n",
       "    }\n",
       "\n",
       "    .dataframe tbody tr th {\n",
       "        vertical-align: top;\n",
       "    }\n",
       "</style>\n",
       "<table border=\"1\" class=\"dataframe\">\n",
       "  <thead>\n",
       "    <tr style=\"text-align: right;\">\n",
       "      <th></th>\n",
       "      <th>A</th>\n",
       "      <th>D</th>\n",
       "    </tr>\n",
       "  </thead>\n",
       "  <tbody>\n",
       "    <tr>\n",
       "      <th>2013-01-02</th>\n",
       "      <td>-1.156791</td>\n",
       "      <td>-0.592337</td>\n",
       "    </tr>\n",
       "    <tr>\n",
       "      <th>2013-01-03</th>\n",
       "      <td>0.151178</td>\n",
       "      <td>-0.537431</td>\n",
       "    </tr>\n",
       "    <tr>\n",
       "      <th>2013-01-04</th>\n",
       "      <td>0.119923</td>\n",
       "      <td>-0.760978</td>\n",
       "    </tr>\n",
       "  </tbody>\n",
       "</table>\n",
       "</div>"
      ],
      "text/plain": [
       "                   A         D\n",
       "2013-01-02 -1.156791 -0.592337\n",
       "2013-01-03  0.151178 -0.537431\n",
       "2013-01-04  0.119923 -0.760978"
      ]
     },
     "execution_count": 32,
     "metadata": {},
     "output_type": "execute_result"
    }
   ],
   "source": [
    "df.loc[\"20130102\":\"20130104\",[\"A\",\"D\"]]"
   ]
  },
  {
   "cell_type": "code",
   "execution_count": 33,
   "metadata": {},
   "outputs": [
    {
     "data": {
      "text/plain": [
       "A   -1.156791\n",
       "D   -0.592337\n",
       "Name: 2013-01-02 00:00:00, dtype: float64"
      ]
     },
     "execution_count": 33,
     "metadata": {},
     "output_type": "execute_result"
    }
   ],
   "source": [
    "df.loc[\"20130102\",[\"A\",\"D\"]]"
   ]
  },
  {
   "cell_type": "code",
   "execution_count": 34,
   "metadata": {},
   "outputs": [
    {
     "data": {
      "text/plain": [
       "0.56293075870628806"
      ]
     },
     "execution_count": 34,
     "metadata": {},
     "output_type": "execute_result"
    }
   ],
   "source": [
    "df.loc[dates[0],\"A\"]"
   ]
  },
  {
   "cell_type": "code",
   "execution_count": 36,
   "metadata": {},
   "outputs": [
    {
     "data": {
      "text/plain": [
       "0.56293075870628806"
      ]
     },
     "execution_count": 36,
     "metadata": {},
     "output_type": "execute_result"
    }
   ],
   "source": [
    "df.at[dates[0],\"A\"] #速度更快"
   ]
  },
  {
   "cell_type": "markdown",
   "metadata": {},
   "source": [
    "### 通过位置选择数据"
   ]
  },
  {
   "cell_type": "code",
   "execution_count": 37,
   "metadata": {},
   "outputs": [
    {
     "data": {
      "text/plain": [
       "A    0.119923\n",
       "B    0.650069\n",
       "C    0.720750\n",
       "D   -0.760978\n",
       "Name: 2013-01-04 00:00:00, dtype: float64"
      ]
     },
     "execution_count": 37,
     "metadata": {},
     "output_type": "execute_result"
    }
   ],
   "source": [
    "df.iloc[3]"
   ]
  },
  {
   "cell_type": "code",
   "execution_count": 38,
   "metadata": {},
   "outputs": [
    {
     "data": {
      "text/html": [
       "<div>\n",
       "<style>\n",
       "    .dataframe thead tr:only-child th {\n",
       "        text-align: right;\n",
       "    }\n",
       "\n",
       "    .dataframe thead th {\n",
       "        text-align: left;\n",
       "    }\n",
       "\n",
       "    .dataframe tbody tr th {\n",
       "        vertical-align: top;\n",
       "    }\n",
       "</style>\n",
       "<table border=\"1\" class=\"dataframe\">\n",
       "  <thead>\n",
       "    <tr style=\"text-align: right;\">\n",
       "      <th></th>\n",
       "      <th>A</th>\n",
       "      <th>B</th>\n",
       "    </tr>\n",
       "  </thead>\n",
       "  <tbody>\n",
       "    <tr>\n",
       "      <th>2013-01-04</th>\n",
       "      <td>0.119923</td>\n",
       "      <td>0.650069</td>\n",
       "    </tr>\n",
       "    <tr>\n",
       "      <th>2013-01-05</th>\n",
       "      <td>-0.051360</td>\n",
       "      <td>0.261210</td>\n",
       "    </tr>\n",
       "  </tbody>\n",
       "</table>\n",
       "</div>"
      ],
      "text/plain": [
       "                   A         B\n",
       "2013-01-04  0.119923  0.650069\n",
       "2013-01-05 -0.051360  0.261210"
      ]
     },
     "execution_count": 38,
     "metadata": {},
     "output_type": "execute_result"
    }
   ],
   "source": [
    "df.iloc[3:5,0:2]"
   ]
  },
  {
   "cell_type": "code",
   "execution_count": 39,
   "metadata": {},
   "outputs": [
    {
     "data": {
      "text/html": [
       "<div>\n",
       "<style>\n",
       "    .dataframe thead tr:only-child th {\n",
       "        text-align: right;\n",
       "    }\n",
       "\n",
       "    .dataframe thead th {\n",
       "        text-align: left;\n",
       "    }\n",
       "\n",
       "    .dataframe tbody tr th {\n",
       "        vertical-align: top;\n",
       "    }\n",
       "</style>\n",
       "<table border=\"1\" class=\"dataframe\">\n",
       "  <thead>\n",
       "    <tr style=\"text-align: right;\">\n",
       "      <th></th>\n",
       "      <th>A</th>\n",
       "      <th>C</th>\n",
       "    </tr>\n",
       "  </thead>\n",
       "  <tbody>\n",
       "    <tr>\n",
       "      <th>2013-01-02</th>\n",
       "      <td>-1.156791</td>\n",
       "      <td>-1.481043</td>\n",
       "    </tr>\n",
       "    <tr>\n",
       "      <th>2013-01-03</th>\n",
       "      <td>0.151178</td>\n",
       "      <td>-0.222623</td>\n",
       "    </tr>\n",
       "    <tr>\n",
       "      <th>2013-01-05</th>\n",
       "      <td>-0.051360</td>\n",
       "      <td>-1.779293</td>\n",
       "    </tr>\n",
       "  </tbody>\n",
       "</table>\n",
       "</div>"
      ],
      "text/plain": [
       "                   A         C\n",
       "2013-01-02 -1.156791 -1.481043\n",
       "2013-01-03  0.151178 -0.222623\n",
       "2013-01-05 -0.051360 -1.779293"
      ]
     },
     "execution_count": 39,
     "metadata": {},
     "output_type": "execute_result"
    }
   ],
   "source": [
    "df.iloc[[1,2,4],[0,2]]"
   ]
  },
  {
   "cell_type": "code",
   "execution_count": 40,
   "metadata": {},
   "outputs": [
    {
     "data": {
      "text/html": [
       "<div>\n",
       "<style>\n",
       "    .dataframe thead tr:only-child th {\n",
       "        text-align: right;\n",
       "    }\n",
       "\n",
       "    .dataframe thead th {\n",
       "        text-align: left;\n",
       "    }\n",
       "\n",
       "    .dataframe tbody tr th {\n",
       "        vertical-align: top;\n",
       "    }\n",
       "</style>\n",
       "<table border=\"1\" class=\"dataframe\">\n",
       "  <thead>\n",
       "    <tr style=\"text-align: right;\">\n",
       "      <th></th>\n",
       "      <th>A</th>\n",
       "      <th>B</th>\n",
       "      <th>C</th>\n",
       "      <th>D</th>\n",
       "    </tr>\n",
       "  </thead>\n",
       "  <tbody>\n",
       "    <tr>\n",
       "      <th>2013-01-02</th>\n",
       "      <td>-1.156791</td>\n",
       "      <td>0.695225</td>\n",
       "      <td>-1.481043</td>\n",
       "      <td>-0.592337</td>\n",
       "    </tr>\n",
       "    <tr>\n",
       "      <th>2013-01-03</th>\n",
       "      <td>0.151178</td>\n",
       "      <td>0.179467</td>\n",
       "      <td>-0.222623</td>\n",
       "      <td>-0.537431</td>\n",
       "    </tr>\n",
       "  </tbody>\n",
       "</table>\n",
       "</div>"
      ],
      "text/plain": [
       "                   A         B         C         D\n",
       "2013-01-02 -1.156791  0.695225 -1.481043 -0.592337\n",
       "2013-01-03  0.151178  0.179467 -0.222623 -0.537431"
      ]
     },
     "execution_count": 40,
     "metadata": {},
     "output_type": "execute_result"
    }
   ],
   "source": [
    "df.iloc[1:3,:]"
   ]
  },
  {
   "cell_type": "markdown",
   "metadata": {},
   "source": [
    "- 精确获取值，类似于笛卡尔坐标系"
   ]
  },
  {
   "cell_type": "code",
   "execution_count": 43,
   "metadata": {},
   "outputs": [
    {
     "name": "stdout",
     "output_type": "stream",
     "text": [
      "The slowest run took 6.29 times longer than the fastest. This could mean that an intermediate result is being cached.\n",
      "100000 loops, best of 3: 10.2 µs per loop\n"
     ]
    }
   ],
   "source": [
    "%timeit df.iloc[1,1]"
   ]
  },
  {
   "cell_type": "code",
   "execution_count": 45,
   "metadata": {},
   "outputs": [
    {
     "name": "stdout",
     "output_type": "stream",
     "text": [
      "The slowest run took 6.95 times longer than the fastest. This could mean that an intermediate result is being cached.\n",
      "100000 loops, best of 3: 6.78 µs per loop\n"
     ]
    }
   ],
   "source": [
    "%timeit df.iat[1,1] #速度更快"
   ]
  },
  {
   "cell_type": "markdown",
   "metadata": {},
   "source": [
    "### 布尔下标"
   ]
  },
  {
   "cell_type": "code",
   "execution_count": 46,
   "metadata": {},
   "outputs": [
    {
     "data": {
      "text/html": [
       "<div>\n",
       "<style>\n",
       "    .dataframe thead tr:only-child th {\n",
       "        text-align: right;\n",
       "    }\n",
       "\n",
       "    .dataframe thead th {\n",
       "        text-align: left;\n",
       "    }\n",
       "\n",
       "    .dataframe tbody tr th {\n",
       "        vertical-align: top;\n",
       "    }\n",
       "</style>\n",
       "<table border=\"1\" class=\"dataframe\">\n",
       "  <thead>\n",
       "    <tr style=\"text-align: right;\">\n",
       "      <th></th>\n",
       "      <th>A</th>\n",
       "      <th>B</th>\n",
       "      <th>C</th>\n",
       "      <th>D</th>\n",
       "    </tr>\n",
       "  </thead>\n",
       "  <tbody>\n",
       "    <tr>\n",
       "      <th>2013-01-01</th>\n",
       "      <td>0.562931</td>\n",
       "      <td>-0.131550</td>\n",
       "      <td>1.131439</td>\n",
       "      <td>1.094483</td>\n",
       "    </tr>\n",
       "    <tr>\n",
       "      <th>2013-01-03</th>\n",
       "      <td>0.151178</td>\n",
       "      <td>0.179467</td>\n",
       "      <td>-0.222623</td>\n",
       "      <td>-0.537431</td>\n",
       "    </tr>\n",
       "    <tr>\n",
       "      <th>2013-01-04</th>\n",
       "      <td>0.119923</td>\n",
       "      <td>0.650069</td>\n",
       "      <td>0.720750</td>\n",
       "      <td>-0.760978</td>\n",
       "    </tr>\n",
       "    <tr>\n",
       "      <th>2013-01-06</th>\n",
       "      <td>1.211963</td>\n",
       "      <td>0.162116</td>\n",
       "      <td>-0.795570</td>\n",
       "      <td>0.977123</td>\n",
       "    </tr>\n",
       "  </tbody>\n",
       "</table>\n",
       "</div>"
      ],
      "text/plain": [
       "                   A         B         C         D\n",
       "2013-01-01  0.562931 -0.131550  1.131439  1.094483\n",
       "2013-01-03  0.151178  0.179467 -0.222623 -0.537431\n",
       "2013-01-04  0.119923  0.650069  0.720750 -0.760978\n",
       "2013-01-06  1.211963  0.162116 -0.795570  0.977123"
      ]
     },
     "execution_count": 46,
     "metadata": {},
     "output_type": "execute_result"
    }
   ],
   "source": [
    "df[df.A>0]"
   ]
  },
  {
   "cell_type": "code",
   "execution_count": 47,
   "metadata": {},
   "outputs": [
    {
     "data": {
      "text/html": [
       "<div>\n",
       "<style>\n",
       "    .dataframe thead tr:only-child th {\n",
       "        text-align: right;\n",
       "    }\n",
       "\n",
       "    .dataframe thead th {\n",
       "        text-align: left;\n",
       "    }\n",
       "\n",
       "    .dataframe tbody tr th {\n",
       "        vertical-align: top;\n",
       "    }\n",
       "</style>\n",
       "<table border=\"1\" class=\"dataframe\">\n",
       "  <thead>\n",
       "    <tr style=\"text-align: right;\">\n",
       "      <th></th>\n",
       "      <th>A</th>\n",
       "      <th>B</th>\n",
       "      <th>C</th>\n",
       "      <th>D</th>\n",
       "    </tr>\n",
       "  </thead>\n",
       "  <tbody>\n",
       "    <tr>\n",
       "      <th>2013-01-01</th>\n",
       "      <td>0.562931</td>\n",
       "      <td>NaN</td>\n",
       "      <td>1.131439</td>\n",
       "      <td>1.094483</td>\n",
       "    </tr>\n",
       "    <tr>\n",
       "      <th>2013-01-02</th>\n",
       "      <td>NaN</td>\n",
       "      <td>0.695225</td>\n",
       "      <td>NaN</td>\n",
       "      <td>NaN</td>\n",
       "    </tr>\n",
       "    <tr>\n",
       "      <th>2013-01-03</th>\n",
       "      <td>0.151178</td>\n",
       "      <td>0.179467</td>\n",
       "      <td>NaN</td>\n",
       "      <td>NaN</td>\n",
       "    </tr>\n",
       "    <tr>\n",
       "      <th>2013-01-04</th>\n",
       "      <td>0.119923</td>\n",
       "      <td>0.650069</td>\n",
       "      <td>0.720750</td>\n",
       "      <td>NaN</td>\n",
       "    </tr>\n",
       "    <tr>\n",
       "      <th>2013-01-05</th>\n",
       "      <td>NaN</td>\n",
       "      <td>0.261210</td>\n",
       "      <td>NaN</td>\n",
       "      <td>NaN</td>\n",
       "    </tr>\n",
       "    <tr>\n",
       "      <th>2013-01-06</th>\n",
       "      <td>1.211963</td>\n",
       "      <td>0.162116</td>\n",
       "      <td>NaN</td>\n",
       "      <td>0.977123</td>\n",
       "    </tr>\n",
       "  </tbody>\n",
       "</table>\n",
       "</div>"
      ],
      "text/plain": [
       "                   A         B         C         D\n",
       "2013-01-01  0.562931       NaN  1.131439  1.094483\n",
       "2013-01-02       NaN  0.695225       NaN       NaN\n",
       "2013-01-03  0.151178  0.179467       NaN       NaN\n",
       "2013-01-04  0.119923  0.650069  0.720750       NaN\n",
       "2013-01-05       NaN  0.261210       NaN       NaN\n",
       "2013-01-06  1.211963  0.162116       NaN  0.977123"
      ]
     },
     "execution_count": 47,
     "metadata": {},
     "output_type": "execute_result"
    }
   ],
   "source": [
    "df[df>0]"
   ]
  },
  {
   "cell_type": "code",
   "execution_count": 49,
   "metadata": {
    "collapsed": true
   },
   "outputs": [],
   "source": [
    "df2=df.copy()"
   ]
  },
  {
   "cell_type": "code",
   "execution_count": 51,
   "metadata": {
    "collapsed": true
   },
   "outputs": [],
   "source": [
    "df2[\"E\"]=[\"one\",\"two\",\"three\",\"four\",\"five\",\"six\"]"
   ]
  },
  {
   "cell_type": "code",
   "execution_count": 52,
   "metadata": {},
   "outputs": [
    {
     "data": {
      "text/html": [
       "<div>\n",
       "<style>\n",
       "    .dataframe thead tr:only-child th {\n",
       "        text-align: right;\n",
       "    }\n",
       "\n",
       "    .dataframe thead th {\n",
       "        text-align: left;\n",
       "    }\n",
       "\n",
       "    .dataframe tbody tr th {\n",
       "        vertical-align: top;\n",
       "    }\n",
       "</style>\n",
       "<table border=\"1\" class=\"dataframe\">\n",
       "  <thead>\n",
       "    <tr style=\"text-align: right;\">\n",
       "      <th></th>\n",
       "      <th>A</th>\n",
       "      <th>B</th>\n",
       "      <th>C</th>\n",
       "      <th>D</th>\n",
       "      <th>E</th>\n",
       "    </tr>\n",
       "  </thead>\n",
       "  <tbody>\n",
       "    <tr>\n",
       "      <th>2013-01-01</th>\n",
       "      <td>0.562931</td>\n",
       "      <td>-0.131550</td>\n",
       "      <td>1.131439</td>\n",
       "      <td>1.094483</td>\n",
       "      <td>one</td>\n",
       "    </tr>\n",
       "    <tr>\n",
       "      <th>2013-01-02</th>\n",
       "      <td>-1.156791</td>\n",
       "      <td>0.695225</td>\n",
       "      <td>-1.481043</td>\n",
       "      <td>-0.592337</td>\n",
       "      <td>two</td>\n",
       "    </tr>\n",
       "    <tr>\n",
       "      <th>2013-01-03</th>\n",
       "      <td>0.151178</td>\n",
       "      <td>0.179467</td>\n",
       "      <td>-0.222623</td>\n",
       "      <td>-0.537431</td>\n",
       "      <td>three</td>\n",
       "    </tr>\n",
       "    <tr>\n",
       "      <th>2013-01-04</th>\n",
       "      <td>0.119923</td>\n",
       "      <td>0.650069</td>\n",
       "      <td>0.720750</td>\n",
       "      <td>-0.760978</td>\n",
       "      <td>four</td>\n",
       "    </tr>\n",
       "    <tr>\n",
       "      <th>2013-01-05</th>\n",
       "      <td>-0.051360</td>\n",
       "      <td>0.261210</td>\n",
       "      <td>-1.779293</td>\n",
       "      <td>-1.421486</td>\n",
       "      <td>five</td>\n",
       "    </tr>\n",
       "    <tr>\n",
       "      <th>2013-01-06</th>\n",
       "      <td>1.211963</td>\n",
       "      <td>0.162116</td>\n",
       "      <td>-0.795570</td>\n",
       "      <td>0.977123</td>\n",
       "      <td>six</td>\n",
       "    </tr>\n",
       "  </tbody>\n",
       "</table>\n",
       "</div>"
      ],
      "text/plain": [
       "                   A         B         C         D      E\n",
       "2013-01-01  0.562931 -0.131550  1.131439  1.094483    one\n",
       "2013-01-02 -1.156791  0.695225 -1.481043 -0.592337    two\n",
       "2013-01-03  0.151178  0.179467 -0.222623 -0.537431  three\n",
       "2013-01-04  0.119923  0.650069  0.720750 -0.760978   four\n",
       "2013-01-05 -0.051360  0.261210 -1.779293 -1.421486   five\n",
       "2013-01-06  1.211963  0.162116 -0.795570  0.977123    six"
      ]
     },
     "execution_count": 52,
     "metadata": {},
     "output_type": "execute_result"
    }
   ],
   "source": [
    "df2"
   ]
  },
  {
   "cell_type": "code",
   "execution_count": 53,
   "metadata": {},
   "outputs": [
    {
     "data": {
      "text/html": [
       "<div>\n",
       "<style>\n",
       "    .dataframe thead tr:only-child th {\n",
       "        text-align: right;\n",
       "    }\n",
       "\n",
       "    .dataframe thead th {\n",
       "        text-align: left;\n",
       "    }\n",
       "\n",
       "    .dataframe tbody tr th {\n",
       "        vertical-align: top;\n",
       "    }\n",
       "</style>\n",
       "<table border=\"1\" class=\"dataframe\">\n",
       "  <thead>\n",
       "    <tr style=\"text-align: right;\">\n",
       "      <th></th>\n",
       "      <th>A</th>\n",
       "      <th>B</th>\n",
       "      <th>C</th>\n",
       "      <th>D</th>\n",
       "      <th>E</th>\n",
       "    </tr>\n",
       "  </thead>\n",
       "  <tbody>\n",
       "    <tr>\n",
       "      <th>2013-01-02</th>\n",
       "      <td>-1.156791</td>\n",
       "      <td>0.695225</td>\n",
       "      <td>-1.481043</td>\n",
       "      <td>-0.592337</td>\n",
       "      <td>two</td>\n",
       "    </tr>\n",
       "    <tr>\n",
       "      <th>2013-01-04</th>\n",
       "      <td>0.119923</td>\n",
       "      <td>0.650069</td>\n",
       "      <td>0.720750</td>\n",
       "      <td>-0.760978</td>\n",
       "      <td>four</td>\n",
       "    </tr>\n",
       "  </tbody>\n",
       "</table>\n",
       "</div>"
      ],
      "text/plain": [
       "                   A         B         C         D     E\n",
       "2013-01-02 -1.156791  0.695225 -1.481043 -0.592337   two\n",
       "2013-01-04  0.119923  0.650069  0.720750 -0.760978  four"
      ]
     },
     "execution_count": 53,
     "metadata": {},
     "output_type": "execute_result"
    }
   ],
   "source": [
    "df2[df2[\"E\"].isin([\"two\",\"four\"])]"
   ]
  },
  {
   "cell_type": "markdown",
   "metadata": {},
   "source": [
    "### 设置"
   ]
  },
  {
   "cell_type": "code",
   "execution_count": 74,
   "metadata": {
    "collapsed": true
   },
   "outputs": [],
   "source": [
    "s1=pd.Series([1,2,3,4,5,6],index=pd.date_range(\"20130102\",periods=6))"
   ]
  },
  {
   "cell_type": "code",
   "execution_count": 75,
   "metadata": {},
   "outputs": [
    {
     "data": {
      "text/plain": [
       "2013-01-02    1\n",
       "2013-01-03    2\n",
       "2013-01-04    3\n",
       "2013-01-05    4\n",
       "2013-01-06    5\n",
       "2013-01-07    6\n",
       "Freq: D, dtype: int64"
      ]
     },
     "execution_count": 75,
     "metadata": {},
     "output_type": "execute_result"
    }
   ],
   "source": [
    "s1"
   ]
  },
  {
   "cell_type": "code",
   "execution_count": 76,
   "metadata": {
    "collapsed": true
   },
   "outputs": [],
   "source": [
    "df['F']=s1"
   ]
  },
  {
   "cell_type": "code",
   "execution_count": 77,
   "metadata": {},
   "outputs": [
    {
     "data": {
      "text/html": [
       "<div>\n",
       "<style>\n",
       "    .dataframe thead tr:only-child th {\n",
       "        text-align: right;\n",
       "    }\n",
       "\n",
       "    .dataframe thead th {\n",
       "        text-align: left;\n",
       "    }\n",
       "\n",
       "    .dataframe tbody tr th {\n",
       "        vertical-align: top;\n",
       "    }\n",
       "</style>\n",
       "<table border=\"1\" class=\"dataframe\">\n",
       "  <thead>\n",
       "    <tr style=\"text-align: right;\">\n",
       "      <th></th>\n",
       "      <th>A</th>\n",
       "      <th>B</th>\n",
       "      <th>C</th>\n",
       "      <th>D</th>\n",
       "      <th>F</th>\n",
       "    </tr>\n",
       "  </thead>\n",
       "  <tbody>\n",
       "    <tr>\n",
       "      <th>2013-01-01</th>\n",
       "      <td>0.000000</td>\n",
       "      <td>0.000000</td>\n",
       "      <td>1.131439</td>\n",
       "      <td>5</td>\n",
       "      <td>NaN</td>\n",
       "    </tr>\n",
       "    <tr>\n",
       "      <th>2013-01-02</th>\n",
       "      <td>-1.156791</td>\n",
       "      <td>0.695225</td>\n",
       "      <td>-1.481043</td>\n",
       "      <td>5</td>\n",
       "      <td>1.0</td>\n",
       "    </tr>\n",
       "    <tr>\n",
       "      <th>2013-01-03</th>\n",
       "      <td>0.151178</td>\n",
       "      <td>0.179467</td>\n",
       "      <td>-0.222623</td>\n",
       "      <td>5</td>\n",
       "      <td>2.0</td>\n",
       "    </tr>\n",
       "    <tr>\n",
       "      <th>2013-01-04</th>\n",
       "      <td>0.119923</td>\n",
       "      <td>0.650069</td>\n",
       "      <td>0.720750</td>\n",
       "      <td>5</td>\n",
       "      <td>3.0</td>\n",
       "    </tr>\n",
       "    <tr>\n",
       "      <th>2013-01-05</th>\n",
       "      <td>-0.051360</td>\n",
       "      <td>0.261210</td>\n",
       "      <td>-1.779293</td>\n",
       "      <td>5</td>\n",
       "      <td>4.0</td>\n",
       "    </tr>\n",
       "    <tr>\n",
       "      <th>2013-01-06</th>\n",
       "      <td>1.211963</td>\n",
       "      <td>0.162116</td>\n",
       "      <td>-0.795570</td>\n",
       "      <td>5</td>\n",
       "      <td>5.0</td>\n",
       "    </tr>\n",
       "  </tbody>\n",
       "</table>\n",
       "</div>"
      ],
      "text/plain": [
       "                   A         B         C  D    F\n",
       "2013-01-01  0.000000  0.000000  1.131439  5  NaN\n",
       "2013-01-02 -1.156791  0.695225 -1.481043  5  1.0\n",
       "2013-01-03  0.151178  0.179467 -0.222623  5  2.0\n",
       "2013-01-04  0.119923  0.650069  0.720750  5  3.0\n",
       "2013-01-05 -0.051360  0.261210 -1.779293  5  4.0\n",
       "2013-01-06  1.211963  0.162116 -0.795570  5  5.0"
      ]
     },
     "execution_count": 77,
     "metadata": {},
     "output_type": "execute_result"
    }
   ],
   "source": [
    "df"
   ]
  },
  {
   "cell_type": "code",
   "execution_count": 68,
   "metadata": {
    "collapsed": true
   },
   "outputs": [],
   "source": [
    "df.at[dates[0],\"A\"]=0"
   ]
  },
  {
   "cell_type": "code",
   "execution_count": 78,
   "metadata": {},
   "outputs": [
    {
     "data": {
      "text/html": [
       "<div>\n",
       "<style>\n",
       "    .dataframe thead tr:only-child th {\n",
       "        text-align: right;\n",
       "    }\n",
       "\n",
       "    .dataframe thead th {\n",
       "        text-align: left;\n",
       "    }\n",
       "\n",
       "    .dataframe tbody tr th {\n",
       "        vertical-align: top;\n",
       "    }\n",
       "</style>\n",
       "<table border=\"1\" class=\"dataframe\">\n",
       "  <thead>\n",
       "    <tr style=\"text-align: right;\">\n",
       "      <th></th>\n",
       "      <th>A</th>\n",
       "      <th>B</th>\n",
       "      <th>C</th>\n",
       "      <th>D</th>\n",
       "      <th>F</th>\n",
       "    </tr>\n",
       "  </thead>\n",
       "  <tbody>\n",
       "    <tr>\n",
       "      <th>2013-01-01</th>\n",
       "      <td>0.000000</td>\n",
       "      <td>0.000000</td>\n",
       "      <td>1.131439</td>\n",
       "      <td>5</td>\n",
       "      <td>NaN</td>\n",
       "    </tr>\n",
       "    <tr>\n",
       "      <th>2013-01-02</th>\n",
       "      <td>-1.156791</td>\n",
       "      <td>0.695225</td>\n",
       "      <td>-1.481043</td>\n",
       "      <td>5</td>\n",
       "      <td>1.0</td>\n",
       "    </tr>\n",
       "    <tr>\n",
       "      <th>2013-01-03</th>\n",
       "      <td>0.151178</td>\n",
       "      <td>0.179467</td>\n",
       "      <td>-0.222623</td>\n",
       "      <td>5</td>\n",
       "      <td>2.0</td>\n",
       "    </tr>\n",
       "    <tr>\n",
       "      <th>2013-01-04</th>\n",
       "      <td>0.119923</td>\n",
       "      <td>0.650069</td>\n",
       "      <td>0.720750</td>\n",
       "      <td>5</td>\n",
       "      <td>3.0</td>\n",
       "    </tr>\n",
       "    <tr>\n",
       "      <th>2013-01-05</th>\n",
       "      <td>-0.051360</td>\n",
       "      <td>0.261210</td>\n",
       "      <td>-1.779293</td>\n",
       "      <td>5</td>\n",
       "      <td>4.0</td>\n",
       "    </tr>\n",
       "    <tr>\n",
       "      <th>2013-01-06</th>\n",
       "      <td>1.211963</td>\n",
       "      <td>0.162116</td>\n",
       "      <td>-0.795570</td>\n",
       "      <td>5</td>\n",
       "      <td>5.0</td>\n",
       "    </tr>\n",
       "  </tbody>\n",
       "</table>\n",
       "</div>"
      ],
      "text/plain": [
       "                   A         B         C  D    F\n",
       "2013-01-01  0.000000  0.000000  1.131439  5  NaN\n",
       "2013-01-02 -1.156791  0.695225 -1.481043  5  1.0\n",
       "2013-01-03  0.151178  0.179467 -0.222623  5  2.0\n",
       "2013-01-04  0.119923  0.650069  0.720750  5  3.0\n",
       "2013-01-05 -0.051360  0.261210 -1.779293  5  4.0\n",
       "2013-01-06  1.211963  0.162116 -0.795570  5  5.0"
      ]
     },
     "execution_count": 78,
     "metadata": {},
     "output_type": "execute_result"
    }
   ],
   "source": [
    "df"
   ]
  },
  {
   "cell_type": "code",
   "execution_count": 79,
   "metadata": {
    "collapsed": true
   },
   "outputs": [],
   "source": [
    "df.iat[0,1]=0"
   ]
  },
  {
   "cell_type": "code",
   "execution_count": 80,
   "metadata": {},
   "outputs": [
    {
     "data": {
      "text/html": [
       "<div>\n",
       "<style>\n",
       "    .dataframe thead tr:only-child th {\n",
       "        text-align: right;\n",
       "    }\n",
       "\n",
       "    .dataframe thead th {\n",
       "        text-align: left;\n",
       "    }\n",
       "\n",
       "    .dataframe tbody tr th {\n",
       "        vertical-align: top;\n",
       "    }\n",
       "</style>\n",
       "<table border=\"1\" class=\"dataframe\">\n",
       "  <thead>\n",
       "    <tr style=\"text-align: right;\">\n",
       "      <th></th>\n",
       "      <th>A</th>\n",
       "      <th>B</th>\n",
       "      <th>C</th>\n",
       "      <th>D</th>\n",
       "      <th>F</th>\n",
       "    </tr>\n",
       "  </thead>\n",
       "  <tbody>\n",
       "    <tr>\n",
       "      <th>2013-01-01</th>\n",
       "      <td>0.000000</td>\n",
       "      <td>0.000000</td>\n",
       "      <td>1.131439</td>\n",
       "      <td>5</td>\n",
       "      <td>NaN</td>\n",
       "    </tr>\n",
       "    <tr>\n",
       "      <th>2013-01-02</th>\n",
       "      <td>-1.156791</td>\n",
       "      <td>0.695225</td>\n",
       "      <td>-1.481043</td>\n",
       "      <td>5</td>\n",
       "      <td>1.0</td>\n",
       "    </tr>\n",
       "    <tr>\n",
       "      <th>2013-01-03</th>\n",
       "      <td>0.151178</td>\n",
       "      <td>0.179467</td>\n",
       "      <td>-0.222623</td>\n",
       "      <td>5</td>\n",
       "      <td>2.0</td>\n",
       "    </tr>\n",
       "    <tr>\n",
       "      <th>2013-01-04</th>\n",
       "      <td>0.119923</td>\n",
       "      <td>0.650069</td>\n",
       "      <td>0.720750</td>\n",
       "      <td>5</td>\n",
       "      <td>3.0</td>\n",
       "    </tr>\n",
       "    <tr>\n",
       "      <th>2013-01-05</th>\n",
       "      <td>-0.051360</td>\n",
       "      <td>0.261210</td>\n",
       "      <td>-1.779293</td>\n",
       "      <td>5</td>\n",
       "      <td>4.0</td>\n",
       "    </tr>\n",
       "    <tr>\n",
       "      <th>2013-01-06</th>\n",
       "      <td>1.211963</td>\n",
       "      <td>0.162116</td>\n",
       "      <td>-0.795570</td>\n",
       "      <td>5</td>\n",
       "      <td>5.0</td>\n",
       "    </tr>\n",
       "  </tbody>\n",
       "</table>\n",
       "</div>"
      ],
      "text/plain": [
       "                   A         B         C  D    F\n",
       "2013-01-01  0.000000  0.000000  1.131439  5  NaN\n",
       "2013-01-02 -1.156791  0.695225 -1.481043  5  1.0\n",
       "2013-01-03  0.151178  0.179467 -0.222623  5  2.0\n",
       "2013-01-04  0.119923  0.650069  0.720750  5  3.0\n",
       "2013-01-05 -0.051360  0.261210 -1.779293  5  4.0\n",
       "2013-01-06  1.211963  0.162116 -0.795570  5  5.0"
      ]
     },
     "execution_count": 80,
     "metadata": {},
     "output_type": "execute_result"
    }
   ],
   "source": [
    "df"
   ]
  },
  {
   "cell_type": "code",
   "execution_count": 81,
   "metadata": {
    "collapsed": true
   },
   "outputs": [],
   "source": [
    "df.loc[:,\"D\"]=np.array([5]*len(df))"
   ]
  },
  {
   "cell_type": "code",
   "execution_count": 82,
   "metadata": {},
   "outputs": [
    {
     "data": {
      "text/html": [
       "<div>\n",
       "<style>\n",
       "    .dataframe thead tr:only-child th {\n",
       "        text-align: right;\n",
       "    }\n",
       "\n",
       "    .dataframe thead th {\n",
       "        text-align: left;\n",
       "    }\n",
       "\n",
       "    .dataframe tbody tr th {\n",
       "        vertical-align: top;\n",
       "    }\n",
       "</style>\n",
       "<table border=\"1\" class=\"dataframe\">\n",
       "  <thead>\n",
       "    <tr style=\"text-align: right;\">\n",
       "      <th></th>\n",
       "      <th>A</th>\n",
       "      <th>B</th>\n",
       "      <th>C</th>\n",
       "      <th>D</th>\n",
       "      <th>F</th>\n",
       "    </tr>\n",
       "  </thead>\n",
       "  <tbody>\n",
       "    <tr>\n",
       "      <th>2013-01-01</th>\n",
       "      <td>0.000000</td>\n",
       "      <td>0.000000</td>\n",
       "      <td>1.131439</td>\n",
       "      <td>5</td>\n",
       "      <td>NaN</td>\n",
       "    </tr>\n",
       "    <tr>\n",
       "      <th>2013-01-02</th>\n",
       "      <td>-1.156791</td>\n",
       "      <td>0.695225</td>\n",
       "      <td>-1.481043</td>\n",
       "      <td>5</td>\n",
       "      <td>1.0</td>\n",
       "    </tr>\n",
       "    <tr>\n",
       "      <th>2013-01-03</th>\n",
       "      <td>0.151178</td>\n",
       "      <td>0.179467</td>\n",
       "      <td>-0.222623</td>\n",
       "      <td>5</td>\n",
       "      <td>2.0</td>\n",
       "    </tr>\n",
       "    <tr>\n",
       "      <th>2013-01-04</th>\n",
       "      <td>0.119923</td>\n",
       "      <td>0.650069</td>\n",
       "      <td>0.720750</td>\n",
       "      <td>5</td>\n",
       "      <td>3.0</td>\n",
       "    </tr>\n",
       "    <tr>\n",
       "      <th>2013-01-05</th>\n",
       "      <td>-0.051360</td>\n",
       "      <td>0.261210</td>\n",
       "      <td>-1.779293</td>\n",
       "      <td>5</td>\n",
       "      <td>4.0</td>\n",
       "    </tr>\n",
       "    <tr>\n",
       "      <th>2013-01-06</th>\n",
       "      <td>1.211963</td>\n",
       "      <td>0.162116</td>\n",
       "      <td>-0.795570</td>\n",
       "      <td>5</td>\n",
       "      <td>5.0</td>\n",
       "    </tr>\n",
       "  </tbody>\n",
       "</table>\n",
       "</div>"
      ],
      "text/plain": [
       "                   A         B         C  D    F\n",
       "2013-01-01  0.000000  0.000000  1.131439  5  NaN\n",
       "2013-01-02 -1.156791  0.695225 -1.481043  5  1.0\n",
       "2013-01-03  0.151178  0.179467 -0.222623  5  2.0\n",
       "2013-01-04  0.119923  0.650069  0.720750  5  3.0\n",
       "2013-01-05 -0.051360  0.261210 -1.779293  5  4.0\n",
       "2013-01-06  1.211963  0.162116 -0.795570  5  5.0"
      ]
     },
     "execution_count": 82,
     "metadata": {},
     "output_type": "execute_result"
    }
   ],
   "source": [
    "df"
   ]
  },
  {
   "cell_type": "code",
   "execution_count": 88,
   "metadata": {
    "collapsed": true
   },
   "outputs": [],
   "source": [
    "df2=df.copy()"
   ]
  },
  {
   "cell_type": "code",
   "execution_count": 90,
   "metadata": {
    "collapsed": true
   },
   "outputs": [],
   "source": [
    "df2[df2>0]=-df2"
   ]
  },
  {
   "cell_type": "code",
   "execution_count": 91,
   "metadata": {},
   "outputs": [
    {
     "data": {
      "text/html": [
       "<div>\n",
       "<style>\n",
       "    .dataframe thead tr:only-child th {\n",
       "        text-align: right;\n",
       "    }\n",
       "\n",
       "    .dataframe thead th {\n",
       "        text-align: left;\n",
       "    }\n",
       "\n",
       "    .dataframe tbody tr th {\n",
       "        vertical-align: top;\n",
       "    }\n",
       "</style>\n",
       "<table border=\"1\" class=\"dataframe\">\n",
       "  <thead>\n",
       "    <tr style=\"text-align: right;\">\n",
       "      <th></th>\n",
       "      <th>A</th>\n",
       "      <th>B</th>\n",
       "      <th>C</th>\n",
       "      <th>D</th>\n",
       "      <th>F</th>\n",
       "    </tr>\n",
       "  </thead>\n",
       "  <tbody>\n",
       "    <tr>\n",
       "      <th>2013-01-01</th>\n",
       "      <td>0.000000</td>\n",
       "      <td>0.000000</td>\n",
       "      <td>-1.131439</td>\n",
       "      <td>-5</td>\n",
       "      <td>NaN</td>\n",
       "    </tr>\n",
       "    <tr>\n",
       "      <th>2013-01-02</th>\n",
       "      <td>-1.156791</td>\n",
       "      <td>-0.695225</td>\n",
       "      <td>-1.481043</td>\n",
       "      <td>-5</td>\n",
       "      <td>-1.0</td>\n",
       "    </tr>\n",
       "    <tr>\n",
       "      <th>2013-01-03</th>\n",
       "      <td>-0.151178</td>\n",
       "      <td>-0.179467</td>\n",
       "      <td>-0.222623</td>\n",
       "      <td>-5</td>\n",
       "      <td>-2.0</td>\n",
       "    </tr>\n",
       "    <tr>\n",
       "      <th>2013-01-04</th>\n",
       "      <td>-0.119923</td>\n",
       "      <td>-0.650069</td>\n",
       "      <td>-0.720750</td>\n",
       "      <td>-5</td>\n",
       "      <td>-3.0</td>\n",
       "    </tr>\n",
       "    <tr>\n",
       "      <th>2013-01-05</th>\n",
       "      <td>-0.051360</td>\n",
       "      <td>-0.261210</td>\n",
       "      <td>-1.779293</td>\n",
       "      <td>-5</td>\n",
       "      <td>-4.0</td>\n",
       "    </tr>\n",
       "    <tr>\n",
       "      <th>2013-01-06</th>\n",
       "      <td>-1.211963</td>\n",
       "      <td>-0.162116</td>\n",
       "      <td>-0.795570</td>\n",
       "      <td>-5</td>\n",
       "      <td>-5.0</td>\n",
       "    </tr>\n",
       "  </tbody>\n",
       "</table>\n",
       "</div>"
      ],
      "text/plain": [
       "                   A         B         C  D    F\n",
       "2013-01-01  0.000000  0.000000 -1.131439 -5  NaN\n",
       "2013-01-02 -1.156791 -0.695225 -1.481043 -5 -1.0\n",
       "2013-01-03 -0.151178 -0.179467 -0.222623 -5 -2.0\n",
       "2013-01-04 -0.119923 -0.650069 -0.720750 -5 -3.0\n",
       "2013-01-05 -0.051360 -0.261210 -1.779293 -5 -4.0\n",
       "2013-01-06 -1.211963 -0.162116 -0.795570 -5 -5.0"
      ]
     },
     "execution_count": 91,
     "metadata": {},
     "output_type": "execute_result"
    }
   ],
   "source": [
    "df2"
   ]
  },
  {
   "cell_type": "markdown",
   "metadata": {},
   "source": [
    "## 缺失值"
   ]
  },
  {
   "cell_type": "code",
   "execution_count": 93,
   "metadata": {
    "collapsed": true
   },
   "outputs": [],
   "source": [
    "df1=df.reindex(index=dates[0:4],columns=list(df.columns)+[\"E\"])"
   ]
  },
  {
   "cell_type": "code",
   "execution_count": 94,
   "metadata": {},
   "outputs": [
    {
     "data": {
      "text/html": [
       "<div>\n",
       "<style>\n",
       "    .dataframe thead tr:only-child th {\n",
       "        text-align: right;\n",
       "    }\n",
       "\n",
       "    .dataframe thead th {\n",
       "        text-align: left;\n",
       "    }\n",
       "\n",
       "    .dataframe tbody tr th {\n",
       "        vertical-align: top;\n",
       "    }\n",
       "</style>\n",
       "<table border=\"1\" class=\"dataframe\">\n",
       "  <thead>\n",
       "    <tr style=\"text-align: right;\">\n",
       "      <th></th>\n",
       "      <th>A</th>\n",
       "      <th>B</th>\n",
       "      <th>C</th>\n",
       "      <th>D</th>\n",
       "      <th>F</th>\n",
       "      <th>E</th>\n",
       "    </tr>\n",
       "  </thead>\n",
       "  <tbody>\n",
       "    <tr>\n",
       "      <th>2013-01-01</th>\n",
       "      <td>0.000000</td>\n",
       "      <td>0.000000</td>\n",
       "      <td>-1.131439</td>\n",
       "      <td>-5</td>\n",
       "      <td>NaN</td>\n",
       "      <td>NaN</td>\n",
       "    </tr>\n",
       "    <tr>\n",
       "      <th>2013-01-02</th>\n",
       "      <td>-1.156791</td>\n",
       "      <td>-0.695225</td>\n",
       "      <td>-1.481043</td>\n",
       "      <td>-5</td>\n",
       "      <td>-1.0</td>\n",
       "      <td>NaN</td>\n",
       "    </tr>\n",
       "    <tr>\n",
       "      <th>2013-01-03</th>\n",
       "      <td>-0.151178</td>\n",
       "      <td>-0.179467</td>\n",
       "      <td>-0.222623</td>\n",
       "      <td>-5</td>\n",
       "      <td>-2.0</td>\n",
       "      <td>NaN</td>\n",
       "    </tr>\n",
       "    <tr>\n",
       "      <th>2013-01-04</th>\n",
       "      <td>-0.119923</td>\n",
       "      <td>-0.650069</td>\n",
       "      <td>-0.720750</td>\n",
       "      <td>-5</td>\n",
       "      <td>-3.0</td>\n",
       "      <td>NaN</td>\n",
       "    </tr>\n",
       "  </tbody>\n",
       "</table>\n",
       "</div>"
      ],
      "text/plain": [
       "                   A         B         C  D    F   E\n",
       "2013-01-01  0.000000  0.000000 -1.131439 -5  NaN NaN\n",
       "2013-01-02 -1.156791 -0.695225 -1.481043 -5 -1.0 NaN\n",
       "2013-01-03 -0.151178 -0.179467 -0.222623 -5 -2.0 NaN\n",
       "2013-01-04 -0.119923 -0.650069 -0.720750 -5 -3.0 NaN"
      ]
     },
     "execution_count": 94,
     "metadata": {},
     "output_type": "execute_result"
    }
   ],
   "source": [
    "df1"
   ]
  },
  {
   "cell_type": "code",
   "execution_count": 97,
   "metadata": {
    "collapsed": true
   },
   "outputs": [],
   "source": [
    "df1.loc[dates[0]:dates[1],\"E\"]=1"
   ]
  },
  {
   "cell_type": "code",
   "execution_count": 98,
   "metadata": {},
   "outputs": [
    {
     "data": {
      "text/html": [
       "<div>\n",
       "<style>\n",
       "    .dataframe thead tr:only-child th {\n",
       "        text-align: right;\n",
       "    }\n",
       "\n",
       "    .dataframe thead th {\n",
       "        text-align: left;\n",
       "    }\n",
       "\n",
       "    .dataframe tbody tr th {\n",
       "        vertical-align: top;\n",
       "    }\n",
       "</style>\n",
       "<table border=\"1\" class=\"dataframe\">\n",
       "  <thead>\n",
       "    <tr style=\"text-align: right;\">\n",
       "      <th></th>\n",
       "      <th>A</th>\n",
       "      <th>B</th>\n",
       "      <th>C</th>\n",
       "      <th>D</th>\n",
       "      <th>F</th>\n",
       "      <th>E</th>\n",
       "    </tr>\n",
       "  </thead>\n",
       "  <tbody>\n",
       "    <tr>\n",
       "      <th>2013-01-01</th>\n",
       "      <td>0.000000</td>\n",
       "      <td>0.000000</td>\n",
       "      <td>-1.131439</td>\n",
       "      <td>-5</td>\n",
       "      <td>NaN</td>\n",
       "      <td>1.0</td>\n",
       "    </tr>\n",
       "    <tr>\n",
       "      <th>2013-01-02</th>\n",
       "      <td>-1.156791</td>\n",
       "      <td>-0.695225</td>\n",
       "      <td>-1.481043</td>\n",
       "      <td>-5</td>\n",
       "      <td>-1.0</td>\n",
       "      <td>1.0</td>\n",
       "    </tr>\n",
       "    <tr>\n",
       "      <th>2013-01-03</th>\n",
       "      <td>-0.151178</td>\n",
       "      <td>-0.179467</td>\n",
       "      <td>-0.222623</td>\n",
       "      <td>-5</td>\n",
       "      <td>-2.0</td>\n",
       "      <td>NaN</td>\n",
       "    </tr>\n",
       "    <tr>\n",
       "      <th>2013-01-04</th>\n",
       "      <td>-0.119923</td>\n",
       "      <td>-0.650069</td>\n",
       "      <td>-0.720750</td>\n",
       "      <td>-5</td>\n",
       "      <td>-3.0</td>\n",
       "      <td>NaN</td>\n",
       "    </tr>\n",
       "  </tbody>\n",
       "</table>\n",
       "</div>"
      ],
      "text/plain": [
       "                   A         B         C  D    F    E\n",
       "2013-01-01  0.000000  0.000000 -1.131439 -5  NaN  1.0\n",
       "2013-01-02 -1.156791 -0.695225 -1.481043 -5 -1.0  1.0\n",
       "2013-01-03 -0.151178 -0.179467 -0.222623 -5 -2.0  NaN\n",
       "2013-01-04 -0.119923 -0.650069 -0.720750 -5 -3.0  NaN"
      ]
     },
     "execution_count": 98,
     "metadata": {},
     "output_type": "execute_result"
    }
   ],
   "source": [
    "df1"
   ]
  },
  {
   "cell_type": "code",
   "execution_count": 100,
   "metadata": {},
   "outputs": [
    {
     "data": {
      "text/html": [
       "<div>\n",
       "<style>\n",
       "    .dataframe thead tr:only-child th {\n",
       "        text-align: right;\n",
       "    }\n",
       "\n",
       "    .dataframe thead th {\n",
       "        text-align: left;\n",
       "    }\n",
       "\n",
       "    .dataframe tbody tr th {\n",
       "        vertical-align: top;\n",
       "    }\n",
       "</style>\n",
       "<table border=\"1\" class=\"dataframe\">\n",
       "  <thead>\n",
       "    <tr style=\"text-align: right;\">\n",
       "      <th></th>\n",
       "      <th>A</th>\n",
       "      <th>B</th>\n",
       "      <th>C</th>\n",
       "      <th>D</th>\n",
       "      <th>F</th>\n",
       "      <th>E</th>\n",
       "    </tr>\n",
       "  </thead>\n",
       "  <tbody>\n",
       "    <tr>\n",
       "      <th>2013-01-02</th>\n",
       "      <td>-1.156791</td>\n",
       "      <td>-0.695225</td>\n",
       "      <td>-1.481043</td>\n",
       "      <td>-5</td>\n",
       "      <td>-1.0</td>\n",
       "      <td>1.0</td>\n",
       "    </tr>\n",
       "  </tbody>\n",
       "</table>\n",
       "</div>"
      ],
      "text/plain": [
       "                   A         B         C  D    F    E\n",
       "2013-01-02 -1.156791 -0.695225 -1.481043 -5 -1.0  1.0"
      ]
     },
     "execution_count": 100,
     "metadata": {},
     "output_type": "execute_result"
    }
   ],
   "source": [
    "df1.dropna(how =\"any\")"
   ]
  },
  {
   "cell_type": "code",
   "execution_count": 101,
   "metadata": {},
   "outputs": [
    {
     "data": {
      "text/html": [
       "<div>\n",
       "<style>\n",
       "    .dataframe thead tr:only-child th {\n",
       "        text-align: right;\n",
       "    }\n",
       "\n",
       "    .dataframe thead th {\n",
       "        text-align: left;\n",
       "    }\n",
       "\n",
       "    .dataframe tbody tr th {\n",
       "        vertical-align: top;\n",
       "    }\n",
       "</style>\n",
       "<table border=\"1\" class=\"dataframe\">\n",
       "  <thead>\n",
       "    <tr style=\"text-align: right;\">\n",
       "      <th></th>\n",
       "      <th>A</th>\n",
       "      <th>B</th>\n",
       "      <th>C</th>\n",
       "      <th>D</th>\n",
       "      <th>F</th>\n",
       "      <th>E</th>\n",
       "    </tr>\n",
       "  </thead>\n",
       "  <tbody>\n",
       "    <tr>\n",
       "      <th>2013-01-01</th>\n",
       "      <td>0.000000</td>\n",
       "      <td>0.000000</td>\n",
       "      <td>-1.131439</td>\n",
       "      <td>-5</td>\n",
       "      <td>NaN</td>\n",
       "      <td>1.0</td>\n",
       "    </tr>\n",
       "    <tr>\n",
       "      <th>2013-01-02</th>\n",
       "      <td>-1.156791</td>\n",
       "      <td>-0.695225</td>\n",
       "      <td>-1.481043</td>\n",
       "      <td>-5</td>\n",
       "      <td>-1.0</td>\n",
       "      <td>1.0</td>\n",
       "    </tr>\n",
       "    <tr>\n",
       "      <th>2013-01-03</th>\n",
       "      <td>-0.151178</td>\n",
       "      <td>-0.179467</td>\n",
       "      <td>-0.222623</td>\n",
       "      <td>-5</td>\n",
       "      <td>-2.0</td>\n",
       "      <td>NaN</td>\n",
       "    </tr>\n",
       "    <tr>\n",
       "      <th>2013-01-04</th>\n",
       "      <td>-0.119923</td>\n",
       "      <td>-0.650069</td>\n",
       "      <td>-0.720750</td>\n",
       "      <td>-5</td>\n",
       "      <td>-3.0</td>\n",
       "      <td>NaN</td>\n",
       "    </tr>\n",
       "  </tbody>\n",
       "</table>\n",
       "</div>"
      ],
      "text/plain": [
       "                   A         B         C  D    F    E\n",
       "2013-01-01  0.000000  0.000000 -1.131439 -5  NaN  1.0\n",
       "2013-01-02 -1.156791 -0.695225 -1.481043 -5 -1.0  1.0\n",
       "2013-01-03 -0.151178 -0.179467 -0.222623 -5 -2.0  NaN\n",
       "2013-01-04 -0.119923 -0.650069 -0.720750 -5 -3.0  NaN"
      ]
     },
     "execution_count": 101,
     "metadata": {},
     "output_type": "execute_result"
    }
   ],
   "source": [
    "df1"
   ]
  },
  {
   "cell_type": "code",
   "execution_count": 103,
   "metadata": {},
   "outputs": [
    {
     "data": {
      "text/html": [
       "<div>\n",
       "<style>\n",
       "    .dataframe thead tr:only-child th {\n",
       "        text-align: right;\n",
       "    }\n",
       "\n",
       "    .dataframe thead th {\n",
       "        text-align: left;\n",
       "    }\n",
       "\n",
       "    .dataframe tbody tr th {\n",
       "        vertical-align: top;\n",
       "    }\n",
       "</style>\n",
       "<table border=\"1\" class=\"dataframe\">\n",
       "  <thead>\n",
       "    <tr style=\"text-align: right;\">\n",
       "      <th></th>\n",
       "      <th>A</th>\n",
       "      <th>B</th>\n",
       "      <th>C</th>\n",
       "      <th>D</th>\n",
       "      <th>F</th>\n",
       "      <th>E</th>\n",
       "    </tr>\n",
       "  </thead>\n",
       "  <tbody>\n",
       "    <tr>\n",
       "      <th>2013-01-01</th>\n",
       "      <td>0.000000</td>\n",
       "      <td>0.000000</td>\n",
       "      <td>-1.131439</td>\n",
       "      <td>-5</td>\n",
       "      <td>5.0</td>\n",
       "      <td>1.0</td>\n",
       "    </tr>\n",
       "    <tr>\n",
       "      <th>2013-01-02</th>\n",
       "      <td>-1.156791</td>\n",
       "      <td>-0.695225</td>\n",
       "      <td>-1.481043</td>\n",
       "      <td>-5</td>\n",
       "      <td>-1.0</td>\n",
       "      <td>1.0</td>\n",
       "    </tr>\n",
       "    <tr>\n",
       "      <th>2013-01-03</th>\n",
       "      <td>-0.151178</td>\n",
       "      <td>-0.179467</td>\n",
       "      <td>-0.222623</td>\n",
       "      <td>-5</td>\n",
       "      <td>-2.0</td>\n",
       "      <td>5.0</td>\n",
       "    </tr>\n",
       "    <tr>\n",
       "      <th>2013-01-04</th>\n",
       "      <td>-0.119923</td>\n",
       "      <td>-0.650069</td>\n",
       "      <td>-0.720750</td>\n",
       "      <td>-5</td>\n",
       "      <td>-3.0</td>\n",
       "      <td>5.0</td>\n",
       "    </tr>\n",
       "  </tbody>\n",
       "</table>\n",
       "</div>"
      ],
      "text/plain": [
       "                   A         B         C  D    F    E\n",
       "2013-01-01  0.000000  0.000000 -1.131439 -5  5.0  1.0\n",
       "2013-01-02 -1.156791 -0.695225 -1.481043 -5 -1.0  1.0\n",
       "2013-01-03 -0.151178 -0.179467 -0.222623 -5 -2.0  5.0\n",
       "2013-01-04 -0.119923 -0.650069 -0.720750 -5 -3.0  5.0"
      ]
     },
     "execution_count": 103,
     "metadata": {},
     "output_type": "execute_result"
    }
   ],
   "source": [
    "df1.fillna(value=5)"
   ]
  },
  {
   "cell_type": "code",
   "execution_count": 104,
   "metadata": {},
   "outputs": [
    {
     "data": {
      "text/html": [
       "<div>\n",
       "<style>\n",
       "    .dataframe thead tr:only-child th {\n",
       "        text-align: right;\n",
       "    }\n",
       "\n",
       "    .dataframe thead th {\n",
       "        text-align: left;\n",
       "    }\n",
       "\n",
       "    .dataframe tbody tr th {\n",
       "        vertical-align: top;\n",
       "    }\n",
       "</style>\n",
       "<table border=\"1\" class=\"dataframe\">\n",
       "  <thead>\n",
       "    <tr style=\"text-align: right;\">\n",
       "      <th></th>\n",
       "      <th>A</th>\n",
       "      <th>B</th>\n",
       "      <th>C</th>\n",
       "      <th>D</th>\n",
       "      <th>F</th>\n",
       "      <th>E</th>\n",
       "    </tr>\n",
       "  </thead>\n",
       "  <tbody>\n",
       "    <tr>\n",
       "      <th>2013-01-01</th>\n",
       "      <td>False</td>\n",
       "      <td>False</td>\n",
       "      <td>False</td>\n",
       "      <td>False</td>\n",
       "      <td>True</td>\n",
       "      <td>False</td>\n",
       "    </tr>\n",
       "    <tr>\n",
       "      <th>2013-01-02</th>\n",
       "      <td>False</td>\n",
       "      <td>False</td>\n",
       "      <td>False</td>\n",
       "      <td>False</td>\n",
       "      <td>False</td>\n",
       "      <td>False</td>\n",
       "    </tr>\n",
       "    <tr>\n",
       "      <th>2013-01-03</th>\n",
       "      <td>False</td>\n",
       "      <td>False</td>\n",
       "      <td>False</td>\n",
       "      <td>False</td>\n",
       "      <td>False</td>\n",
       "      <td>True</td>\n",
       "    </tr>\n",
       "    <tr>\n",
       "      <th>2013-01-04</th>\n",
       "      <td>False</td>\n",
       "      <td>False</td>\n",
       "      <td>False</td>\n",
       "      <td>False</td>\n",
       "      <td>False</td>\n",
       "      <td>True</td>\n",
       "    </tr>\n",
       "  </tbody>\n",
       "</table>\n",
       "</div>"
      ],
      "text/plain": [
       "                A      B      C      D      F      E\n",
       "2013-01-01  False  False  False  False   True  False\n",
       "2013-01-02  False  False  False  False  False  False\n",
       "2013-01-03  False  False  False  False  False   True\n",
       "2013-01-04  False  False  False  False  False   True"
      ]
     },
     "execution_count": 104,
     "metadata": {},
     "output_type": "execute_result"
    }
   ],
   "source": [
    "pd.isnull(df1)"
   ]
  },
  {
   "cell_type": "markdown",
   "metadata": {},
   "source": [
    "## 操作"
   ]
  },
  {
   "cell_type": "markdown",
   "metadata": {},
   "source": [
    "### 统计"
   ]
  },
  {
   "cell_type": "code",
   "execution_count": 106,
   "metadata": {},
   "outputs": [
    {
     "data": {
      "text/plain": [
       "A   -0.448536\n",
       "B   -0.324681\n",
       "C   -1.021786\n",
       "D   -5.000000\n",
       "F   -3.000000\n",
       "dtype: float64"
      ]
     },
     "execution_count": 106,
     "metadata": {},
     "output_type": "execute_result"
    }
   ],
   "source": [
    "df.mean()"
   ]
  },
  {
   "cell_type": "code",
   "execution_count": 108,
   "metadata": {},
   "outputs": [
    {
     "data": {
      "text/plain": [
       "2013-01-01   -1.532860\n",
       "2013-01-02   -1.866612\n",
       "2013-01-03   -1.510654\n",
       "2013-01-04   -1.898148\n",
       "2013-01-05   -2.218373\n",
       "2013-01-06   -2.433930\n",
       "Freq: D, dtype: float64"
      ]
     },
     "execution_count": 108,
     "metadata": {},
     "output_type": "execute_result"
    }
   ],
   "source": [
    "df.mean(1)#沿着1轴"
   ]
  },
  {
   "cell_type": "code",
   "execution_count": 111,
   "metadata": {
    "collapsed": true
   },
   "outputs": [],
   "source": [
    "s=pd.Series([1,3,5,np.nan,6,8],index=dates).shift(2)"
   ]
  },
  {
   "cell_type": "code",
   "execution_count": 112,
   "metadata": {},
   "outputs": [
    {
     "data": {
      "text/plain": [
       "2013-01-01    NaN\n",
       "2013-01-02    NaN\n",
       "2013-01-03    1.0\n",
       "2013-01-04    3.0\n",
       "2013-01-05    5.0\n",
       "2013-01-06    NaN\n",
       "Freq: D, dtype: float64"
      ]
     },
     "execution_count": 112,
     "metadata": {},
     "output_type": "execute_result"
    }
   ],
   "source": [
    "s"
   ]
  },
  {
   "cell_type": "code",
   "execution_count": 113,
   "metadata": {},
   "outputs": [
    {
     "data": {
      "text/html": [
       "<div>\n",
       "<style>\n",
       "    .dataframe thead tr:only-child th {\n",
       "        text-align: right;\n",
       "    }\n",
       "\n",
       "    .dataframe thead th {\n",
       "        text-align: left;\n",
       "    }\n",
       "\n",
       "    .dataframe tbody tr th {\n",
       "        vertical-align: top;\n",
       "    }\n",
       "</style>\n",
       "<table border=\"1\" class=\"dataframe\">\n",
       "  <thead>\n",
       "    <tr style=\"text-align: right;\">\n",
       "      <th></th>\n",
       "      <th>A</th>\n",
       "      <th>B</th>\n",
       "      <th>C</th>\n",
       "      <th>D</th>\n",
       "      <th>F</th>\n",
       "    </tr>\n",
       "  </thead>\n",
       "  <tbody>\n",
       "    <tr>\n",
       "      <th>2013-01-01</th>\n",
       "      <td>NaN</td>\n",
       "      <td>NaN</td>\n",
       "      <td>NaN</td>\n",
       "      <td>NaN</td>\n",
       "      <td>NaN</td>\n",
       "    </tr>\n",
       "    <tr>\n",
       "      <th>2013-01-02</th>\n",
       "      <td>NaN</td>\n",
       "      <td>NaN</td>\n",
       "      <td>NaN</td>\n",
       "      <td>NaN</td>\n",
       "      <td>NaN</td>\n",
       "    </tr>\n",
       "    <tr>\n",
       "      <th>2013-01-03</th>\n",
       "      <td>-1.151178</td>\n",
       "      <td>-1.179467</td>\n",
       "      <td>-1.222623</td>\n",
       "      <td>-6.0</td>\n",
       "      <td>-3.0</td>\n",
       "    </tr>\n",
       "    <tr>\n",
       "      <th>2013-01-04</th>\n",
       "      <td>-3.119923</td>\n",
       "      <td>-3.650069</td>\n",
       "      <td>-3.720750</td>\n",
       "      <td>-8.0</td>\n",
       "      <td>-6.0</td>\n",
       "    </tr>\n",
       "    <tr>\n",
       "      <th>2013-01-05</th>\n",
       "      <td>-5.051360</td>\n",
       "      <td>-5.261210</td>\n",
       "      <td>-6.779293</td>\n",
       "      <td>-10.0</td>\n",
       "      <td>-9.0</td>\n",
       "    </tr>\n",
       "    <tr>\n",
       "      <th>2013-01-06</th>\n",
       "      <td>NaN</td>\n",
       "      <td>NaN</td>\n",
       "      <td>NaN</td>\n",
       "      <td>NaN</td>\n",
       "      <td>NaN</td>\n",
       "    </tr>\n",
       "  </tbody>\n",
       "</table>\n",
       "</div>"
      ],
      "text/plain": [
       "                   A         B         C     D    F\n",
       "2013-01-01       NaN       NaN       NaN   NaN  NaN\n",
       "2013-01-02       NaN       NaN       NaN   NaN  NaN\n",
       "2013-01-03 -1.151178 -1.179467 -1.222623  -6.0 -3.0\n",
       "2013-01-04 -3.119923 -3.650069 -3.720750  -8.0 -6.0\n",
       "2013-01-05 -5.051360 -5.261210 -6.779293 -10.0 -9.0\n",
       "2013-01-06       NaN       NaN       NaN   NaN  NaN"
      ]
     },
     "execution_count": 113,
     "metadata": {},
     "output_type": "execute_result"
    }
   ],
   "source": [
    "df.sub(s,axis=\"index\")"
   ]
  },
  {
   "cell_type": "markdown",
   "metadata": {},
   "source": [
    "### Apply"
   ]
  },
  {
   "cell_type": "code",
   "execution_count": 114,
   "metadata": {},
   "outputs": [
    {
     "data": {
      "text/html": [
       "<div>\n",
       "<style>\n",
       "    .dataframe thead tr:only-child th {\n",
       "        text-align: right;\n",
       "    }\n",
       "\n",
       "    .dataframe thead th {\n",
       "        text-align: left;\n",
       "    }\n",
       "\n",
       "    .dataframe tbody tr th {\n",
       "        vertical-align: top;\n",
       "    }\n",
       "</style>\n",
       "<table border=\"1\" class=\"dataframe\">\n",
       "  <thead>\n",
       "    <tr style=\"text-align: right;\">\n",
       "      <th></th>\n",
       "      <th>A</th>\n",
       "      <th>B</th>\n",
       "      <th>C</th>\n",
       "      <th>D</th>\n",
       "      <th>F</th>\n",
       "    </tr>\n",
       "  </thead>\n",
       "  <tbody>\n",
       "    <tr>\n",
       "      <th>2013-01-01</th>\n",
       "      <td>0.000000</td>\n",
       "      <td>0.000000</td>\n",
       "      <td>-1.131439</td>\n",
       "      <td>-5</td>\n",
       "      <td>NaN</td>\n",
       "    </tr>\n",
       "    <tr>\n",
       "      <th>2013-01-02</th>\n",
       "      <td>-1.156791</td>\n",
       "      <td>-0.695225</td>\n",
       "      <td>-2.612483</td>\n",
       "      <td>-10</td>\n",
       "      <td>-1.0</td>\n",
       "    </tr>\n",
       "    <tr>\n",
       "      <th>2013-01-03</th>\n",
       "      <td>-1.307969</td>\n",
       "      <td>-0.874692</td>\n",
       "      <td>-2.835105</td>\n",
       "      <td>-15</td>\n",
       "      <td>-3.0</td>\n",
       "    </tr>\n",
       "    <tr>\n",
       "      <th>2013-01-04</th>\n",
       "      <td>-1.427892</td>\n",
       "      <td>-1.524761</td>\n",
       "      <td>-3.555855</td>\n",
       "      <td>-20</td>\n",
       "      <td>-6.0</td>\n",
       "    </tr>\n",
       "    <tr>\n",
       "      <th>2013-01-05</th>\n",
       "      <td>-1.479251</td>\n",
       "      <td>-1.785971</td>\n",
       "      <td>-5.335149</td>\n",
       "      <td>-25</td>\n",
       "      <td>-10.0</td>\n",
       "    </tr>\n",
       "    <tr>\n",
       "      <th>2013-01-06</th>\n",
       "      <td>-2.691215</td>\n",
       "      <td>-1.948087</td>\n",
       "      <td>-6.130719</td>\n",
       "      <td>-30</td>\n",
       "      <td>-15.0</td>\n",
       "    </tr>\n",
       "  </tbody>\n",
       "</table>\n",
       "</div>"
      ],
      "text/plain": [
       "                   A         B         C   D     F\n",
       "2013-01-01  0.000000  0.000000 -1.131439  -5   NaN\n",
       "2013-01-02 -1.156791 -0.695225 -2.612483 -10  -1.0\n",
       "2013-01-03 -1.307969 -0.874692 -2.835105 -15  -3.0\n",
       "2013-01-04 -1.427892 -1.524761 -3.555855 -20  -6.0\n",
       "2013-01-05 -1.479251 -1.785971 -5.335149 -25 -10.0\n",
       "2013-01-06 -2.691215 -1.948087 -6.130719 -30 -15.0"
      ]
     },
     "execution_count": 114,
     "metadata": {},
     "output_type": "execute_result"
    }
   ],
   "source": [
    "df.apply(np.cumsum)"
   ]
  },
  {
   "cell_type": "code",
   "execution_count": 116,
   "metadata": {},
   "outputs": [
    {
     "data": {
      "text/plain": [
       "A    1.211963\n",
       "B    0.695225\n",
       "C    1.556670\n",
       "D    0.000000\n",
       "F    4.000000\n",
       "dtype: float64"
      ]
     },
     "execution_count": 116,
     "metadata": {},
     "output_type": "execute_result"
    }
   ],
   "source": [
    "df.apply(lambda x: x.max()-x.min())"
   ]
  },
  {
   "cell_type": "markdown",
   "metadata": {},
   "source": [
    "### 直方图："
   ]
  },
  {
   "cell_type": "code",
   "execution_count": 117,
   "metadata": {
    "collapsed": true
   },
   "outputs": [],
   "source": [
    "s=pd.Series(np.random.randint(0,7,size=10))"
   ]
  },
  {
   "cell_type": "code",
   "execution_count": 118,
   "metadata": {},
   "outputs": [
    {
     "data": {
      "text/plain": [
       "0    6\n",
       "1    3\n",
       "2    6\n",
       "3    5\n",
       "4    6\n",
       "5    3\n",
       "6    6\n",
       "7    3\n",
       "8    3\n",
       "9    1\n",
       "dtype: int32"
      ]
     },
     "execution_count": 118,
     "metadata": {},
     "output_type": "execute_result"
    }
   ],
   "source": [
    "s"
   ]
  },
  {
   "cell_type": "code",
   "execution_count": 120,
   "metadata": {},
   "outputs": [
    {
     "data": {
      "text/plain": [
       "6    4\n",
       "3    4\n",
       "5    1\n",
       "1    1\n",
       "dtype: int64"
      ]
     },
     "execution_count": 120,
     "metadata": {},
     "output_type": "execute_result"
    }
   ],
   "source": [
    "s.value_counts()"
   ]
  },
  {
   "cell_type": "markdown",
   "metadata": {},
   "source": [
    "### 字符串方法"
   ]
  },
  {
   "cell_type": "code",
   "execution_count": 121,
   "metadata": {
    "collapsed": true
   },
   "outputs": [],
   "source": [
    "s=pd.Series([\"A\",\"B\",\"C\",\"Aaba\",\"Baca\",np.nan,\"CABA\",\"dog\",\"cat\"])"
   ]
  },
  {
   "cell_type": "code",
   "execution_count": 122,
   "metadata": {},
   "outputs": [
    {
     "data": {
      "text/plain": [
       "0       A\n",
       "1       B\n",
       "2       C\n",
       "3    Aaba\n",
       "4    Baca\n",
       "5     NaN\n",
       "6    CABA\n",
       "7     dog\n",
       "8     cat\n",
       "dtype: object"
      ]
     },
     "execution_count": 122,
     "metadata": {},
     "output_type": "execute_result"
    }
   ],
   "source": [
    "s"
   ]
  },
  {
   "cell_type": "code",
   "execution_count": 124,
   "metadata": {},
   "outputs": [
    {
     "data": {
      "text/plain": [
       "0       a\n",
       "1       b\n",
       "2       c\n",
       "3    aaba\n",
       "4    baca\n",
       "5     NaN\n",
       "6    caba\n",
       "7     dog\n",
       "8     cat\n",
       "dtype: object"
      ]
     },
     "execution_count": 124,
     "metadata": {},
     "output_type": "execute_result"
    }
   ],
   "source": [
    "s.str.lower()"
   ]
  },
  {
   "cell_type": "markdown",
   "metadata": {},
   "source": []
  },
  {
   "cell_type": "markdown",
   "metadata": {},
   "source": [
    "## 合并"
   ]
  },
  {
   "cell_type": "markdown",
   "metadata": {},
   "source": [
    "### 合并多个："
   ]
  },
  {
   "cell_type": "code",
   "execution_count": 125,
   "metadata": {
    "collapsed": true
   },
   "outputs": [],
   "source": [
    "df=pd.DataFrame(np.random.randn(10,4))"
   ]
  },
  {
   "cell_type": "code",
   "execution_count": 126,
   "metadata": {},
   "outputs": [
    {
     "data": {
      "text/html": [
       "<div>\n",
       "<style>\n",
       "    .dataframe thead tr:only-child th {\n",
       "        text-align: right;\n",
       "    }\n",
       "\n",
       "    .dataframe thead th {\n",
       "        text-align: left;\n",
       "    }\n",
       "\n",
       "    .dataframe tbody tr th {\n",
       "        vertical-align: top;\n",
       "    }\n",
       "</style>\n",
       "<table border=\"1\" class=\"dataframe\">\n",
       "  <thead>\n",
       "    <tr style=\"text-align: right;\">\n",
       "      <th></th>\n",
       "      <th>0</th>\n",
       "      <th>1</th>\n",
       "      <th>2</th>\n",
       "      <th>3</th>\n",
       "    </tr>\n",
       "  </thead>\n",
       "  <tbody>\n",
       "    <tr>\n",
       "      <th>0</th>\n",
       "      <td>1.013456</td>\n",
       "      <td>-0.999934</td>\n",
       "      <td>-2.282783</td>\n",
       "      <td>-0.832505</td>\n",
       "    </tr>\n",
       "    <tr>\n",
       "      <th>1</th>\n",
       "      <td>1.762047</td>\n",
       "      <td>-0.293647</td>\n",
       "      <td>0.203740</td>\n",
       "      <td>-0.053427</td>\n",
       "    </tr>\n",
       "    <tr>\n",
       "      <th>2</th>\n",
       "      <td>0.677233</td>\n",
       "      <td>0.812836</td>\n",
       "      <td>-1.452966</td>\n",
       "      <td>0.607668</td>\n",
       "    </tr>\n",
       "    <tr>\n",
       "      <th>3</th>\n",
       "      <td>-1.791048</td>\n",
       "      <td>-0.723777</td>\n",
       "      <td>-0.125270</td>\n",
       "      <td>-1.826681</td>\n",
       "    </tr>\n",
       "    <tr>\n",
       "      <th>4</th>\n",
       "      <td>-0.009143</td>\n",
       "      <td>1.267497</td>\n",
       "      <td>0.561388</td>\n",
       "      <td>-0.650305</td>\n",
       "    </tr>\n",
       "    <tr>\n",
       "      <th>5</th>\n",
       "      <td>-1.276136</td>\n",
       "      <td>-1.564495</td>\n",
       "      <td>-0.222578</td>\n",
       "      <td>0.314629</td>\n",
       "    </tr>\n",
       "    <tr>\n",
       "      <th>6</th>\n",
       "      <td>-1.837235</td>\n",
       "      <td>-0.197845</td>\n",
       "      <td>1.813809</td>\n",
       "      <td>-0.380806</td>\n",
       "    </tr>\n",
       "    <tr>\n",
       "      <th>7</th>\n",
       "      <td>0.686543</td>\n",
       "      <td>-2.484247</td>\n",
       "      <td>2.297887</td>\n",
       "      <td>-0.087986</td>\n",
       "    </tr>\n",
       "    <tr>\n",
       "      <th>8</th>\n",
       "      <td>0.629981</td>\n",
       "      <td>-1.485940</td>\n",
       "      <td>-0.237160</td>\n",
       "      <td>0.566538</td>\n",
       "    </tr>\n",
       "    <tr>\n",
       "      <th>9</th>\n",
       "      <td>0.264745</td>\n",
       "      <td>0.116633</td>\n",
       "      <td>2.024805</td>\n",
       "      <td>2.253778</td>\n",
       "    </tr>\n",
       "  </tbody>\n",
       "</table>\n",
       "</div>"
      ],
      "text/plain": [
       "          0         1         2         3\n",
       "0  1.013456 -0.999934 -2.282783 -0.832505\n",
       "1  1.762047 -0.293647  0.203740 -0.053427\n",
       "2  0.677233  0.812836 -1.452966  0.607668\n",
       "3 -1.791048 -0.723777 -0.125270 -1.826681\n",
       "4 -0.009143  1.267497  0.561388 -0.650305\n",
       "5 -1.276136 -1.564495 -0.222578  0.314629\n",
       "6 -1.837235 -0.197845  1.813809 -0.380806\n",
       "7  0.686543 -2.484247  2.297887 -0.087986\n",
       "8  0.629981 -1.485940 -0.237160  0.566538\n",
       "9  0.264745  0.116633  2.024805  2.253778"
      ]
     },
     "execution_count": 126,
     "metadata": {},
     "output_type": "execute_result"
    }
   ],
   "source": [
    "df"
   ]
  },
  {
   "cell_type": "code",
   "execution_count": 127,
   "metadata": {
    "collapsed": true
   },
   "outputs": [],
   "source": [
    "pieces=[df[:3],df[3:7],df[7:]]"
   ]
  },
  {
   "cell_type": "code",
   "execution_count": 128,
   "metadata": {},
   "outputs": [
    {
     "data": {
      "text/plain": [
       "[          0         1         2         3\n",
       " 0  1.013456 -0.999934 -2.282783 -0.832505\n",
       " 1  1.762047 -0.293647  0.203740 -0.053427\n",
       " 2  0.677233  0.812836 -1.452966  0.607668,\n",
       "           0         1         2         3\n",
       " 3 -1.791048 -0.723777 -0.125270 -1.826681\n",
       " 4 -0.009143  1.267497  0.561388 -0.650305\n",
       " 5 -1.276136 -1.564495 -0.222578  0.314629\n",
       " 6 -1.837235 -0.197845  1.813809 -0.380806,\n",
       "           0         1         2         3\n",
       " 7  0.686543 -2.484247  2.297887 -0.087986\n",
       " 8  0.629981 -1.485940 -0.237160  0.566538\n",
       " 9  0.264745  0.116633  2.024805  2.253778]"
      ]
     },
     "execution_count": 128,
     "metadata": {},
     "output_type": "execute_result"
    }
   ],
   "source": [
    "pieces"
   ]
  },
  {
   "cell_type": "code",
   "execution_count": 130,
   "metadata": {},
   "outputs": [
    {
     "data": {
      "text/html": [
       "<div>\n",
       "<style>\n",
       "    .dataframe thead tr:only-child th {\n",
       "        text-align: right;\n",
       "    }\n",
       "\n",
       "    .dataframe thead th {\n",
       "        text-align: left;\n",
       "    }\n",
       "\n",
       "    .dataframe tbody tr th {\n",
       "        vertical-align: top;\n",
       "    }\n",
       "</style>\n",
       "<table border=\"1\" class=\"dataframe\">\n",
       "  <thead>\n",
       "    <tr style=\"text-align: right;\">\n",
       "      <th></th>\n",
       "      <th>0</th>\n",
       "      <th>1</th>\n",
       "      <th>2</th>\n",
       "      <th>3</th>\n",
       "    </tr>\n",
       "  </thead>\n",
       "  <tbody>\n",
       "    <tr>\n",
       "      <th>0</th>\n",
       "      <td>1.013456</td>\n",
       "      <td>-0.999934</td>\n",
       "      <td>-2.282783</td>\n",
       "      <td>-0.832505</td>\n",
       "    </tr>\n",
       "    <tr>\n",
       "      <th>1</th>\n",
       "      <td>1.762047</td>\n",
       "      <td>-0.293647</td>\n",
       "      <td>0.203740</td>\n",
       "      <td>-0.053427</td>\n",
       "    </tr>\n",
       "    <tr>\n",
       "      <th>2</th>\n",
       "      <td>0.677233</td>\n",
       "      <td>0.812836</td>\n",
       "      <td>-1.452966</td>\n",
       "      <td>0.607668</td>\n",
       "    </tr>\n",
       "  </tbody>\n",
       "</table>\n",
       "</div>"
      ],
      "text/plain": [
       "          0         1         2         3\n",
       "0  1.013456 -0.999934 -2.282783 -0.832505\n",
       "1  1.762047 -0.293647  0.203740 -0.053427\n",
       "2  0.677233  0.812836 -1.452966  0.607668"
      ]
     },
     "execution_count": 130,
     "metadata": {},
     "output_type": "execute_result"
    }
   ],
   "source": [
    "pieces[0]"
   ]
  },
  {
   "cell_type": "code",
   "execution_count": 129,
   "metadata": {},
   "outputs": [
    {
     "data": {
      "text/html": [
       "<div>\n",
       "<style>\n",
       "    .dataframe thead tr:only-child th {\n",
       "        text-align: right;\n",
       "    }\n",
       "\n",
       "    .dataframe thead th {\n",
       "        text-align: left;\n",
       "    }\n",
       "\n",
       "    .dataframe tbody tr th {\n",
       "        vertical-align: top;\n",
       "    }\n",
       "</style>\n",
       "<table border=\"1\" class=\"dataframe\">\n",
       "  <thead>\n",
       "    <tr style=\"text-align: right;\">\n",
       "      <th></th>\n",
       "      <th>0</th>\n",
       "      <th>1</th>\n",
       "      <th>2</th>\n",
       "      <th>3</th>\n",
       "    </tr>\n",
       "  </thead>\n",
       "  <tbody>\n",
       "    <tr>\n",
       "      <th>0</th>\n",
       "      <td>1.013456</td>\n",
       "      <td>-0.999934</td>\n",
       "      <td>-2.282783</td>\n",
       "      <td>-0.832505</td>\n",
       "    </tr>\n",
       "    <tr>\n",
       "      <th>1</th>\n",
       "      <td>1.762047</td>\n",
       "      <td>-0.293647</td>\n",
       "      <td>0.203740</td>\n",
       "      <td>-0.053427</td>\n",
       "    </tr>\n",
       "    <tr>\n",
       "      <th>2</th>\n",
       "      <td>0.677233</td>\n",
       "      <td>0.812836</td>\n",
       "      <td>-1.452966</td>\n",
       "      <td>0.607668</td>\n",
       "    </tr>\n",
       "    <tr>\n",
       "      <th>3</th>\n",
       "      <td>-1.791048</td>\n",
       "      <td>-0.723777</td>\n",
       "      <td>-0.125270</td>\n",
       "      <td>-1.826681</td>\n",
       "    </tr>\n",
       "    <tr>\n",
       "      <th>4</th>\n",
       "      <td>-0.009143</td>\n",
       "      <td>1.267497</td>\n",
       "      <td>0.561388</td>\n",
       "      <td>-0.650305</td>\n",
       "    </tr>\n",
       "    <tr>\n",
       "      <th>5</th>\n",
       "      <td>-1.276136</td>\n",
       "      <td>-1.564495</td>\n",
       "      <td>-0.222578</td>\n",
       "      <td>0.314629</td>\n",
       "    </tr>\n",
       "    <tr>\n",
       "      <th>6</th>\n",
       "      <td>-1.837235</td>\n",
       "      <td>-0.197845</td>\n",
       "      <td>1.813809</td>\n",
       "      <td>-0.380806</td>\n",
       "    </tr>\n",
       "    <tr>\n",
       "      <th>7</th>\n",
       "      <td>0.686543</td>\n",
       "      <td>-2.484247</td>\n",
       "      <td>2.297887</td>\n",
       "      <td>-0.087986</td>\n",
       "    </tr>\n",
       "    <tr>\n",
       "      <th>8</th>\n",
       "      <td>0.629981</td>\n",
       "      <td>-1.485940</td>\n",
       "      <td>-0.237160</td>\n",
       "      <td>0.566538</td>\n",
       "    </tr>\n",
       "    <tr>\n",
       "      <th>9</th>\n",
       "      <td>0.264745</td>\n",
       "      <td>0.116633</td>\n",
       "      <td>2.024805</td>\n",
       "      <td>2.253778</td>\n",
       "    </tr>\n",
       "  </tbody>\n",
       "</table>\n",
       "</div>"
      ],
      "text/plain": [
       "          0         1         2         3\n",
       "0  1.013456 -0.999934 -2.282783 -0.832505\n",
       "1  1.762047 -0.293647  0.203740 -0.053427\n",
       "2  0.677233  0.812836 -1.452966  0.607668\n",
       "3 -1.791048 -0.723777 -0.125270 -1.826681\n",
       "4 -0.009143  1.267497  0.561388 -0.650305\n",
       "5 -1.276136 -1.564495 -0.222578  0.314629\n",
       "6 -1.837235 -0.197845  1.813809 -0.380806\n",
       "7  0.686543 -2.484247  2.297887 -0.087986\n",
       "8  0.629981 -1.485940 -0.237160  0.566538\n",
       "9  0.264745  0.116633  2.024805  2.253778"
      ]
     },
     "execution_count": 129,
     "metadata": {},
     "output_type": "execute_result"
    }
   ],
   "source": [
    "pd.concat(pieces)"
   ]
  },
  {
   "cell_type": "markdown",
   "metadata": {},
   "source": [
    "### Join"
   ]
  },
  {
   "cell_type": "code",
   "execution_count": 131,
   "metadata": {
    "collapsed": true
   },
   "outputs": [],
   "source": [
    "left=pd.DataFrame({\"key\":[\"foo\",\"foo\"],\n",
    "                  \"lval\":[1,2]})"
   ]
  },
  {
   "cell_type": "code",
   "execution_count": 132,
   "metadata": {
    "collapsed": true
   },
   "outputs": [],
   "source": [
    "right=pd.DataFrame({\"key\":[\"foo\",\"foo\"],\n",
    "                   \"rval\":[4,5]})"
   ]
  },
  {
   "cell_type": "code",
   "execution_count": 133,
   "metadata": {},
   "outputs": [
    {
     "data": {
      "text/html": [
       "<div>\n",
       "<style>\n",
       "    .dataframe thead tr:only-child th {\n",
       "        text-align: right;\n",
       "    }\n",
       "\n",
       "    .dataframe thead th {\n",
       "        text-align: left;\n",
       "    }\n",
       "\n",
       "    .dataframe tbody tr th {\n",
       "        vertical-align: top;\n",
       "    }\n",
       "</style>\n",
       "<table border=\"1\" class=\"dataframe\">\n",
       "  <thead>\n",
       "    <tr style=\"text-align: right;\">\n",
       "      <th></th>\n",
       "      <th>key</th>\n",
       "      <th>lval</th>\n",
       "    </tr>\n",
       "  </thead>\n",
       "  <tbody>\n",
       "    <tr>\n",
       "      <th>0</th>\n",
       "      <td>foo</td>\n",
       "      <td>1</td>\n",
       "    </tr>\n",
       "    <tr>\n",
       "      <th>1</th>\n",
       "      <td>foo</td>\n",
       "      <td>2</td>\n",
       "    </tr>\n",
       "  </tbody>\n",
       "</table>\n",
       "</div>"
      ],
      "text/plain": [
       "   key  lval\n",
       "0  foo     1\n",
       "1  foo     2"
      ]
     },
     "execution_count": 133,
     "metadata": {},
     "output_type": "execute_result"
    }
   ],
   "source": [
    "left"
   ]
  },
  {
   "cell_type": "code",
   "execution_count": 134,
   "metadata": {},
   "outputs": [
    {
     "data": {
      "text/html": [
       "<div>\n",
       "<style>\n",
       "    .dataframe thead tr:only-child th {\n",
       "        text-align: right;\n",
       "    }\n",
       "\n",
       "    .dataframe thead th {\n",
       "        text-align: left;\n",
       "    }\n",
       "\n",
       "    .dataframe tbody tr th {\n",
       "        vertical-align: top;\n",
       "    }\n",
       "</style>\n",
       "<table border=\"1\" class=\"dataframe\">\n",
       "  <thead>\n",
       "    <tr style=\"text-align: right;\">\n",
       "      <th></th>\n",
       "      <th>key</th>\n",
       "      <th>rval</th>\n",
       "    </tr>\n",
       "  </thead>\n",
       "  <tbody>\n",
       "    <tr>\n",
       "      <th>0</th>\n",
       "      <td>foo</td>\n",
       "      <td>4</td>\n",
       "    </tr>\n",
       "    <tr>\n",
       "      <th>1</th>\n",
       "      <td>foo</td>\n",
       "      <td>5</td>\n",
       "    </tr>\n",
       "  </tbody>\n",
       "</table>\n",
       "</div>"
      ],
      "text/plain": [
       "   key  rval\n",
       "0  foo     4\n",
       "1  foo     5"
      ]
     },
     "execution_count": 134,
     "metadata": {},
     "output_type": "execute_result"
    }
   ],
   "source": [
    "right"
   ]
  },
  {
   "cell_type": "code",
   "execution_count": 135,
   "metadata": {},
   "outputs": [
    {
     "data": {
      "text/html": [
       "<div>\n",
       "<style>\n",
       "    .dataframe thead tr:only-child th {\n",
       "        text-align: right;\n",
       "    }\n",
       "\n",
       "    .dataframe thead th {\n",
       "        text-align: left;\n",
       "    }\n",
       "\n",
       "    .dataframe tbody tr th {\n",
       "        vertical-align: top;\n",
       "    }\n",
       "</style>\n",
       "<table border=\"1\" class=\"dataframe\">\n",
       "  <thead>\n",
       "    <tr style=\"text-align: right;\">\n",
       "      <th></th>\n",
       "      <th>key</th>\n",
       "      <th>lval</th>\n",
       "      <th>rval</th>\n",
       "    </tr>\n",
       "  </thead>\n",
       "  <tbody>\n",
       "    <tr>\n",
       "      <th>0</th>\n",
       "      <td>foo</td>\n",
       "      <td>1</td>\n",
       "      <td>4</td>\n",
       "    </tr>\n",
       "    <tr>\n",
       "      <th>1</th>\n",
       "      <td>foo</td>\n",
       "      <td>1</td>\n",
       "      <td>5</td>\n",
       "    </tr>\n",
       "    <tr>\n",
       "      <th>2</th>\n",
       "      <td>foo</td>\n",
       "      <td>2</td>\n",
       "      <td>4</td>\n",
       "    </tr>\n",
       "    <tr>\n",
       "      <th>3</th>\n",
       "      <td>foo</td>\n",
       "      <td>2</td>\n",
       "      <td>5</td>\n",
       "    </tr>\n",
       "  </tbody>\n",
       "</table>\n",
       "</div>"
      ],
      "text/plain": [
       "   key  lval  rval\n",
       "0  foo     1     4\n",
       "1  foo     1     5\n",
       "2  foo     2     4\n",
       "3  foo     2     5"
      ]
     },
     "execution_count": 135,
     "metadata": {},
     "output_type": "execute_result"
    }
   ],
   "source": [
    "pd.merge(left,right)"
   ]
  },
  {
   "cell_type": "code",
   "execution_count": 136,
   "metadata": {},
   "outputs": [
    {
     "data": {
      "text/html": [
       "<div>\n",
       "<style>\n",
       "    .dataframe thead tr:only-child th {\n",
       "        text-align: right;\n",
       "    }\n",
       "\n",
       "    .dataframe thead th {\n",
       "        text-align: left;\n",
       "    }\n",
       "\n",
       "    .dataframe tbody tr th {\n",
       "        vertical-align: top;\n",
       "    }\n",
       "</style>\n",
       "<table border=\"1\" class=\"dataframe\">\n",
       "  <thead>\n",
       "    <tr style=\"text-align: right;\">\n",
       "      <th></th>\n",
       "      <th>key</th>\n",
       "      <th>lval</th>\n",
       "      <th>rval</th>\n",
       "    </tr>\n",
       "  </thead>\n",
       "  <tbody>\n",
       "    <tr>\n",
       "      <th>0</th>\n",
       "      <td>foo</td>\n",
       "      <td>1</td>\n",
       "      <td>4</td>\n",
       "    </tr>\n",
       "    <tr>\n",
       "      <th>1</th>\n",
       "      <td>foo</td>\n",
       "      <td>1</td>\n",
       "      <td>5</td>\n",
       "    </tr>\n",
       "    <tr>\n",
       "      <th>2</th>\n",
       "      <td>foo</td>\n",
       "      <td>2</td>\n",
       "      <td>4</td>\n",
       "    </tr>\n",
       "    <tr>\n",
       "      <th>3</th>\n",
       "      <td>foo</td>\n",
       "      <td>2</td>\n",
       "      <td>5</td>\n",
       "    </tr>\n",
       "  </tbody>\n",
       "</table>\n",
       "</div>"
      ],
      "text/plain": [
       "   key  lval  rval\n",
       "0  foo     1     4\n",
       "1  foo     1     5\n",
       "2  foo     2     4\n",
       "3  foo     2     5"
      ]
     },
     "execution_count": 136,
     "metadata": {},
     "output_type": "execute_result"
    }
   ],
   "source": [
    "pd.merge(left,right,on=\"key\")"
   ]
  },
  {
   "cell_type": "markdown",
   "metadata": {},
   "source": [
    "- 另一个相似但是不大一样的例子"
   ]
  },
  {
   "cell_type": "code",
   "execution_count": 137,
   "metadata": {
    "collapsed": true
   },
   "outputs": [],
   "source": [
    "left=pd.DataFrame({\"key\":[\"foo\",\"bar\"],\n",
    "                  \"lval\":[1,2]})\n",
    "right=pd.DataFrame({\"key\":[\"foo\",\"bar\"],\n",
    "                   \"rval\":[4,5]})"
   ]
  },
  {
   "cell_type": "code",
   "execution_count": 138,
   "metadata": {},
   "outputs": [
    {
     "data": {
      "text/plain": [
       "(   key  lval\n",
       " 0  foo     1\n",
       " 1  bar     2,    key  rval\n",
       " 0  foo     4\n",
       " 1  bar     5)"
      ]
     },
     "execution_count": 138,
     "metadata": {},
     "output_type": "execute_result"
    }
   ],
   "source": [
    "left,right"
   ]
  },
  {
   "cell_type": "code",
   "execution_count": 139,
   "metadata": {},
   "outputs": [
    {
     "data": {
      "text/html": [
       "<div>\n",
       "<style>\n",
       "    .dataframe thead tr:only-child th {\n",
       "        text-align: right;\n",
       "    }\n",
       "\n",
       "    .dataframe thead th {\n",
       "        text-align: left;\n",
       "    }\n",
       "\n",
       "    .dataframe tbody tr th {\n",
       "        vertical-align: top;\n",
       "    }\n",
       "</style>\n",
       "<table border=\"1\" class=\"dataframe\">\n",
       "  <thead>\n",
       "    <tr style=\"text-align: right;\">\n",
       "      <th></th>\n",
       "      <th>key</th>\n",
       "      <th>lval</th>\n",
       "    </tr>\n",
       "  </thead>\n",
       "  <tbody>\n",
       "    <tr>\n",
       "      <th>0</th>\n",
       "      <td>foo</td>\n",
       "      <td>1</td>\n",
       "    </tr>\n",
       "    <tr>\n",
       "      <th>1</th>\n",
       "      <td>bar</td>\n",
       "      <td>2</td>\n",
       "    </tr>\n",
       "  </tbody>\n",
       "</table>\n",
       "</div>"
      ],
      "text/plain": [
       "   key  lval\n",
       "0  foo     1\n",
       "1  bar     2"
      ]
     },
     "execution_count": 139,
     "metadata": {},
     "output_type": "execute_result"
    }
   ],
   "source": [
    "left"
   ]
  },
  {
   "cell_type": "code",
   "execution_count": 140,
   "metadata": {},
   "outputs": [
    {
     "data": {
      "text/html": [
       "<div>\n",
       "<style>\n",
       "    .dataframe thead tr:only-child th {\n",
       "        text-align: right;\n",
       "    }\n",
       "\n",
       "    .dataframe thead th {\n",
       "        text-align: left;\n",
       "    }\n",
       "\n",
       "    .dataframe tbody tr th {\n",
       "        vertical-align: top;\n",
       "    }\n",
       "</style>\n",
       "<table border=\"1\" class=\"dataframe\">\n",
       "  <thead>\n",
       "    <tr style=\"text-align: right;\">\n",
       "      <th></th>\n",
       "      <th>key</th>\n",
       "      <th>rval</th>\n",
       "    </tr>\n",
       "  </thead>\n",
       "  <tbody>\n",
       "    <tr>\n",
       "      <th>0</th>\n",
       "      <td>foo</td>\n",
       "      <td>4</td>\n",
       "    </tr>\n",
       "    <tr>\n",
       "      <th>1</th>\n",
       "      <td>bar</td>\n",
       "      <td>5</td>\n",
       "    </tr>\n",
       "  </tbody>\n",
       "</table>\n",
       "</div>"
      ],
      "text/plain": [
       "   key  rval\n",
       "0  foo     4\n",
       "1  bar     5"
      ]
     },
     "execution_count": 140,
     "metadata": {},
     "output_type": "execute_result"
    }
   ],
   "source": [
    "right"
   ]
  },
  {
   "cell_type": "code",
   "execution_count": 141,
   "metadata": {},
   "outputs": [
    {
     "data": {
      "text/html": [
       "<div>\n",
       "<style>\n",
       "    .dataframe thead tr:only-child th {\n",
       "        text-align: right;\n",
       "    }\n",
       "\n",
       "    .dataframe thead th {\n",
       "        text-align: left;\n",
       "    }\n",
       "\n",
       "    .dataframe tbody tr th {\n",
       "        vertical-align: top;\n",
       "    }\n",
       "</style>\n",
       "<table border=\"1\" class=\"dataframe\">\n",
       "  <thead>\n",
       "    <tr style=\"text-align: right;\">\n",
       "      <th></th>\n",
       "      <th>key</th>\n",
       "      <th>lval</th>\n",
       "      <th>rval</th>\n",
       "    </tr>\n",
       "  </thead>\n",
       "  <tbody>\n",
       "    <tr>\n",
       "      <th>0</th>\n",
       "      <td>foo</td>\n",
       "      <td>1</td>\n",
       "      <td>4</td>\n",
       "    </tr>\n",
       "    <tr>\n",
       "      <th>1</th>\n",
       "      <td>bar</td>\n",
       "      <td>2</td>\n",
       "      <td>5</td>\n",
       "    </tr>\n",
       "  </tbody>\n",
       "</table>\n",
       "</div>"
      ],
      "text/plain": [
       "   key  lval  rval\n",
       "0  foo     1     4\n",
       "1  bar     2     5"
      ]
     },
     "execution_count": 141,
     "metadata": {},
     "output_type": "execute_result"
    }
   ],
   "source": [
    "pd.merge(left,right,on=\"key\")"
   ]
  },
  {
   "cell_type": "code",
   "execution_count": 142,
   "metadata": {},
   "outputs": [
    {
     "data": {
      "text/html": [
       "<div>\n",
       "<style>\n",
       "    .dataframe thead tr:only-child th {\n",
       "        text-align: right;\n",
       "    }\n",
       "\n",
       "    .dataframe thead th {\n",
       "        text-align: left;\n",
       "    }\n",
       "\n",
       "    .dataframe tbody tr th {\n",
       "        vertical-align: top;\n",
       "    }\n",
       "</style>\n",
       "<table border=\"1\" class=\"dataframe\">\n",
       "  <thead>\n",
       "    <tr style=\"text-align: right;\">\n",
       "      <th></th>\n",
       "      <th>key</th>\n",
       "      <th>lval</th>\n",
       "      <th>rval</th>\n",
       "    </tr>\n",
       "  </thead>\n",
       "  <tbody>\n",
       "    <tr>\n",
       "      <th>0</th>\n",
       "      <td>foo</td>\n",
       "      <td>1</td>\n",
       "      <td>4</td>\n",
       "    </tr>\n",
       "    <tr>\n",
       "      <th>1</th>\n",
       "      <td>bar</td>\n",
       "      <td>2</td>\n",
       "      <td>5</td>\n",
       "    </tr>\n",
       "  </tbody>\n",
       "</table>\n",
       "</div>"
      ],
      "text/plain": [
       "   key  lval  rval\n",
       "0  foo     1     4\n",
       "1  bar     2     5"
      ]
     },
     "execution_count": 142,
     "metadata": {},
     "output_type": "execute_result"
    }
   ],
   "source": [
    "pd.merge(left,right)"
   ]
  },
  {
   "cell_type": "markdown",
   "metadata": {},
   "source": [
    "### Append"
   ]
  },
  {
   "cell_type": "code",
   "execution_count": 144,
   "metadata": {
    "collapsed": true
   },
   "outputs": [],
   "source": [
    "df=pd.DataFrame(np.random.randn(8,4),columns=[\"A\",\"B\",\"C\",\"D\"])"
   ]
  },
  {
   "cell_type": "code",
   "execution_count": 145,
   "metadata": {},
   "outputs": [
    {
     "data": {
      "text/html": [
       "<div>\n",
       "<style>\n",
       "    .dataframe thead tr:only-child th {\n",
       "        text-align: right;\n",
       "    }\n",
       "\n",
       "    .dataframe thead th {\n",
       "        text-align: left;\n",
       "    }\n",
       "\n",
       "    .dataframe tbody tr th {\n",
       "        vertical-align: top;\n",
       "    }\n",
       "</style>\n",
       "<table border=\"1\" class=\"dataframe\">\n",
       "  <thead>\n",
       "    <tr style=\"text-align: right;\">\n",
       "      <th></th>\n",
       "      <th>A</th>\n",
       "      <th>B</th>\n",
       "      <th>C</th>\n",
       "      <th>D</th>\n",
       "    </tr>\n",
       "  </thead>\n",
       "  <tbody>\n",
       "    <tr>\n",
       "      <th>0</th>\n",
       "      <td>-0.019423</td>\n",
       "      <td>-0.039721</td>\n",
       "      <td>0.225405</td>\n",
       "      <td>0.824097</td>\n",
       "    </tr>\n",
       "    <tr>\n",
       "      <th>1</th>\n",
       "      <td>0.499406</td>\n",
       "      <td>1.374752</td>\n",
       "      <td>0.016393</td>\n",
       "      <td>1.071981</td>\n",
       "    </tr>\n",
       "    <tr>\n",
       "      <th>2</th>\n",
       "      <td>-2.379952</td>\n",
       "      <td>1.732692</td>\n",
       "      <td>-1.230820</td>\n",
       "      <td>0.221126</td>\n",
       "    </tr>\n",
       "    <tr>\n",
       "      <th>3</th>\n",
       "      <td>-2.627400</td>\n",
       "      <td>-0.881319</td>\n",
       "      <td>-0.361950</td>\n",
       "      <td>0.338601</td>\n",
       "    </tr>\n",
       "    <tr>\n",
       "      <th>4</th>\n",
       "      <td>0.726652</td>\n",
       "      <td>-1.586672</td>\n",
       "      <td>0.097224</td>\n",
       "      <td>-0.872562</td>\n",
       "    </tr>\n",
       "    <tr>\n",
       "      <th>5</th>\n",
       "      <td>-1.149679</td>\n",
       "      <td>1.941059</td>\n",
       "      <td>-1.051688</td>\n",
       "      <td>0.477564</td>\n",
       "    </tr>\n",
       "    <tr>\n",
       "      <th>6</th>\n",
       "      <td>0.747988</td>\n",
       "      <td>-0.847441</td>\n",
       "      <td>-0.022466</td>\n",
       "      <td>0.390253</td>\n",
       "    </tr>\n",
       "    <tr>\n",
       "      <th>7</th>\n",
       "      <td>-0.430599</td>\n",
       "      <td>0.245849</td>\n",
       "      <td>1.405788</td>\n",
       "      <td>0.310587</td>\n",
       "    </tr>\n",
       "  </tbody>\n",
       "</table>\n",
       "</div>"
      ],
      "text/plain": [
       "          A         B         C         D\n",
       "0 -0.019423 -0.039721  0.225405  0.824097\n",
       "1  0.499406  1.374752  0.016393  1.071981\n",
       "2 -2.379952  1.732692 -1.230820  0.221126\n",
       "3 -2.627400 -0.881319 -0.361950  0.338601\n",
       "4  0.726652 -1.586672  0.097224 -0.872562\n",
       "5 -1.149679  1.941059 -1.051688  0.477564\n",
       "6  0.747988 -0.847441 -0.022466  0.390253\n",
       "7 -0.430599  0.245849  1.405788  0.310587"
      ]
     },
     "execution_count": 145,
     "metadata": {},
     "output_type": "execute_result"
    }
   ],
   "source": [
    "df\n"
   ]
  },
  {
   "cell_type": "code",
   "execution_count": 146,
   "metadata": {
    "collapsed": true
   },
   "outputs": [],
   "source": [
    "s=df.iloc[3]"
   ]
  },
  {
   "cell_type": "code",
   "execution_count": 147,
   "metadata": {},
   "outputs": [
    {
     "data": {
      "text/html": [
       "<div>\n",
       "<style>\n",
       "    .dataframe thead tr:only-child th {\n",
       "        text-align: right;\n",
       "    }\n",
       "\n",
       "    .dataframe thead th {\n",
       "        text-align: left;\n",
       "    }\n",
       "\n",
       "    .dataframe tbody tr th {\n",
       "        vertical-align: top;\n",
       "    }\n",
       "</style>\n",
       "<table border=\"1\" class=\"dataframe\">\n",
       "  <thead>\n",
       "    <tr style=\"text-align: right;\">\n",
       "      <th></th>\n",
       "      <th>A</th>\n",
       "      <th>B</th>\n",
       "      <th>C</th>\n",
       "      <th>D</th>\n",
       "    </tr>\n",
       "  </thead>\n",
       "  <tbody>\n",
       "    <tr>\n",
       "      <th>0</th>\n",
       "      <td>-0.019423</td>\n",
       "      <td>-0.039721</td>\n",
       "      <td>0.225405</td>\n",
       "      <td>0.824097</td>\n",
       "    </tr>\n",
       "    <tr>\n",
       "      <th>1</th>\n",
       "      <td>0.499406</td>\n",
       "      <td>1.374752</td>\n",
       "      <td>0.016393</td>\n",
       "      <td>1.071981</td>\n",
       "    </tr>\n",
       "    <tr>\n",
       "      <th>2</th>\n",
       "      <td>-2.379952</td>\n",
       "      <td>1.732692</td>\n",
       "      <td>-1.230820</td>\n",
       "      <td>0.221126</td>\n",
       "    </tr>\n",
       "    <tr>\n",
       "      <th>3</th>\n",
       "      <td>-2.627400</td>\n",
       "      <td>-0.881319</td>\n",
       "      <td>-0.361950</td>\n",
       "      <td>0.338601</td>\n",
       "    </tr>\n",
       "    <tr>\n",
       "      <th>4</th>\n",
       "      <td>0.726652</td>\n",
       "      <td>-1.586672</td>\n",
       "      <td>0.097224</td>\n",
       "      <td>-0.872562</td>\n",
       "    </tr>\n",
       "    <tr>\n",
       "      <th>5</th>\n",
       "      <td>-1.149679</td>\n",
       "      <td>1.941059</td>\n",
       "      <td>-1.051688</td>\n",
       "      <td>0.477564</td>\n",
       "    </tr>\n",
       "    <tr>\n",
       "      <th>6</th>\n",
       "      <td>0.747988</td>\n",
       "      <td>-0.847441</td>\n",
       "      <td>-0.022466</td>\n",
       "      <td>0.390253</td>\n",
       "    </tr>\n",
       "    <tr>\n",
       "      <th>7</th>\n",
       "      <td>-0.430599</td>\n",
       "      <td>0.245849</td>\n",
       "      <td>1.405788</td>\n",
       "      <td>0.310587</td>\n",
       "    </tr>\n",
       "    <tr>\n",
       "      <th>3</th>\n",
       "      <td>-2.627400</td>\n",
       "      <td>-0.881319</td>\n",
       "      <td>-0.361950</td>\n",
       "      <td>0.338601</td>\n",
       "    </tr>\n",
       "  </tbody>\n",
       "</table>\n",
       "</div>"
      ],
      "text/plain": [
       "          A         B         C         D\n",
       "0 -0.019423 -0.039721  0.225405  0.824097\n",
       "1  0.499406  1.374752  0.016393  1.071981\n",
       "2 -2.379952  1.732692 -1.230820  0.221126\n",
       "3 -2.627400 -0.881319 -0.361950  0.338601\n",
       "4  0.726652 -1.586672  0.097224 -0.872562\n",
       "5 -1.149679  1.941059 -1.051688  0.477564\n",
       "6  0.747988 -0.847441 -0.022466  0.390253\n",
       "7 -0.430599  0.245849  1.405788  0.310587\n",
       "3 -2.627400 -0.881319 -0.361950  0.338601"
      ]
     },
     "execution_count": 147,
     "metadata": {},
     "output_type": "execute_result"
    }
   ],
   "source": [
    "df.append(s)"
   ]
  },
  {
   "cell_type": "code",
   "execution_count": 148,
   "metadata": {},
   "outputs": [
    {
     "data": {
      "text/html": [
       "<div>\n",
       "<style>\n",
       "    .dataframe thead tr:only-child th {\n",
       "        text-align: right;\n",
       "    }\n",
       "\n",
       "    .dataframe thead th {\n",
       "        text-align: left;\n",
       "    }\n",
       "\n",
       "    .dataframe tbody tr th {\n",
       "        vertical-align: top;\n",
       "    }\n",
       "</style>\n",
       "<table border=\"1\" class=\"dataframe\">\n",
       "  <thead>\n",
       "    <tr style=\"text-align: right;\">\n",
       "      <th></th>\n",
       "      <th>A</th>\n",
       "      <th>B</th>\n",
       "      <th>C</th>\n",
       "      <th>D</th>\n",
       "    </tr>\n",
       "  </thead>\n",
       "  <tbody>\n",
       "    <tr>\n",
       "      <th>0</th>\n",
       "      <td>-0.019423</td>\n",
       "      <td>-0.039721</td>\n",
       "      <td>0.225405</td>\n",
       "      <td>0.824097</td>\n",
       "    </tr>\n",
       "    <tr>\n",
       "      <th>1</th>\n",
       "      <td>0.499406</td>\n",
       "      <td>1.374752</td>\n",
       "      <td>0.016393</td>\n",
       "      <td>1.071981</td>\n",
       "    </tr>\n",
       "    <tr>\n",
       "      <th>2</th>\n",
       "      <td>-2.379952</td>\n",
       "      <td>1.732692</td>\n",
       "      <td>-1.230820</td>\n",
       "      <td>0.221126</td>\n",
       "    </tr>\n",
       "    <tr>\n",
       "      <th>3</th>\n",
       "      <td>-2.627400</td>\n",
       "      <td>-0.881319</td>\n",
       "      <td>-0.361950</td>\n",
       "      <td>0.338601</td>\n",
       "    </tr>\n",
       "    <tr>\n",
       "      <th>4</th>\n",
       "      <td>0.726652</td>\n",
       "      <td>-1.586672</td>\n",
       "      <td>0.097224</td>\n",
       "      <td>-0.872562</td>\n",
       "    </tr>\n",
       "    <tr>\n",
       "      <th>5</th>\n",
       "      <td>-1.149679</td>\n",
       "      <td>1.941059</td>\n",
       "      <td>-1.051688</td>\n",
       "      <td>0.477564</td>\n",
       "    </tr>\n",
       "    <tr>\n",
       "      <th>6</th>\n",
       "      <td>0.747988</td>\n",
       "      <td>-0.847441</td>\n",
       "      <td>-0.022466</td>\n",
       "      <td>0.390253</td>\n",
       "    </tr>\n",
       "    <tr>\n",
       "      <th>7</th>\n",
       "      <td>-0.430599</td>\n",
       "      <td>0.245849</td>\n",
       "      <td>1.405788</td>\n",
       "      <td>0.310587</td>\n",
       "    </tr>\n",
       "    <tr>\n",
       "      <th>8</th>\n",
       "      <td>-2.627400</td>\n",
       "      <td>-0.881319</td>\n",
       "      <td>-0.361950</td>\n",
       "      <td>0.338601</td>\n",
       "    </tr>\n",
       "  </tbody>\n",
       "</table>\n",
       "</div>"
      ],
      "text/plain": [
       "          A         B         C         D\n",
       "0 -0.019423 -0.039721  0.225405  0.824097\n",
       "1  0.499406  1.374752  0.016393  1.071981\n",
       "2 -2.379952  1.732692 -1.230820  0.221126\n",
       "3 -2.627400 -0.881319 -0.361950  0.338601\n",
       "4  0.726652 -1.586672  0.097224 -0.872562\n",
       "5 -1.149679  1.941059 -1.051688  0.477564\n",
       "6  0.747988 -0.847441 -0.022466  0.390253\n",
       "7 -0.430599  0.245849  1.405788  0.310587\n",
       "8 -2.627400 -0.881319 -0.361950  0.338601"
      ]
     },
     "execution_count": 148,
     "metadata": {},
     "output_type": "execute_result"
    }
   ],
   "source": [
    "df.append(s,ignore_index=True)"
   ]
  },
  {
   "cell_type": "markdown",
   "metadata": {},
   "source": [
    "## Grouping"
   ]
  },
  {
   "cell_type": "markdown",
   "metadata": {},
   "source": [
    "By \"group by\" we are referring to a process involving one or more of the following steps:\n",
    "\n",
    "- **Splitting** the data into groups based on some criteria\n",
    "- **Applying** a function to each group independently\n",
    "- **Combining** the results into a data structure "
   ]
  },
  {
   "cell_type": "code",
   "execution_count": 149,
   "metadata": {
    "collapsed": true
   },
   "outputs": [],
   "source": [
    "df=pd.DataFrame({\"A\":[\"foo\",\"bar\",\"foo\",\"bar\",\n",
    "                      \"foo\",\"bar\",\"foo\",\"bar\"],\n",
    "                \"B\":[\"one\",\"one\",\"two\",\"three\",\n",
    "                    \"two\",\"two\",\"one\",\"three\"],\n",
    "                \"C\":np.random.randn(8),\n",
    "                \"D\":np.random.randn(8)})"
   ]
  },
  {
   "cell_type": "code",
   "execution_count": 150,
   "metadata": {},
   "outputs": [
    {
     "data": {
      "text/html": [
       "<div>\n",
       "<style>\n",
       "    .dataframe thead tr:only-child th {\n",
       "        text-align: right;\n",
       "    }\n",
       "\n",
       "    .dataframe thead th {\n",
       "        text-align: left;\n",
       "    }\n",
       "\n",
       "    .dataframe tbody tr th {\n",
       "        vertical-align: top;\n",
       "    }\n",
       "</style>\n",
       "<table border=\"1\" class=\"dataframe\">\n",
       "  <thead>\n",
       "    <tr style=\"text-align: right;\">\n",
       "      <th></th>\n",
       "      <th>A</th>\n",
       "      <th>B</th>\n",
       "      <th>C</th>\n",
       "      <th>D</th>\n",
       "    </tr>\n",
       "  </thead>\n",
       "  <tbody>\n",
       "    <tr>\n",
       "      <th>0</th>\n",
       "      <td>foo</td>\n",
       "      <td>one</td>\n",
       "      <td>0.674251</td>\n",
       "      <td>-0.716154</td>\n",
       "    </tr>\n",
       "    <tr>\n",
       "      <th>1</th>\n",
       "      <td>bar</td>\n",
       "      <td>one</td>\n",
       "      <td>0.391611</td>\n",
       "      <td>-0.957854</td>\n",
       "    </tr>\n",
       "    <tr>\n",
       "      <th>2</th>\n",
       "      <td>foo</td>\n",
       "      <td>two</td>\n",
       "      <td>-0.417725</td>\n",
       "      <td>-0.133369</td>\n",
       "    </tr>\n",
       "    <tr>\n",
       "      <th>3</th>\n",
       "      <td>bar</td>\n",
       "      <td>three</td>\n",
       "      <td>-0.165382</td>\n",
       "      <td>0.810882</td>\n",
       "    </tr>\n",
       "    <tr>\n",
       "      <th>4</th>\n",
       "      <td>foo</td>\n",
       "      <td>two</td>\n",
       "      <td>-0.800242</td>\n",
       "      <td>-0.032124</td>\n",
       "    </tr>\n",
       "    <tr>\n",
       "      <th>5</th>\n",
       "      <td>bar</td>\n",
       "      <td>two</td>\n",
       "      <td>-0.254992</td>\n",
       "      <td>-0.935742</td>\n",
       "    </tr>\n",
       "    <tr>\n",
       "      <th>6</th>\n",
       "      <td>foo</td>\n",
       "      <td>one</td>\n",
       "      <td>1.211080</td>\n",
       "      <td>-1.339072</td>\n",
       "    </tr>\n",
       "    <tr>\n",
       "      <th>7</th>\n",
       "      <td>bar</td>\n",
       "      <td>three</td>\n",
       "      <td>1.489903</td>\n",
       "      <td>0.894876</td>\n",
       "    </tr>\n",
       "  </tbody>\n",
       "</table>\n",
       "</div>"
      ],
      "text/plain": [
       "     A      B         C         D\n",
       "0  foo    one  0.674251 -0.716154\n",
       "1  bar    one  0.391611 -0.957854\n",
       "2  foo    two -0.417725 -0.133369\n",
       "3  bar  three -0.165382  0.810882\n",
       "4  foo    two -0.800242 -0.032124\n",
       "5  bar    two -0.254992 -0.935742\n",
       "6  foo    one  1.211080 -1.339072\n",
       "7  bar  three  1.489903  0.894876"
      ]
     },
     "execution_count": 150,
     "metadata": {},
     "output_type": "execute_result"
    }
   ],
   "source": [
    "df"
   ]
  },
  {
   "cell_type": "code",
   "execution_count": 152,
   "metadata": {},
   "outputs": [
    {
     "data": {
      "text/html": [
       "<div>\n",
       "<style>\n",
       "    .dataframe thead tr:only-child th {\n",
       "        text-align: right;\n",
       "    }\n",
       "\n",
       "    .dataframe thead th {\n",
       "        text-align: left;\n",
       "    }\n",
       "\n",
       "    .dataframe tbody tr th {\n",
       "        vertical-align: top;\n",
       "    }\n",
       "</style>\n",
       "<table border=\"1\" class=\"dataframe\">\n",
       "  <thead>\n",
       "    <tr style=\"text-align: right;\">\n",
       "      <th></th>\n",
       "      <th>C</th>\n",
       "      <th>D</th>\n",
       "    </tr>\n",
       "    <tr>\n",
       "      <th>A</th>\n",
       "      <th></th>\n",
       "      <th></th>\n",
       "    </tr>\n",
       "  </thead>\n",
       "  <tbody>\n",
       "    <tr>\n",
       "      <th>bar</th>\n",
       "      <td>1.461140</td>\n",
       "      <td>-0.187838</td>\n",
       "    </tr>\n",
       "    <tr>\n",
       "      <th>foo</th>\n",
       "      <td>0.667363</td>\n",
       "      <td>-2.220720</td>\n",
       "    </tr>\n",
       "  </tbody>\n",
       "</table>\n",
       "</div>"
      ],
      "text/plain": [
       "            C         D\n",
       "A                      \n",
       "bar  1.461140 -0.187838\n",
       "foo  0.667363 -2.220720"
      ]
     },
     "execution_count": 152,
     "metadata": {},
     "output_type": "execute_result"
    }
   ],
   "source": [
    "df.groupby(\"A\").sum()"
   ]
  },
  {
   "cell_type": "code",
   "execution_count": 153,
   "metadata": {},
   "outputs": [
    {
     "data": {
      "text/html": [
       "<div>\n",
       "<style>\n",
       "    .dataframe thead tr:only-child th {\n",
       "        text-align: right;\n",
       "    }\n",
       "\n",
       "    .dataframe thead th {\n",
       "        text-align: left;\n",
       "    }\n",
       "\n",
       "    .dataframe tbody tr th {\n",
       "        vertical-align: top;\n",
       "    }\n",
       "</style>\n",
       "<table border=\"1\" class=\"dataframe\">\n",
       "  <thead>\n",
       "    <tr style=\"text-align: right;\">\n",
       "      <th></th>\n",
       "      <th></th>\n",
       "      <th>C</th>\n",
       "      <th>D</th>\n",
       "    </tr>\n",
       "    <tr>\n",
       "      <th>A</th>\n",
       "      <th>B</th>\n",
       "      <th></th>\n",
       "      <th></th>\n",
       "    </tr>\n",
       "  </thead>\n",
       "  <tbody>\n",
       "    <tr>\n",
       "      <th rowspan=\"3\" valign=\"top\">bar</th>\n",
       "      <th>one</th>\n",
       "      <td>0.391611</td>\n",
       "      <td>-0.957854</td>\n",
       "    </tr>\n",
       "    <tr>\n",
       "      <th>three</th>\n",
       "      <td>1.324521</td>\n",
       "      <td>1.705758</td>\n",
       "    </tr>\n",
       "    <tr>\n",
       "      <th>two</th>\n",
       "      <td>-0.254992</td>\n",
       "      <td>-0.935742</td>\n",
       "    </tr>\n",
       "    <tr>\n",
       "      <th rowspan=\"2\" valign=\"top\">foo</th>\n",
       "      <th>one</th>\n",
       "      <td>1.885331</td>\n",
       "      <td>-2.055227</td>\n",
       "    </tr>\n",
       "    <tr>\n",
       "      <th>two</th>\n",
       "      <td>-1.217968</td>\n",
       "      <td>-0.165494</td>\n",
       "    </tr>\n",
       "  </tbody>\n",
       "</table>\n",
       "</div>"
      ],
      "text/plain": [
       "                  C         D\n",
       "A   B                        \n",
       "bar one    0.391611 -0.957854\n",
       "    three  1.324521  1.705758\n",
       "    two   -0.254992 -0.935742\n",
       "foo one    1.885331 -2.055227\n",
       "    two   -1.217968 -0.165494"
      ]
     },
     "execution_count": 153,
     "metadata": {},
     "output_type": "execute_result"
    }
   ],
   "source": [
    "df.groupby([\"A\",\"B\"]).sum()"
   ]
  },
  {
   "cell_type": "markdown",
   "metadata": {},
   "source": [
    "## Reshaping\n"
   ]
  },
  {
   "cell_type": "markdown",
   "metadata": {},
   "source": [
    " ### Stack"
   ]
  },
  {
   "cell_type": "code",
   "execution_count": 165,
   "metadata": {
    "collapsed": true
   },
   "outputs": [],
   "source": [
    "tuples=list(zip(*[[\"bar\",\"bar\",\"baz\",\"baz\"\n",
    "                  ,\"foo\",\"foo\",\"qux\",\"qux\"],\n",
    "                 [\"one\",\"two\",\"one\",\"two\",\n",
    "                 \"one\",\"two\",\"one\",\"two\"]]))"
   ]
  },
  {
   "cell_type": "code",
   "execution_count": 166,
   "metadata": {
    "collapsed": true
   },
   "outputs": [],
   "source": [
    "index=pd.MultiIndex.from_tuples(tuples,names=[\"first\",\"second\"])"
   ]
  },
  {
   "cell_type": "code",
   "execution_count": 167,
   "metadata": {
    "collapsed": true
   },
   "outputs": [],
   "source": [
    "df=pd.DataFrame(np.random.randn(8,2),index=index,columns=[\"A\",\"B\"])"
   ]
  },
  {
   "cell_type": "code",
   "execution_count": 168,
   "metadata": {},
   "outputs": [
    {
     "data": {
      "text/html": [
       "<div>\n",
       "<style>\n",
       "    .dataframe thead tr:only-child th {\n",
       "        text-align: right;\n",
       "    }\n",
       "\n",
       "    .dataframe thead th {\n",
       "        text-align: left;\n",
       "    }\n",
       "\n",
       "    .dataframe tbody tr th {\n",
       "        vertical-align: top;\n",
       "    }\n",
       "</style>\n",
       "<table border=\"1\" class=\"dataframe\">\n",
       "  <thead>\n",
       "    <tr style=\"text-align: right;\">\n",
       "      <th></th>\n",
       "      <th></th>\n",
       "      <th>A</th>\n",
       "      <th>B</th>\n",
       "    </tr>\n",
       "    <tr>\n",
       "      <th>first</th>\n",
       "      <th>second</th>\n",
       "      <th></th>\n",
       "      <th></th>\n",
       "    </tr>\n",
       "  </thead>\n",
       "  <tbody>\n",
       "    <tr>\n",
       "      <th rowspan=\"2\" valign=\"top\">bar</th>\n",
       "      <th>one</th>\n",
       "      <td>-0.997263</td>\n",
       "      <td>0.286700</td>\n",
       "    </tr>\n",
       "    <tr>\n",
       "      <th>two</th>\n",
       "      <td>-0.586064</td>\n",
       "      <td>0.330298</td>\n",
       "    </tr>\n",
       "    <tr>\n",
       "      <th rowspan=\"2\" valign=\"top\">baz</th>\n",
       "      <th>one</th>\n",
       "      <td>0.224700</td>\n",
       "      <td>-0.786762</td>\n",
       "    </tr>\n",
       "    <tr>\n",
       "      <th>two</th>\n",
       "      <td>0.220039</td>\n",
       "      <td>0.424134</td>\n",
       "    </tr>\n",
       "    <tr>\n",
       "      <th rowspan=\"2\" valign=\"top\">foo</th>\n",
       "      <th>one</th>\n",
       "      <td>-2.870578</td>\n",
       "      <td>-1.504833</td>\n",
       "    </tr>\n",
       "    <tr>\n",
       "      <th>two</th>\n",
       "      <td>1.229154</td>\n",
       "      <td>2.079135</td>\n",
       "    </tr>\n",
       "    <tr>\n",
       "      <th rowspan=\"2\" valign=\"top\">qux</th>\n",
       "      <th>one</th>\n",
       "      <td>1.306317</td>\n",
       "      <td>-1.185532</td>\n",
       "    </tr>\n",
       "    <tr>\n",
       "      <th>two</th>\n",
       "      <td>1.795455</td>\n",
       "      <td>-0.411637</td>\n",
       "    </tr>\n",
       "  </tbody>\n",
       "</table>\n",
       "</div>"
      ],
      "text/plain": [
       "                     A         B\n",
       "first second                    \n",
       "bar   one    -0.997263  0.286700\n",
       "      two    -0.586064  0.330298\n",
       "baz   one     0.224700 -0.786762\n",
       "      two     0.220039  0.424134\n",
       "foo   one    -2.870578 -1.504833\n",
       "      two     1.229154  2.079135\n",
       "qux   one     1.306317 -1.185532\n",
       "      two     1.795455 -0.411637"
      ]
     },
     "execution_count": 168,
     "metadata": {},
     "output_type": "execute_result"
    }
   ],
   "source": [
    "df"
   ]
  },
  {
   "cell_type": "code",
   "execution_count": 169,
   "metadata": {
    "collapsed": true
   },
   "outputs": [],
   "source": [
    "df2=df[:4]"
   ]
  },
  {
   "cell_type": "code",
   "execution_count": 170,
   "metadata": {},
   "outputs": [
    {
     "data": {
      "text/html": [
       "<div>\n",
       "<style>\n",
       "    .dataframe thead tr:only-child th {\n",
       "        text-align: right;\n",
       "    }\n",
       "\n",
       "    .dataframe thead th {\n",
       "        text-align: left;\n",
       "    }\n",
       "\n",
       "    .dataframe tbody tr th {\n",
       "        vertical-align: top;\n",
       "    }\n",
       "</style>\n",
       "<table border=\"1\" class=\"dataframe\">\n",
       "  <thead>\n",
       "    <tr style=\"text-align: right;\">\n",
       "      <th></th>\n",
       "      <th></th>\n",
       "      <th>A</th>\n",
       "      <th>B</th>\n",
       "    </tr>\n",
       "    <tr>\n",
       "      <th>first</th>\n",
       "      <th>second</th>\n",
       "      <th></th>\n",
       "      <th></th>\n",
       "    </tr>\n",
       "  </thead>\n",
       "  <tbody>\n",
       "    <tr>\n",
       "      <th rowspan=\"2\" valign=\"top\">bar</th>\n",
       "      <th>one</th>\n",
       "      <td>-0.997263</td>\n",
       "      <td>0.286700</td>\n",
       "    </tr>\n",
       "    <tr>\n",
       "      <th>two</th>\n",
       "      <td>-0.586064</td>\n",
       "      <td>0.330298</td>\n",
       "    </tr>\n",
       "    <tr>\n",
       "      <th rowspan=\"2\" valign=\"top\">baz</th>\n",
       "      <th>one</th>\n",
       "      <td>0.224700</td>\n",
       "      <td>-0.786762</td>\n",
       "    </tr>\n",
       "    <tr>\n",
       "      <th>two</th>\n",
       "      <td>0.220039</td>\n",
       "      <td>0.424134</td>\n",
       "    </tr>\n",
       "  </tbody>\n",
       "</table>\n",
       "</div>"
      ],
      "text/plain": [
       "                     A         B\n",
       "first second                    \n",
       "bar   one    -0.997263  0.286700\n",
       "      two    -0.586064  0.330298\n",
       "baz   one     0.224700 -0.786762\n",
       "      two     0.220039  0.424134"
      ]
     },
     "execution_count": 170,
     "metadata": {},
     "output_type": "execute_result"
    }
   ],
   "source": [
    "df2"
   ]
  },
  {
   "cell_type": "code",
   "execution_count": 171,
   "metadata": {
    "collapsed": true
   },
   "outputs": [],
   "source": [
    "stacked=df2.stack()"
   ]
  },
  {
   "cell_type": "code",
   "execution_count": 172,
   "metadata": {},
   "outputs": [
    {
     "data": {
      "text/plain": [
       "first  second   \n",
       "bar    one     A   -0.997263\n",
       "               B    0.286700\n",
       "       two     A   -0.586064\n",
       "               B    0.330298\n",
       "baz    one     A    0.224700\n",
       "               B   -0.786762\n",
       "       two     A    0.220039\n",
       "               B    0.424134\n",
       "dtype: float64"
      ]
     },
     "execution_count": 172,
     "metadata": {},
     "output_type": "execute_result"
    }
   ],
   "source": [
    "stacked"
   ]
  },
  {
   "cell_type": "code",
   "execution_count": 173,
   "metadata": {},
   "outputs": [
    {
     "data": {
      "text/html": [
       "<div>\n",
       "<style>\n",
       "    .dataframe thead tr:only-child th {\n",
       "        text-align: right;\n",
       "    }\n",
       "\n",
       "    .dataframe thead th {\n",
       "        text-align: left;\n",
       "    }\n",
       "\n",
       "    .dataframe tbody tr th {\n",
       "        vertical-align: top;\n",
       "    }\n",
       "</style>\n",
       "<table border=\"1\" class=\"dataframe\">\n",
       "  <thead>\n",
       "    <tr style=\"text-align: right;\">\n",
       "      <th></th>\n",
       "      <th></th>\n",
       "      <th>A</th>\n",
       "      <th>B</th>\n",
       "    </tr>\n",
       "    <tr>\n",
       "      <th>first</th>\n",
       "      <th>second</th>\n",
       "      <th></th>\n",
       "      <th></th>\n",
       "    </tr>\n",
       "  </thead>\n",
       "  <tbody>\n",
       "    <tr>\n",
       "      <th rowspan=\"2\" valign=\"top\">bar</th>\n",
       "      <th>one</th>\n",
       "      <td>-0.997263</td>\n",
       "      <td>0.286700</td>\n",
       "    </tr>\n",
       "    <tr>\n",
       "      <th>two</th>\n",
       "      <td>-0.586064</td>\n",
       "      <td>0.330298</td>\n",
       "    </tr>\n",
       "    <tr>\n",
       "      <th rowspan=\"2\" valign=\"top\">baz</th>\n",
       "      <th>one</th>\n",
       "      <td>0.224700</td>\n",
       "      <td>-0.786762</td>\n",
       "    </tr>\n",
       "    <tr>\n",
       "      <th>two</th>\n",
       "      <td>0.220039</td>\n",
       "      <td>0.424134</td>\n",
       "    </tr>\n",
       "  </tbody>\n",
       "</table>\n",
       "</div>"
      ],
      "text/plain": [
       "                     A         B\n",
       "first second                    \n",
       "bar   one    -0.997263  0.286700\n",
       "      two    -0.586064  0.330298\n",
       "baz   one     0.224700 -0.786762\n",
       "      two     0.220039  0.424134"
      ]
     },
     "execution_count": 173,
     "metadata": {},
     "output_type": "execute_result"
    }
   ],
   "source": [
    "stacked.unstack()"
   ]
  },
  {
   "cell_type": "code",
   "execution_count": 174,
   "metadata": {},
   "outputs": [
    {
     "data": {
      "text/html": [
       "<div>\n",
       "<style>\n",
       "    .dataframe thead tr:only-child th {\n",
       "        text-align: right;\n",
       "    }\n",
       "\n",
       "    .dataframe thead th {\n",
       "        text-align: left;\n",
       "    }\n",
       "\n",
       "    .dataframe tbody tr th {\n",
       "        vertical-align: top;\n",
       "    }\n",
       "</style>\n",
       "<table border=\"1\" class=\"dataframe\">\n",
       "  <thead>\n",
       "    <tr style=\"text-align: right;\">\n",
       "      <th></th>\n",
       "      <th>second</th>\n",
       "      <th>one</th>\n",
       "      <th>two</th>\n",
       "    </tr>\n",
       "    <tr>\n",
       "      <th>first</th>\n",
       "      <th></th>\n",
       "      <th></th>\n",
       "      <th></th>\n",
       "    </tr>\n",
       "  </thead>\n",
       "  <tbody>\n",
       "    <tr>\n",
       "      <th rowspan=\"2\" valign=\"top\">bar</th>\n",
       "      <th>A</th>\n",
       "      <td>-0.997263</td>\n",
       "      <td>-0.586064</td>\n",
       "    </tr>\n",
       "    <tr>\n",
       "      <th>B</th>\n",
       "      <td>0.286700</td>\n",
       "      <td>0.330298</td>\n",
       "    </tr>\n",
       "    <tr>\n",
       "      <th rowspan=\"2\" valign=\"top\">baz</th>\n",
       "      <th>A</th>\n",
       "      <td>0.224700</td>\n",
       "      <td>0.220039</td>\n",
       "    </tr>\n",
       "    <tr>\n",
       "      <th>B</th>\n",
       "      <td>-0.786762</td>\n",
       "      <td>0.424134</td>\n",
       "    </tr>\n",
       "  </tbody>\n",
       "</table>\n",
       "</div>"
      ],
      "text/plain": [
       "second        one       two\n",
       "first                      \n",
       "bar   A -0.997263 -0.586064\n",
       "      B  0.286700  0.330298\n",
       "baz   A  0.224700  0.220039\n",
       "      B -0.786762  0.424134"
      ]
     },
     "execution_count": 174,
     "metadata": {},
     "output_type": "execute_result"
    }
   ],
   "source": [
    "stacked.unstack(1)"
   ]
  },
  {
   "cell_type": "markdown",
   "metadata": {},
   "source": [
    "### Pivot Tables"
   ]
  },
  {
   "cell_type": "code",
   "execution_count": 175,
   "metadata": {
    "collapsed": true
   },
   "outputs": [],
   "source": [
    " df = pd.DataFrame({'A' : ['one', 'one', 'two', 'three'] * 3,\n",
    "                    'B' : ['A', 'B', 'C'] * 4,\n",
    "                    'C' : ['foo', 'foo', 'foo', 'bar', 'bar', 'bar'] * 2,\n",
    "                    'D' : np.random.randn(12),\n",
    "                    'E' : np.random.randn(12)})"
   ]
  },
  {
   "cell_type": "code",
   "execution_count": 176,
   "metadata": {},
   "outputs": [
    {
     "data": {
      "text/html": [
       "<div>\n",
       "<style>\n",
       "    .dataframe thead tr:only-child th {\n",
       "        text-align: right;\n",
       "    }\n",
       "\n",
       "    .dataframe thead th {\n",
       "        text-align: left;\n",
       "    }\n",
       "\n",
       "    .dataframe tbody tr th {\n",
       "        vertical-align: top;\n",
       "    }\n",
       "</style>\n",
       "<table border=\"1\" class=\"dataframe\">\n",
       "  <thead>\n",
       "    <tr style=\"text-align: right;\">\n",
       "      <th></th>\n",
       "      <th>A</th>\n",
       "      <th>B</th>\n",
       "      <th>C</th>\n",
       "      <th>D</th>\n",
       "      <th>E</th>\n",
       "    </tr>\n",
       "  </thead>\n",
       "  <tbody>\n",
       "    <tr>\n",
       "      <th>0</th>\n",
       "      <td>one</td>\n",
       "      <td>A</td>\n",
       "      <td>foo</td>\n",
       "      <td>1.588946</td>\n",
       "      <td>-0.133349</td>\n",
       "    </tr>\n",
       "    <tr>\n",
       "      <th>1</th>\n",
       "      <td>one</td>\n",
       "      <td>B</td>\n",
       "      <td>foo</td>\n",
       "      <td>0.424606</td>\n",
       "      <td>0.347315</td>\n",
       "    </tr>\n",
       "    <tr>\n",
       "      <th>2</th>\n",
       "      <td>two</td>\n",
       "      <td>C</td>\n",
       "      <td>foo</td>\n",
       "      <td>0.285652</td>\n",
       "      <td>0.136193</td>\n",
       "    </tr>\n",
       "    <tr>\n",
       "      <th>3</th>\n",
       "      <td>three</td>\n",
       "      <td>A</td>\n",
       "      <td>bar</td>\n",
       "      <td>-0.077283</td>\n",
       "      <td>-0.939412</td>\n",
       "    </tr>\n",
       "    <tr>\n",
       "      <th>4</th>\n",
       "      <td>one</td>\n",
       "      <td>B</td>\n",
       "      <td>bar</td>\n",
       "      <td>1.077285</td>\n",
       "      <td>0.705348</td>\n",
       "    </tr>\n",
       "    <tr>\n",
       "      <th>5</th>\n",
       "      <td>one</td>\n",
       "      <td>C</td>\n",
       "      <td>bar</td>\n",
       "      <td>0.833626</td>\n",
       "      <td>-0.514863</td>\n",
       "    </tr>\n",
       "    <tr>\n",
       "      <th>6</th>\n",
       "      <td>two</td>\n",
       "      <td>A</td>\n",
       "      <td>foo</td>\n",
       "      <td>-0.586510</td>\n",
       "      <td>-0.445140</td>\n",
       "    </tr>\n",
       "    <tr>\n",
       "      <th>7</th>\n",
       "      <td>three</td>\n",
       "      <td>B</td>\n",
       "      <td>foo</td>\n",
       "      <td>1.475000</td>\n",
       "      <td>0.553484</td>\n",
       "    </tr>\n",
       "    <tr>\n",
       "      <th>8</th>\n",
       "      <td>one</td>\n",
       "      <td>C</td>\n",
       "      <td>foo</td>\n",
       "      <td>0.667595</td>\n",
       "      <td>-1.996740</td>\n",
       "    </tr>\n",
       "    <tr>\n",
       "      <th>9</th>\n",
       "      <td>one</td>\n",
       "      <td>A</td>\n",
       "      <td>bar</td>\n",
       "      <td>-0.529020</td>\n",
       "      <td>0.359284</td>\n",
       "    </tr>\n",
       "    <tr>\n",
       "      <th>10</th>\n",
       "      <td>two</td>\n",
       "      <td>B</td>\n",
       "      <td>bar</td>\n",
       "      <td>0.379656</td>\n",
       "      <td>-0.127901</td>\n",
       "    </tr>\n",
       "    <tr>\n",
       "      <th>11</th>\n",
       "      <td>three</td>\n",
       "      <td>C</td>\n",
       "      <td>bar</td>\n",
       "      <td>-1.033138</td>\n",
       "      <td>0.024563</td>\n",
       "    </tr>\n",
       "  </tbody>\n",
       "</table>\n",
       "</div>"
      ],
      "text/plain": [
       "        A  B    C         D         E\n",
       "0     one  A  foo  1.588946 -0.133349\n",
       "1     one  B  foo  0.424606  0.347315\n",
       "2     two  C  foo  0.285652  0.136193\n",
       "3   three  A  bar -0.077283 -0.939412\n",
       "4     one  B  bar  1.077285  0.705348\n",
       "5     one  C  bar  0.833626 -0.514863\n",
       "6     two  A  foo -0.586510 -0.445140\n",
       "7   three  B  foo  1.475000  0.553484\n",
       "8     one  C  foo  0.667595 -1.996740\n",
       "9     one  A  bar -0.529020  0.359284\n",
       "10    two  B  bar  0.379656 -0.127901\n",
       "11  three  C  bar -1.033138  0.024563"
      ]
     },
     "execution_count": 176,
     "metadata": {},
     "output_type": "execute_result"
    }
   ],
   "source": [
    "df"
   ]
  },
  {
   "cell_type": "code",
   "execution_count": 178,
   "metadata": {},
   "outputs": [
    {
     "data": {
      "text/html": [
       "<div>\n",
       "<style>\n",
       "    .dataframe thead tr:only-child th {\n",
       "        text-align: right;\n",
       "    }\n",
       "\n",
       "    .dataframe thead th {\n",
       "        text-align: left;\n",
       "    }\n",
       "\n",
       "    .dataframe tbody tr th {\n",
       "        vertical-align: top;\n",
       "    }\n",
       "</style>\n",
       "<table border=\"1\" class=\"dataframe\">\n",
       "  <thead>\n",
       "    <tr style=\"text-align: right;\">\n",
       "      <th></th>\n",
       "      <th>C</th>\n",
       "      <th>bar</th>\n",
       "      <th>foo</th>\n",
       "    </tr>\n",
       "    <tr>\n",
       "      <th>A</th>\n",
       "      <th>B</th>\n",
       "      <th></th>\n",
       "      <th></th>\n",
       "    </tr>\n",
       "  </thead>\n",
       "  <tbody>\n",
       "    <tr>\n",
       "      <th rowspan=\"3\" valign=\"top\">one</th>\n",
       "      <th>A</th>\n",
       "      <td>-0.529020</td>\n",
       "      <td>1.588946</td>\n",
       "    </tr>\n",
       "    <tr>\n",
       "      <th>B</th>\n",
       "      <td>1.077285</td>\n",
       "      <td>0.424606</td>\n",
       "    </tr>\n",
       "    <tr>\n",
       "      <th>C</th>\n",
       "      <td>0.833626</td>\n",
       "      <td>0.667595</td>\n",
       "    </tr>\n",
       "    <tr>\n",
       "      <th rowspan=\"3\" valign=\"top\">three</th>\n",
       "      <th>A</th>\n",
       "      <td>-0.077283</td>\n",
       "      <td>NaN</td>\n",
       "    </tr>\n",
       "    <tr>\n",
       "      <th>B</th>\n",
       "      <td>NaN</td>\n",
       "      <td>1.475000</td>\n",
       "    </tr>\n",
       "    <tr>\n",
       "      <th>C</th>\n",
       "      <td>-1.033138</td>\n",
       "      <td>NaN</td>\n",
       "    </tr>\n",
       "    <tr>\n",
       "      <th rowspan=\"3\" valign=\"top\">two</th>\n",
       "      <th>A</th>\n",
       "      <td>NaN</td>\n",
       "      <td>-0.586510</td>\n",
       "    </tr>\n",
       "    <tr>\n",
       "      <th>B</th>\n",
       "      <td>0.379656</td>\n",
       "      <td>NaN</td>\n",
       "    </tr>\n",
       "    <tr>\n",
       "      <th>C</th>\n",
       "      <td>NaN</td>\n",
       "      <td>0.285652</td>\n",
       "    </tr>\n",
       "  </tbody>\n",
       "</table>\n",
       "</div>"
      ],
      "text/plain": [
       "C             bar       foo\n",
       "A     B                    \n",
       "one   A -0.529020  1.588946\n",
       "      B  1.077285  0.424606\n",
       "      C  0.833626  0.667595\n",
       "three A -0.077283       NaN\n",
       "      B       NaN  1.475000\n",
       "      C -1.033138       NaN\n",
       "two   A       NaN -0.586510\n",
       "      B  0.379656       NaN\n",
       "      C       NaN  0.285652"
      ]
     },
     "execution_count": 178,
     "metadata": {},
     "output_type": "execute_result"
    }
   ],
   "source": [
    "pd.pivot_table(df,values=\"D\",index=[\"A\",\"B\"],columns=[\"C\"])"
   ]
  },
  {
   "cell_type": "markdown",
   "metadata": {},
   "source": [
    "## 时间序列（Time Series）"
   ]
  },
  {
   "cell_type": "code",
   "execution_count": 179,
   "metadata": {},
   "outputs": [
    {
     "data": {
      "text/plain": [
       "DatetimeIndex(['2012-01-01 00:00:00', '2012-01-01 00:00:01',\n",
       "               '2012-01-01 00:00:02', '2012-01-01 00:00:03',\n",
       "               '2012-01-01 00:00:04', '2012-01-01 00:00:05',\n",
       "               '2012-01-01 00:00:06', '2012-01-01 00:00:07',\n",
       "               '2012-01-01 00:00:08', '2012-01-01 00:00:09',\n",
       "               '2012-01-01 00:00:10', '2012-01-01 00:00:11',\n",
       "               '2012-01-01 00:00:12', '2012-01-01 00:00:13',\n",
       "               '2012-01-01 00:00:14', '2012-01-01 00:00:15',\n",
       "               '2012-01-01 00:00:16', '2012-01-01 00:00:17',\n",
       "               '2012-01-01 00:00:18', '2012-01-01 00:00:19',\n",
       "               '2012-01-01 00:00:20', '2012-01-01 00:00:21',\n",
       "               '2012-01-01 00:00:22', '2012-01-01 00:00:23',\n",
       "               '2012-01-01 00:00:24', '2012-01-01 00:00:25',\n",
       "               '2012-01-01 00:00:26', '2012-01-01 00:00:27',\n",
       "               '2012-01-01 00:00:28', '2012-01-01 00:00:29',\n",
       "               '2012-01-01 00:00:30', '2012-01-01 00:00:31',\n",
       "               '2012-01-01 00:00:32', '2012-01-01 00:00:33',\n",
       "               '2012-01-01 00:00:34', '2012-01-01 00:00:35',\n",
       "               '2012-01-01 00:00:36', '2012-01-01 00:00:37',\n",
       "               '2012-01-01 00:00:38', '2012-01-01 00:00:39',\n",
       "               '2012-01-01 00:00:40', '2012-01-01 00:00:41',\n",
       "               '2012-01-01 00:00:42', '2012-01-01 00:00:43',\n",
       "               '2012-01-01 00:00:44', '2012-01-01 00:00:45',\n",
       "               '2012-01-01 00:00:46', '2012-01-01 00:00:47',\n",
       "               '2012-01-01 00:00:48', '2012-01-01 00:00:49',\n",
       "               '2012-01-01 00:00:50', '2012-01-01 00:00:51',\n",
       "               '2012-01-01 00:00:52', '2012-01-01 00:00:53',\n",
       "               '2012-01-01 00:00:54', '2012-01-01 00:00:55',\n",
       "               '2012-01-01 00:00:56', '2012-01-01 00:00:57',\n",
       "               '2012-01-01 00:00:58', '2012-01-01 00:00:59',\n",
       "               '2012-01-01 00:01:00', '2012-01-01 00:01:01',\n",
       "               '2012-01-01 00:01:02', '2012-01-01 00:01:03',\n",
       "               '2012-01-01 00:01:04', '2012-01-01 00:01:05',\n",
       "               '2012-01-01 00:01:06', '2012-01-01 00:01:07',\n",
       "               '2012-01-01 00:01:08', '2012-01-01 00:01:09',\n",
       "               '2012-01-01 00:01:10', '2012-01-01 00:01:11',\n",
       "               '2012-01-01 00:01:12', '2012-01-01 00:01:13',\n",
       "               '2012-01-01 00:01:14', '2012-01-01 00:01:15',\n",
       "               '2012-01-01 00:01:16', '2012-01-01 00:01:17',\n",
       "               '2012-01-01 00:01:18', '2012-01-01 00:01:19',\n",
       "               '2012-01-01 00:01:20', '2012-01-01 00:01:21',\n",
       "               '2012-01-01 00:01:22', '2012-01-01 00:01:23',\n",
       "               '2012-01-01 00:01:24', '2012-01-01 00:01:25',\n",
       "               '2012-01-01 00:01:26', '2012-01-01 00:01:27',\n",
       "               '2012-01-01 00:01:28', '2012-01-01 00:01:29',\n",
       "               '2012-01-01 00:01:30', '2012-01-01 00:01:31',\n",
       "               '2012-01-01 00:01:32', '2012-01-01 00:01:33',\n",
       "               '2012-01-01 00:01:34', '2012-01-01 00:01:35',\n",
       "               '2012-01-01 00:01:36', '2012-01-01 00:01:37',\n",
       "               '2012-01-01 00:01:38', '2012-01-01 00:01:39'],\n",
       "              dtype='datetime64[ns]', freq='S')"
      ]
     },
     "execution_count": 179,
     "metadata": {},
     "output_type": "execute_result"
    }
   ],
   "source": [
    "rng=pd.date_range(\"1/1/2012\",periods=100,freq=\"S\")\n",
    "rng"
   ]
  },
  {
   "cell_type": "code",
   "execution_count": 180,
   "metadata": {
    "collapsed": true
   },
   "outputs": [],
   "source": [
    "ts=pd.Series(np.random.randint(0,500,len(rng)),index=rng)"
   ]
  },
  {
   "cell_type": "code",
   "execution_count": 181,
   "metadata": {},
   "outputs": [
    {
     "data": {
      "text/plain": [
       "2012-01-01 00:00:00    294\n",
       "2012-01-01 00:00:01    127\n",
       "2012-01-01 00:00:02     92\n",
       "2012-01-01 00:00:03    177\n",
       "2012-01-01 00:00:04    263\n",
       "2012-01-01 00:00:05    358\n",
       "2012-01-01 00:00:06    184\n",
       "2012-01-01 00:00:07    241\n",
       "2012-01-01 00:00:08    164\n",
       "2012-01-01 00:00:09    335\n",
       "2012-01-01 00:00:10    120\n",
       "2012-01-01 00:00:11    313\n",
       "2012-01-01 00:00:12    423\n",
       "2012-01-01 00:00:13    474\n",
       "2012-01-01 00:00:14    100\n",
       "2012-01-01 00:00:15      3\n",
       "2012-01-01 00:00:16    200\n",
       "2012-01-01 00:00:17    363\n",
       "2012-01-01 00:00:18     90\n",
       "2012-01-01 00:00:19     40\n",
       "2012-01-01 00:00:20     84\n",
       "2012-01-01 00:00:21    431\n",
       "2012-01-01 00:00:22    258\n",
       "2012-01-01 00:00:23    204\n",
       "2012-01-01 00:00:24     44\n",
       "2012-01-01 00:00:25     76\n",
       "2012-01-01 00:00:26    277\n",
       "2012-01-01 00:00:27    430\n",
       "2012-01-01 00:00:28    296\n",
       "2012-01-01 00:00:29    102\n",
       "                      ... \n",
       "2012-01-01 00:01:10    258\n",
       "2012-01-01 00:01:11    392\n",
       "2012-01-01 00:01:12    105\n",
       "2012-01-01 00:01:13     23\n",
       "2012-01-01 00:01:14    197\n",
       "2012-01-01 00:01:15     31\n",
       "2012-01-01 00:01:16    230\n",
       "2012-01-01 00:01:17     75\n",
       "2012-01-01 00:01:18    240\n",
       "2012-01-01 00:01:19    222\n",
       "2012-01-01 00:01:20    255\n",
       "2012-01-01 00:01:21    236\n",
       "2012-01-01 00:01:22    293\n",
       "2012-01-01 00:01:23    428\n",
       "2012-01-01 00:01:24    409\n",
       "2012-01-01 00:01:25    283\n",
       "2012-01-01 00:01:26    413\n",
       "2012-01-01 00:01:27    335\n",
       "2012-01-01 00:01:28    493\n",
       "2012-01-01 00:01:29    182\n",
       "2012-01-01 00:01:30    295\n",
       "2012-01-01 00:01:31    189\n",
       "2012-01-01 00:01:32    405\n",
       "2012-01-01 00:01:33    123\n",
       "2012-01-01 00:01:34    185\n",
       "2012-01-01 00:01:35    131\n",
       "2012-01-01 00:01:36    206\n",
       "2012-01-01 00:01:37    188\n",
       "2012-01-01 00:01:38    220\n",
       "2012-01-01 00:01:39    403\n",
       "Freq: S, Length: 100, dtype: int32"
      ]
     },
     "execution_count": 181,
     "metadata": {},
     "output_type": "execute_result"
    }
   ],
   "source": [
    "ts"
   ]
  },
  {
   "cell_type": "code",
   "execution_count": 182,
   "metadata": {},
   "outputs": [
    {
     "data": {
      "text/plain": [
       "100"
      ]
     },
     "execution_count": 182,
     "metadata": {},
     "output_type": "execute_result"
    }
   ],
   "source": [
    "len(rng)"
   ]
  },
  {
   "cell_type": "code",
   "execution_count": 184,
   "metadata": {},
   "outputs": [
    {
     "data": {
      "text/plain": [
       "2012-01-01 00:00:00    13781\n",
       "2012-01-01 00:01:00    10027\n",
       "Freq: T, dtype: int32"
      ]
     },
     "execution_count": 184,
     "metadata": {},
     "output_type": "execute_result"
    }
   ],
   "source": [
    "ts.resample(\"1Min\").sum()"
   ]
  },
  {
   "cell_type": "code",
   "execution_count": 185,
   "metadata": {},
   "outputs": [
    {
     "data": {
      "text/plain": [
       "DatetimeIndex(['2012-01-01', '2012-01-02', '2012-01-03', '2012-01-04',\n",
       "               '2012-01-05', '2012-01-06', '2012-01-07', '2012-01-08',\n",
       "               '2012-01-09', '2012-01-10', '2012-01-11', '2012-01-12',\n",
       "               '2012-01-13', '2012-01-14', '2012-01-15', '2012-01-16',\n",
       "               '2012-01-17', '2012-01-18', '2012-01-19', '2012-01-20',\n",
       "               '2012-01-21', '2012-01-22', '2012-01-23', '2012-01-24',\n",
       "               '2012-01-25', '2012-01-26', '2012-01-27', '2012-01-28',\n",
       "               '2012-01-29', '2012-01-30', '2012-01-31', '2012-02-01',\n",
       "               '2012-02-02', '2012-02-03', '2012-02-04', '2012-02-05',\n",
       "               '2012-02-06', '2012-02-07', '2012-02-08', '2012-02-09',\n",
       "               '2012-02-10', '2012-02-11', '2012-02-12', '2012-02-13',\n",
       "               '2012-02-14', '2012-02-15', '2012-02-16', '2012-02-17',\n",
       "               '2012-02-18', '2012-02-19', '2012-02-20', '2012-02-21',\n",
       "               '2012-02-22', '2012-02-23', '2012-02-24', '2012-02-25',\n",
       "               '2012-02-26', '2012-02-27', '2012-02-28', '2012-02-29',\n",
       "               '2012-03-01', '2012-03-02', '2012-03-03', '2012-03-04',\n",
       "               '2012-03-05', '2012-03-06', '2012-03-07', '2012-03-08',\n",
       "               '2012-03-09', '2012-03-10', '2012-03-11', '2012-03-12',\n",
       "               '2012-03-13', '2012-03-14', '2012-03-15', '2012-03-16',\n",
       "               '2012-03-17', '2012-03-18', '2012-03-19', '2012-03-20',\n",
       "               '2012-03-21', '2012-03-22', '2012-03-23', '2012-03-24',\n",
       "               '2012-03-25', '2012-03-26', '2012-03-27', '2012-03-28',\n",
       "               '2012-03-29', '2012-03-30', '2012-03-31', '2012-04-01',\n",
       "               '2012-04-02', '2012-04-03', '2012-04-04', '2012-04-05',\n",
       "               '2012-04-06', '2012-04-07', '2012-04-08', '2012-04-09'],\n",
       "              dtype='datetime64[ns]', freq='D')"
      ]
     },
     "execution_count": 185,
     "metadata": {},
     "output_type": "execute_result"
    }
   ],
   "source": [
    "rng=pd.date_range(\"1/1/2012\",periods=100,freq=\"D\")\n",
    "rng"
   ]
  },
  {
   "cell_type": "code",
   "execution_count": 188,
   "metadata": {
    "collapsed": true
   },
   "outputs": [],
   "source": [
    "ts=pd.Series(np.random.randn(len(rng)),index=rng)"
   ]
  },
  {
   "cell_type": "code",
   "execution_count": 189,
   "metadata": {},
   "outputs": [
    {
     "data": {
      "text/plain": [
       "2012-01-01    0.918742\n",
       "2012-01-02    0.075980\n",
       "2012-01-03    0.409978\n",
       "2012-01-04    1.004113\n",
       "2012-01-05   -0.354364\n",
       "2012-01-06   -0.957721\n",
       "2012-01-07    1.046367\n",
       "2012-01-08    0.595809\n",
       "2012-01-09   -1.237820\n",
       "2012-01-10    0.649103\n",
       "2012-01-11    1.542145\n",
       "2012-01-12   -1.628047\n",
       "2012-01-13    0.158768\n",
       "2012-01-14    1.239159\n",
       "2012-01-15   -0.822088\n",
       "2012-01-16   -0.657775\n",
       "2012-01-17   -1.054619\n",
       "2012-01-18   -1.011292\n",
       "2012-01-19    0.623647\n",
       "2012-01-20   -0.444315\n",
       "2012-01-21   -0.272060\n",
       "2012-01-22   -0.234848\n",
       "2012-01-23   -0.539355\n",
       "2012-01-24   -0.431477\n",
       "2012-01-25    0.015742\n",
       "2012-01-26    0.277713\n",
       "2012-01-27   -0.473174\n",
       "2012-01-28    0.427478\n",
       "2012-01-29   -1.206700\n",
       "2012-01-30    1.325381\n",
       "                ...   \n",
       "2012-03-11    2.494589\n",
       "2012-03-12   -0.962861\n",
       "2012-03-13   -0.461069\n",
       "2012-03-14   -1.575521\n",
       "2012-03-15    1.522749\n",
       "2012-03-16    0.688637\n",
       "2012-03-17    1.081905\n",
       "2012-03-18    1.045382\n",
       "2012-03-19    0.106146\n",
       "2012-03-20   -0.502419\n",
       "2012-03-21    0.151663\n",
       "2012-03-22    3.023277\n",
       "2012-03-23   -0.595691\n",
       "2012-03-24    0.619091\n",
       "2012-03-25   -1.279188\n",
       "2012-03-26   -0.749616\n",
       "2012-03-27    0.235307\n",
       "2012-03-28    0.095096\n",
       "2012-03-29    0.132868\n",
       "2012-03-30   -0.000362\n",
       "2012-03-31   -0.603689\n",
       "2012-04-01   -0.028619\n",
       "2012-04-02    0.295107\n",
       "2012-04-03   -0.271938\n",
       "2012-04-04   -0.185495\n",
       "2012-04-05    1.656993\n",
       "2012-04-06    0.167893\n",
       "2012-04-07    1.346980\n",
       "2012-04-08    0.823346\n",
       "2012-04-09    0.389542\n",
       "Freq: D, Length: 100, dtype: float64"
      ]
     },
     "execution_count": 189,
     "metadata": {},
     "output_type": "execute_result"
    }
   ],
   "source": [
    "ts"
   ]
  },
  {
   "cell_type": "code",
   "execution_count": 190,
   "metadata": {
    "collapsed": true
   },
   "outputs": [],
   "source": [
    "ts_utc=ts.tz_localize(\"UTC\")"
   ]
  },
  {
   "cell_type": "code",
   "execution_count": 191,
   "metadata": {},
   "outputs": [
    {
     "data": {
      "text/plain": [
       "2012-01-01 00:00:00+00:00    0.918742\n",
       "2012-01-02 00:00:00+00:00    0.075980\n",
       "2012-01-03 00:00:00+00:00    0.409978\n",
       "2012-01-04 00:00:00+00:00    1.004113\n",
       "2012-01-05 00:00:00+00:00   -0.354364\n",
       "2012-01-06 00:00:00+00:00   -0.957721\n",
       "2012-01-07 00:00:00+00:00    1.046367\n",
       "2012-01-08 00:00:00+00:00    0.595809\n",
       "2012-01-09 00:00:00+00:00   -1.237820\n",
       "2012-01-10 00:00:00+00:00    0.649103\n",
       "2012-01-11 00:00:00+00:00    1.542145\n",
       "2012-01-12 00:00:00+00:00   -1.628047\n",
       "2012-01-13 00:00:00+00:00    0.158768\n",
       "2012-01-14 00:00:00+00:00    1.239159\n",
       "2012-01-15 00:00:00+00:00   -0.822088\n",
       "2012-01-16 00:00:00+00:00   -0.657775\n",
       "2012-01-17 00:00:00+00:00   -1.054619\n",
       "2012-01-18 00:00:00+00:00   -1.011292\n",
       "2012-01-19 00:00:00+00:00    0.623647\n",
       "2012-01-20 00:00:00+00:00   -0.444315\n",
       "2012-01-21 00:00:00+00:00   -0.272060\n",
       "2012-01-22 00:00:00+00:00   -0.234848\n",
       "2012-01-23 00:00:00+00:00   -0.539355\n",
       "2012-01-24 00:00:00+00:00   -0.431477\n",
       "2012-01-25 00:00:00+00:00    0.015742\n",
       "2012-01-26 00:00:00+00:00    0.277713\n",
       "2012-01-27 00:00:00+00:00   -0.473174\n",
       "2012-01-28 00:00:00+00:00    0.427478\n",
       "2012-01-29 00:00:00+00:00   -1.206700\n",
       "2012-01-30 00:00:00+00:00    1.325381\n",
       "                               ...   \n",
       "2012-03-11 00:00:00+00:00    2.494589\n",
       "2012-03-12 00:00:00+00:00   -0.962861\n",
       "2012-03-13 00:00:00+00:00   -0.461069\n",
       "2012-03-14 00:00:00+00:00   -1.575521\n",
       "2012-03-15 00:00:00+00:00    1.522749\n",
       "2012-03-16 00:00:00+00:00    0.688637\n",
       "2012-03-17 00:00:00+00:00    1.081905\n",
       "2012-03-18 00:00:00+00:00    1.045382\n",
       "2012-03-19 00:00:00+00:00    0.106146\n",
       "2012-03-20 00:00:00+00:00   -0.502419\n",
       "2012-03-21 00:00:00+00:00    0.151663\n",
       "2012-03-22 00:00:00+00:00    3.023277\n",
       "2012-03-23 00:00:00+00:00   -0.595691\n",
       "2012-03-24 00:00:00+00:00    0.619091\n",
       "2012-03-25 00:00:00+00:00   -1.279188\n",
       "2012-03-26 00:00:00+00:00   -0.749616\n",
       "2012-03-27 00:00:00+00:00    0.235307\n",
       "2012-03-28 00:00:00+00:00    0.095096\n",
       "2012-03-29 00:00:00+00:00    0.132868\n",
       "2012-03-30 00:00:00+00:00   -0.000362\n",
       "2012-03-31 00:00:00+00:00   -0.603689\n",
       "2012-04-01 00:00:00+00:00   -0.028619\n",
       "2012-04-02 00:00:00+00:00    0.295107\n",
       "2012-04-03 00:00:00+00:00   -0.271938\n",
       "2012-04-04 00:00:00+00:00   -0.185495\n",
       "2012-04-05 00:00:00+00:00    1.656993\n",
       "2012-04-06 00:00:00+00:00    0.167893\n",
       "2012-04-07 00:00:00+00:00    1.346980\n",
       "2012-04-08 00:00:00+00:00    0.823346\n",
       "2012-04-09 00:00:00+00:00    0.389542\n",
       "Freq: D, Length: 100, dtype: float64"
      ]
     },
     "execution_count": 191,
     "metadata": {},
     "output_type": "execute_result"
    }
   ],
   "source": [
    "ts_utc"
   ]
  },
  {
   "cell_type": "code",
   "execution_count": 192,
   "metadata": {},
   "outputs": [
    {
     "data": {
      "text/plain": [
       "2011-12-31 19:00:00-05:00    0.918742\n",
       "2012-01-01 19:00:00-05:00    0.075980\n",
       "2012-01-02 19:00:00-05:00    0.409978\n",
       "2012-01-03 19:00:00-05:00    1.004113\n",
       "2012-01-04 19:00:00-05:00   -0.354364\n",
       "2012-01-05 19:00:00-05:00   -0.957721\n",
       "2012-01-06 19:00:00-05:00    1.046367\n",
       "2012-01-07 19:00:00-05:00    0.595809\n",
       "2012-01-08 19:00:00-05:00   -1.237820\n",
       "2012-01-09 19:00:00-05:00    0.649103\n",
       "2012-01-10 19:00:00-05:00    1.542145\n",
       "2012-01-11 19:00:00-05:00   -1.628047\n",
       "2012-01-12 19:00:00-05:00    0.158768\n",
       "2012-01-13 19:00:00-05:00    1.239159\n",
       "2012-01-14 19:00:00-05:00   -0.822088\n",
       "2012-01-15 19:00:00-05:00   -0.657775\n",
       "2012-01-16 19:00:00-05:00   -1.054619\n",
       "2012-01-17 19:00:00-05:00   -1.011292\n",
       "2012-01-18 19:00:00-05:00    0.623647\n",
       "2012-01-19 19:00:00-05:00   -0.444315\n",
       "2012-01-20 19:00:00-05:00   -0.272060\n",
       "2012-01-21 19:00:00-05:00   -0.234848\n",
       "2012-01-22 19:00:00-05:00   -0.539355\n",
       "2012-01-23 19:00:00-05:00   -0.431477\n",
       "2012-01-24 19:00:00-05:00    0.015742\n",
       "2012-01-25 19:00:00-05:00    0.277713\n",
       "2012-01-26 19:00:00-05:00   -0.473174\n",
       "2012-01-27 19:00:00-05:00    0.427478\n",
       "2012-01-28 19:00:00-05:00   -1.206700\n",
       "2012-01-29 19:00:00-05:00    1.325381\n",
       "                               ...   \n",
       "2012-03-10 19:00:00-05:00    2.494589\n",
       "2012-03-11 20:00:00-04:00   -0.962861\n",
       "2012-03-12 20:00:00-04:00   -0.461069\n",
       "2012-03-13 20:00:00-04:00   -1.575521\n",
       "2012-03-14 20:00:00-04:00    1.522749\n",
       "2012-03-15 20:00:00-04:00    0.688637\n",
       "2012-03-16 20:00:00-04:00    1.081905\n",
       "2012-03-17 20:00:00-04:00    1.045382\n",
       "2012-03-18 20:00:00-04:00    0.106146\n",
       "2012-03-19 20:00:00-04:00   -0.502419\n",
       "2012-03-20 20:00:00-04:00    0.151663\n",
       "2012-03-21 20:00:00-04:00    3.023277\n",
       "2012-03-22 20:00:00-04:00   -0.595691\n",
       "2012-03-23 20:00:00-04:00    0.619091\n",
       "2012-03-24 20:00:00-04:00   -1.279188\n",
       "2012-03-25 20:00:00-04:00   -0.749616\n",
       "2012-03-26 20:00:00-04:00    0.235307\n",
       "2012-03-27 20:00:00-04:00    0.095096\n",
       "2012-03-28 20:00:00-04:00    0.132868\n",
       "2012-03-29 20:00:00-04:00   -0.000362\n",
       "2012-03-30 20:00:00-04:00   -0.603689\n",
       "2012-03-31 20:00:00-04:00   -0.028619\n",
       "2012-04-01 20:00:00-04:00    0.295107\n",
       "2012-04-02 20:00:00-04:00   -0.271938\n",
       "2012-04-03 20:00:00-04:00   -0.185495\n",
       "2012-04-04 20:00:00-04:00    1.656993\n",
       "2012-04-05 20:00:00-04:00    0.167893\n",
       "2012-04-06 20:00:00-04:00    1.346980\n",
       "2012-04-07 20:00:00-04:00    0.823346\n",
       "2012-04-08 20:00:00-04:00    0.389542\n",
       "Freq: D, Length: 100, dtype: float64"
      ]
     },
     "execution_count": 192,
     "metadata": {},
     "output_type": "execute_result"
    }
   ],
   "source": [
    "ts_utc.tz_convert(\"US/Eastern\")"
   ]
  },
  {
   "cell_type": "code",
   "execution_count": 194,
   "metadata": {},
   "outputs": [
    {
     "data": {
      "text/plain": [
       "DatetimeIndex(['2012-01-31', '2012-02-29', '2012-03-31', '2012-04-30',\n",
       "               '2012-05-31', '2012-06-30', '2012-07-31', '2012-08-31',\n",
       "               '2012-09-30', '2012-10-31'],\n",
       "              dtype='datetime64[ns]', freq='M')"
      ]
     },
     "execution_count": 194,
     "metadata": {},
     "output_type": "execute_result"
    }
   ],
   "source": [
    "rng=pd.date_range(\"1/1/2012\",periods=10,freq=\"M\")\n",
    "rng"
   ]
  },
  {
   "cell_type": "code",
   "execution_count": 195,
   "metadata": {
    "collapsed": true
   },
   "outputs": [],
   "source": [
    "ts=pd.Series(np.random.randn(len(rng)),index=rng)"
   ]
  },
  {
   "cell_type": "code",
   "execution_count": 196,
   "metadata": {},
   "outputs": [
    {
     "data": {
      "text/plain": [
       "2012-01-31    0.112901\n",
       "2012-02-29   -0.132676\n",
       "2012-03-31   -0.937753\n",
       "2012-04-30   -0.198682\n",
       "2012-05-31   -1.003690\n",
       "2012-06-30   -1.576102\n",
       "2012-07-31   -0.415686\n",
       "2012-08-31    0.256699\n",
       "2012-09-30   -1.376978\n",
       "2012-10-31   -0.769609\n",
       "Freq: M, dtype: float64"
      ]
     },
     "execution_count": 196,
     "metadata": {},
     "output_type": "execute_result"
    }
   ],
   "source": [
    "ts"
   ]
  },
  {
   "cell_type": "markdown",
   "metadata": {},
   "source": [
    "- 转换为每个月"
   ]
  },
  {
   "cell_type": "code",
   "execution_count": 197,
   "metadata": {
    "collapsed": true
   },
   "outputs": [],
   "source": [
    "ps=ts.to_period()"
   ]
  },
  {
   "cell_type": "code",
   "execution_count": 198,
   "metadata": {},
   "outputs": [
    {
     "data": {
      "text/plain": [
       "2012-01    0.112901\n",
       "2012-02   -0.132676\n",
       "2012-03   -0.937753\n",
       "2012-04   -0.198682\n",
       "2012-05   -1.003690\n",
       "2012-06   -1.576102\n",
       "2012-07   -0.415686\n",
       "2012-08    0.256699\n",
       "2012-09   -1.376978\n",
       "2012-10   -0.769609\n",
       "Freq: M, dtype: float64"
      ]
     },
     "execution_count": 198,
     "metadata": {},
     "output_type": "execute_result"
    }
   ],
   "source": [
    "ps"
   ]
  },
  {
   "cell_type": "markdown",
   "metadata": {},
   "source": [
    "- 时间戳"
   ]
  },
  {
   "cell_type": "code",
   "execution_count": 199,
   "metadata": {},
   "outputs": [
    {
     "data": {
      "text/plain": [
       "2012-01-01    0.112901\n",
       "2012-02-01   -0.132676\n",
       "2012-03-01   -0.937753\n",
       "2012-04-01   -0.198682\n",
       "2012-05-01   -1.003690\n",
       "2012-06-01   -1.576102\n",
       "2012-07-01   -0.415686\n",
       "2012-08-01    0.256699\n",
       "2012-09-01   -1.376978\n",
       "2012-10-01   -0.769609\n",
       "Freq: MS, dtype: float64"
      ]
     },
     "execution_count": 199,
     "metadata": {},
     "output_type": "execute_result"
    }
   ],
   "source": [
    "ps.to_timestamp()"
   ]
  },
  {
   "cell_type": "markdown",
   "metadata": {},
   "source": [
    "- 按季度划分："
   ]
  },
  {
   "cell_type": "code",
   "execution_count": 200,
   "metadata": {
    "collapsed": true
   },
   "outputs": [],
   "source": [
    "prng=pd.period_range(\"1990Q1\",\"2000Q4\",freq=\"Q-NOV\")"
   ]
  },
  {
   "cell_type": "code",
   "execution_count": 201,
   "metadata": {},
   "outputs": [
    {
     "data": {
      "text/plain": [
       "PeriodIndex(['1990Q1', '1990Q2', '1990Q3', '1990Q4', '1991Q1', '1991Q2',\n",
       "             '1991Q3', '1991Q4', '1992Q1', '1992Q2', '1992Q3', '1992Q4',\n",
       "             '1993Q1', '1993Q2', '1993Q3', '1993Q4', '1994Q1', '1994Q2',\n",
       "             '1994Q3', '1994Q4', '1995Q1', '1995Q2', '1995Q3', '1995Q4',\n",
       "             '1996Q1', '1996Q2', '1996Q3', '1996Q4', '1997Q1', '1997Q2',\n",
       "             '1997Q3', '1997Q4', '1998Q1', '1998Q2', '1998Q3', '1998Q4',\n",
       "             '1999Q1', '1999Q2', '1999Q3', '1999Q4', '2000Q1', '2000Q2',\n",
       "             '2000Q3', '2000Q4'],\n",
       "            dtype='period[Q-NOV]', freq='Q-NOV')"
      ]
     },
     "execution_count": 201,
     "metadata": {},
     "output_type": "execute_result"
    }
   ],
   "source": [
    "prng"
   ]
  },
  {
   "cell_type": "code",
   "execution_count": 202,
   "metadata": {
    "collapsed": true
   },
   "outputs": [],
   "source": [
    "ts=pd.Series(np.random.randn(len(prng)),index=prng)"
   ]
  },
  {
   "cell_type": "code",
   "execution_count": 203,
   "metadata": {},
   "outputs": [
    {
     "data": {
      "text/plain": [
       "1990Q1   -0.155932\n",
       "1990Q2    0.846434\n",
       "1990Q3    0.590186\n",
       "1990Q4   -1.561299\n",
       "1991Q1   -0.594981\n",
       "1991Q2    0.443960\n",
       "1991Q3   -0.539669\n",
       "1991Q4    1.891978\n",
       "1992Q1   -1.321096\n",
       "1992Q2   -0.319343\n",
       "1992Q3   -0.602459\n",
       "1992Q4   -0.828762\n",
       "1993Q1    1.102908\n",
       "1993Q2   -0.417427\n",
       "1993Q3    0.276860\n",
       "1993Q4    1.062201\n",
       "1994Q1   -0.424014\n",
       "1994Q2   -1.070510\n",
       "1994Q3   -0.852202\n",
       "1994Q4    0.367954\n",
       "1995Q1   -1.651348\n",
       "1995Q2    0.974143\n",
       "1995Q3    0.251008\n",
       "1995Q4    1.972242\n",
       "1996Q1    0.231927\n",
       "1996Q2    0.207176\n",
       "1996Q3   -0.284191\n",
       "1996Q4    1.117015\n",
       "1997Q1   -0.266427\n",
       "1997Q2   -0.201962\n",
       "1997Q3   -1.534271\n",
       "1997Q4   -0.735028\n",
       "1998Q1    0.051550\n",
       "1998Q2    0.882440\n",
       "1998Q3    1.261125\n",
       "1998Q4   -0.787462\n",
       "1999Q1    1.652912\n",
       "1999Q2   -0.208153\n",
       "1999Q3   -1.221015\n",
       "1999Q4    0.906930\n",
       "2000Q1    0.668907\n",
       "2000Q2   -0.257731\n",
       "2000Q3   -1.578879\n",
       "2000Q4    0.677330\n",
       "Freq: Q-NOV, dtype: float64"
      ]
     },
     "execution_count": 203,
     "metadata": {},
     "output_type": "execute_result"
    }
   ],
   "source": [
    "ts"
   ]
  },
  {
   "cell_type": "code",
   "execution_count": 204,
   "metadata": {
    "collapsed": true
   },
   "outputs": [],
   "source": [
    "ts.index=(prng.asfreq(\"M\",\"e\")+1).asfreq(\"H\",\"s\")+9"
   ]
  },
  {
   "cell_type": "code",
   "execution_count": 205,
   "metadata": {},
   "outputs": [
    {
     "data": {
      "text/plain": [
       "1990-03-01 09:00   -0.155932\n",
       "1990-06-01 09:00    0.846434\n",
       "1990-09-01 09:00    0.590186\n",
       "1990-12-01 09:00   -1.561299\n",
       "1991-03-01 09:00   -0.594981\n",
       "1991-06-01 09:00    0.443960\n",
       "1991-09-01 09:00   -0.539669\n",
       "1991-12-01 09:00    1.891978\n",
       "1992-03-01 09:00   -1.321096\n",
       "1992-06-01 09:00   -0.319343\n",
       "1992-09-01 09:00   -0.602459\n",
       "1992-12-01 09:00   -0.828762\n",
       "1993-03-01 09:00    1.102908\n",
       "1993-06-01 09:00   -0.417427\n",
       "1993-09-01 09:00    0.276860\n",
       "1993-12-01 09:00    1.062201\n",
       "1994-03-01 09:00   -0.424014\n",
       "1994-06-01 09:00   -1.070510\n",
       "1994-09-01 09:00   -0.852202\n",
       "1994-12-01 09:00    0.367954\n",
       "1995-03-01 09:00   -1.651348\n",
       "1995-06-01 09:00    0.974143\n",
       "1995-09-01 09:00    0.251008\n",
       "1995-12-01 09:00    1.972242\n",
       "1996-03-01 09:00    0.231927\n",
       "1996-06-01 09:00    0.207176\n",
       "1996-09-01 09:00   -0.284191\n",
       "1996-12-01 09:00    1.117015\n",
       "1997-03-01 09:00   -0.266427\n",
       "1997-06-01 09:00   -0.201962\n",
       "1997-09-01 09:00   -1.534271\n",
       "1997-12-01 09:00   -0.735028\n",
       "1998-03-01 09:00    0.051550\n",
       "1998-06-01 09:00    0.882440\n",
       "1998-09-01 09:00    1.261125\n",
       "1998-12-01 09:00   -0.787462\n",
       "1999-03-01 09:00    1.652912\n",
       "1999-06-01 09:00   -0.208153\n",
       "1999-09-01 09:00   -1.221015\n",
       "1999-12-01 09:00    0.906930\n",
       "2000-03-01 09:00    0.668907\n",
       "2000-06-01 09:00   -0.257731\n",
       "2000-09-01 09:00   -1.578879\n",
       "2000-12-01 09:00    0.677330\n",
       "Freq: H, dtype: float64"
      ]
     },
     "execution_count": 205,
     "metadata": {},
     "output_type": "execute_result"
    }
   ],
   "source": [
    "ts"
   ]
  },
  {
   "cell_type": "markdown",
   "metadata": {},
   "source": [
    "## Categoricals(分类的，无条件的)"
   ]
  },
  {
   "cell_type": "code",
   "execution_count": 206,
   "metadata": {
    "collapsed": true
   },
   "outputs": [],
   "source": [
    "df = pd.DataFrame({\"id\":[1,2,3,4,5,6], \n",
    "                   \"raw_grade\":['a', 'b', 'b', 'a', 'a','e']})"
   ]
  },
  {
   "cell_type": "code",
   "execution_count": 207,
   "metadata": {},
   "outputs": [
    {
     "data": {
      "text/html": [
       "<div>\n",
       "<style>\n",
       "    .dataframe thead tr:only-child th {\n",
       "        text-align: right;\n",
       "    }\n",
       "\n",
       "    .dataframe thead th {\n",
       "        text-align: left;\n",
       "    }\n",
       "\n",
       "    .dataframe tbody tr th {\n",
       "        vertical-align: top;\n",
       "    }\n",
       "</style>\n",
       "<table border=\"1\" class=\"dataframe\">\n",
       "  <thead>\n",
       "    <tr style=\"text-align: right;\">\n",
       "      <th></th>\n",
       "      <th>id</th>\n",
       "      <th>raw_grade</th>\n",
       "    </tr>\n",
       "  </thead>\n",
       "  <tbody>\n",
       "    <tr>\n",
       "      <th>0</th>\n",
       "      <td>1</td>\n",
       "      <td>a</td>\n",
       "    </tr>\n",
       "    <tr>\n",
       "      <th>1</th>\n",
       "      <td>2</td>\n",
       "      <td>b</td>\n",
       "    </tr>\n",
       "    <tr>\n",
       "      <th>2</th>\n",
       "      <td>3</td>\n",
       "      <td>b</td>\n",
       "    </tr>\n",
       "    <tr>\n",
       "      <th>3</th>\n",
       "      <td>4</td>\n",
       "      <td>a</td>\n",
       "    </tr>\n",
       "    <tr>\n",
       "      <th>4</th>\n",
       "      <td>5</td>\n",
       "      <td>a</td>\n",
       "    </tr>\n",
       "    <tr>\n",
       "      <th>5</th>\n",
       "      <td>6</td>\n",
       "      <td>e</td>\n",
       "    </tr>\n",
       "  </tbody>\n",
       "</table>\n",
       "</div>"
      ],
      "text/plain": [
       "   id raw_grade\n",
       "0   1         a\n",
       "1   2         b\n",
       "2   3         b\n",
       "3   4         a\n",
       "4   5         a\n",
       "5   6         e"
      ]
     },
     "execution_count": 207,
     "metadata": {},
     "output_type": "execute_result"
    }
   ],
   "source": [
    "df"
   ]
  },
  {
   "cell_type": "code",
   "execution_count": 208,
   "metadata": {
    "collapsed": true
   },
   "outputs": [],
   "source": [
    "df[\"grade\"] = df[\"raw_grade\"].astype(\"category\")"
   ]
  },
  {
   "cell_type": "code",
   "execution_count": 209,
   "metadata": {},
   "outputs": [
    {
     "data": {
      "text/html": [
       "<div>\n",
       "<style>\n",
       "    .dataframe thead tr:only-child th {\n",
       "        text-align: right;\n",
       "    }\n",
       "\n",
       "    .dataframe thead th {\n",
       "        text-align: left;\n",
       "    }\n",
       "\n",
       "    .dataframe tbody tr th {\n",
       "        vertical-align: top;\n",
       "    }\n",
       "</style>\n",
       "<table border=\"1\" class=\"dataframe\">\n",
       "  <thead>\n",
       "    <tr style=\"text-align: right;\">\n",
       "      <th></th>\n",
       "      <th>id</th>\n",
       "      <th>raw_grade</th>\n",
       "      <th>grade</th>\n",
       "    </tr>\n",
       "  </thead>\n",
       "  <tbody>\n",
       "    <tr>\n",
       "      <th>0</th>\n",
       "      <td>1</td>\n",
       "      <td>a</td>\n",
       "      <td>a</td>\n",
       "    </tr>\n",
       "    <tr>\n",
       "      <th>1</th>\n",
       "      <td>2</td>\n",
       "      <td>b</td>\n",
       "      <td>b</td>\n",
       "    </tr>\n",
       "    <tr>\n",
       "      <th>2</th>\n",
       "      <td>3</td>\n",
       "      <td>b</td>\n",
       "      <td>b</td>\n",
       "    </tr>\n",
       "    <tr>\n",
       "      <th>3</th>\n",
       "      <td>4</td>\n",
       "      <td>a</td>\n",
       "      <td>a</td>\n",
       "    </tr>\n",
       "    <tr>\n",
       "      <th>4</th>\n",
       "      <td>5</td>\n",
       "      <td>a</td>\n",
       "      <td>a</td>\n",
       "    </tr>\n",
       "    <tr>\n",
       "      <th>5</th>\n",
       "      <td>6</td>\n",
       "      <td>e</td>\n",
       "      <td>e</td>\n",
       "    </tr>\n",
       "  </tbody>\n",
       "</table>\n",
       "</div>"
      ],
      "text/plain": [
       "   id raw_grade grade\n",
       "0   1         a     a\n",
       "1   2         b     b\n",
       "2   3         b     b\n",
       "3   4         a     a\n",
       "4   5         a     a\n",
       "5   6         e     e"
      ]
     },
     "execution_count": 209,
     "metadata": {},
     "output_type": "execute_result"
    }
   ],
   "source": [
    "df"
   ]
  },
  {
   "cell_type": "code",
   "execution_count": 210,
   "metadata": {},
   "outputs": [
    {
     "data": {
      "text/plain": [
       "0    a\n",
       "1    b\n",
       "2    b\n",
       "3    a\n",
       "4    a\n",
       "5    e\n",
       "Name: grade, dtype: category\n",
       "Categories (3, object): [a, b, e]"
      ]
     },
     "execution_count": 210,
     "metadata": {},
     "output_type": "execute_result"
    }
   ],
   "source": [
    "df[\"grade\"]"
   ]
  },
  {
   "cell_type": "code",
   "execution_count": 211,
   "metadata": {
    "collapsed": true
   },
   "outputs": [],
   "source": [
    "df[\"grade\"].cat.categories = [\"very good\", \"good\", \"very bad\"]"
   ]
  },
  {
   "cell_type": "code",
   "execution_count": 212,
   "metadata": {},
   "outputs": [
    {
     "data": {
      "text/html": [
       "<div>\n",
       "<style>\n",
       "    .dataframe thead tr:only-child th {\n",
       "        text-align: right;\n",
       "    }\n",
       "\n",
       "    .dataframe thead th {\n",
       "        text-align: left;\n",
       "    }\n",
       "\n",
       "    .dataframe tbody tr th {\n",
       "        vertical-align: top;\n",
       "    }\n",
       "</style>\n",
       "<table border=\"1\" class=\"dataframe\">\n",
       "  <thead>\n",
       "    <tr style=\"text-align: right;\">\n",
       "      <th></th>\n",
       "      <th>id</th>\n",
       "      <th>raw_grade</th>\n",
       "      <th>grade</th>\n",
       "    </tr>\n",
       "  </thead>\n",
       "  <tbody>\n",
       "    <tr>\n",
       "      <th>0</th>\n",
       "      <td>1</td>\n",
       "      <td>a</td>\n",
       "      <td>very good</td>\n",
       "    </tr>\n",
       "    <tr>\n",
       "      <th>1</th>\n",
       "      <td>2</td>\n",
       "      <td>b</td>\n",
       "      <td>good</td>\n",
       "    </tr>\n",
       "    <tr>\n",
       "      <th>2</th>\n",
       "      <td>3</td>\n",
       "      <td>b</td>\n",
       "      <td>good</td>\n",
       "    </tr>\n",
       "    <tr>\n",
       "      <th>3</th>\n",
       "      <td>4</td>\n",
       "      <td>a</td>\n",
       "      <td>very good</td>\n",
       "    </tr>\n",
       "    <tr>\n",
       "      <th>4</th>\n",
       "      <td>5</td>\n",
       "      <td>a</td>\n",
       "      <td>very good</td>\n",
       "    </tr>\n",
       "    <tr>\n",
       "      <th>5</th>\n",
       "      <td>6</td>\n",
       "      <td>e</td>\n",
       "      <td>very bad</td>\n",
       "    </tr>\n",
       "  </tbody>\n",
       "</table>\n",
       "</div>"
      ],
      "text/plain": [
       "   id raw_grade      grade\n",
       "0   1         a  very good\n",
       "1   2         b       good\n",
       "2   3         b       good\n",
       "3   4         a  very good\n",
       "4   5         a  very good\n",
       "5   6         e   very bad"
      ]
     },
     "execution_count": 212,
     "metadata": {},
     "output_type": "execute_result"
    }
   ],
   "source": [
    "df"
   ]
  },
  {
   "cell_type": "code",
   "execution_count": 213,
   "metadata": {},
   "outputs": [
    {
     "data": {
      "text/plain": [
       "0    very good\n",
       "1         good\n",
       "2         good\n",
       "3    very good\n",
       "4    very good\n",
       "5     very bad\n",
       "Name: grade, dtype: category\n",
       "Categories (3, object): [very good, good, very bad]"
      ]
     },
     "execution_count": 213,
     "metadata": {},
     "output_type": "execute_result"
    }
   ],
   "source": [
    "df[\"grade\"]"
   ]
  },
  {
   "cell_type": "code",
   "execution_count": 214,
   "metadata": {
    "collapsed": true
   },
   "outputs": [],
   "source": [
    "df[\"grade\"] = df[\"grade\"].cat.set_categories([\"very bad\", \"bad\", \"medium\",\n",
    "                                              \"good\", \"very good\"])"
   ]
  },
  {
   "cell_type": "code",
   "execution_count": 215,
   "metadata": {},
   "outputs": [
    {
     "data": {
      "text/html": [
       "<div>\n",
       "<style>\n",
       "    .dataframe thead tr:only-child th {\n",
       "        text-align: right;\n",
       "    }\n",
       "\n",
       "    .dataframe thead th {\n",
       "        text-align: left;\n",
       "    }\n",
       "\n",
       "    .dataframe tbody tr th {\n",
       "        vertical-align: top;\n",
       "    }\n",
       "</style>\n",
       "<table border=\"1\" class=\"dataframe\">\n",
       "  <thead>\n",
       "    <tr style=\"text-align: right;\">\n",
       "      <th></th>\n",
       "      <th>id</th>\n",
       "      <th>raw_grade</th>\n",
       "      <th>grade</th>\n",
       "    </tr>\n",
       "  </thead>\n",
       "  <tbody>\n",
       "    <tr>\n",
       "      <th>0</th>\n",
       "      <td>1</td>\n",
       "      <td>a</td>\n",
       "      <td>very good</td>\n",
       "    </tr>\n",
       "    <tr>\n",
       "      <th>1</th>\n",
       "      <td>2</td>\n",
       "      <td>b</td>\n",
       "      <td>good</td>\n",
       "    </tr>\n",
       "    <tr>\n",
       "      <th>2</th>\n",
       "      <td>3</td>\n",
       "      <td>b</td>\n",
       "      <td>good</td>\n",
       "    </tr>\n",
       "    <tr>\n",
       "      <th>3</th>\n",
       "      <td>4</td>\n",
       "      <td>a</td>\n",
       "      <td>very good</td>\n",
       "    </tr>\n",
       "    <tr>\n",
       "      <th>4</th>\n",
       "      <td>5</td>\n",
       "      <td>a</td>\n",
       "      <td>very good</td>\n",
       "    </tr>\n",
       "    <tr>\n",
       "      <th>5</th>\n",
       "      <td>6</td>\n",
       "      <td>e</td>\n",
       "      <td>very bad</td>\n",
       "    </tr>\n",
       "  </tbody>\n",
       "</table>\n",
       "</div>"
      ],
      "text/plain": [
       "   id raw_grade      grade\n",
       "0   1         a  very good\n",
       "1   2         b       good\n",
       "2   3         b       good\n",
       "3   4         a  very good\n",
       "4   5         a  very good\n",
       "5   6         e   very bad"
      ]
     },
     "execution_count": 215,
     "metadata": {},
     "output_type": "execute_result"
    }
   ],
   "source": [
    "df"
   ]
  },
  {
   "cell_type": "code",
   "execution_count": 216,
   "metadata": {},
   "outputs": [
    {
     "data": {
      "text/plain": [
       "0    very good\n",
       "1         good\n",
       "2         good\n",
       "3    very good\n",
       "4    very good\n",
       "5     very bad\n",
       "Name: grade, dtype: category\n",
       "Categories (5, object): [very bad, bad, medium, good, very good]"
      ]
     },
     "execution_count": 216,
     "metadata": {},
     "output_type": "execute_result"
    }
   ],
   "source": [
    "df[\"grade\"]"
   ]
  },
  {
   "cell_type": "code",
   "execution_count": 217,
   "metadata": {},
   "outputs": [
    {
     "data": {
      "text/html": [
       "<div>\n",
       "<style>\n",
       "    .dataframe thead tr:only-child th {\n",
       "        text-align: right;\n",
       "    }\n",
       "\n",
       "    .dataframe thead th {\n",
       "        text-align: left;\n",
       "    }\n",
       "\n",
       "    .dataframe tbody tr th {\n",
       "        vertical-align: top;\n",
       "    }\n",
       "</style>\n",
       "<table border=\"1\" class=\"dataframe\">\n",
       "  <thead>\n",
       "    <tr style=\"text-align: right;\">\n",
       "      <th></th>\n",
       "      <th>id</th>\n",
       "      <th>raw_grade</th>\n",
       "      <th>grade</th>\n",
       "    </tr>\n",
       "  </thead>\n",
       "  <tbody>\n",
       "    <tr>\n",
       "      <th>5</th>\n",
       "      <td>6</td>\n",
       "      <td>e</td>\n",
       "      <td>very bad</td>\n",
       "    </tr>\n",
       "    <tr>\n",
       "      <th>1</th>\n",
       "      <td>2</td>\n",
       "      <td>b</td>\n",
       "      <td>good</td>\n",
       "    </tr>\n",
       "    <tr>\n",
       "      <th>2</th>\n",
       "      <td>3</td>\n",
       "      <td>b</td>\n",
       "      <td>good</td>\n",
       "    </tr>\n",
       "    <tr>\n",
       "      <th>0</th>\n",
       "      <td>1</td>\n",
       "      <td>a</td>\n",
       "      <td>very good</td>\n",
       "    </tr>\n",
       "    <tr>\n",
       "      <th>3</th>\n",
       "      <td>4</td>\n",
       "      <td>a</td>\n",
       "      <td>very good</td>\n",
       "    </tr>\n",
       "    <tr>\n",
       "      <th>4</th>\n",
       "      <td>5</td>\n",
       "      <td>a</td>\n",
       "      <td>very good</td>\n",
       "    </tr>\n",
       "  </tbody>\n",
       "</table>\n",
       "</div>"
      ],
      "text/plain": [
       "   id raw_grade      grade\n",
       "5   6         e   very bad\n",
       "1   2         b       good\n",
       "2   3         b       good\n",
       "0   1         a  very good\n",
       "3   4         a  very good\n",
       "4   5         a  very good"
      ]
     },
     "execution_count": 217,
     "metadata": {},
     "output_type": "execute_result"
    }
   ],
   "source": [
    "df.sort_values(by=\"grade\")"
   ]
  },
  {
   "cell_type": "code",
   "execution_count": 218,
   "metadata": {},
   "outputs": [
    {
     "data": {
      "text/plain": [
       "grade\n",
       "very bad     1\n",
       "bad          0\n",
       "medium       0\n",
       "good         2\n",
       "very good    3\n",
       "dtype: int64"
      ]
     },
     "execution_count": 218,
     "metadata": {},
     "output_type": "execute_result"
    }
   ],
   "source": [
    "df.groupby(\"grade\").size()"
   ]
  },
  {
   "cell_type": "markdown",
   "metadata": {},
   "source": [
    "## Plotting"
   ]
  },
  {
   "cell_type": "code",
   "execution_count": 219,
   "metadata": {
    "collapsed": true
   },
   "outputs": [],
   "source": [
    "ts = pd.Series(np.random.randn(1000), index=pd.date_range('1/1/2000',periods=1000))"
   ]
  },
  {
   "cell_type": "code",
   "execution_count": 220,
   "metadata": {
    "collapsed": true
   },
   "outputs": [],
   "source": [
    "ts=ts.cumsum()"
   ]
  },
  {
   "cell_type": "code",
   "execution_count": 221,
   "metadata": {},
   "outputs": [
    {
     "data": {
      "text/plain": [
       "<matplotlib.axes._subplots.AxesSubplot at 0x238a27b34e0>"
      ]
     },
     "execution_count": 221,
     "metadata": {},
     "output_type": "execute_result"
    }
   ],
   "source": [
    "ts.plot()"
   ]
  },
  {
   "cell_type": "code",
   "execution_count": 223,
   "metadata": {},
   "outputs": [
    {
     "data": {
      "image/png": "[encoded data removed]",
      "text/plain": [
       "<matplotlib.figure.Figure at 0x238a27baeb8>"
      ]
     },
     "metadata": {},
     "output_type": "display_data"
    }
   ],
   "source": [
    "plt.show(0)"
   ]
  },
  {
   "cell_type": "code",
   "execution_count": 224,
   "metadata": {
    "collapsed": true
   },
   "outputs": [],
   "source": [
    " df = pd.DataFrame(np.random.randn(1000, 4), index=ts.index,\n",
    " columns=['A', 'B', 'C', 'D'])"
   ]
  },
  {
   "cell_type": "code",
   "execution_count": 225,
   "metadata": {
    "collapsed": true
   },
   "outputs": [],
   "source": [
    "df=df.cumsum()"
   ]
  },
  {
   "cell_type": "code",
   "execution_count": 226,
   "metadata": {},
   "outputs": [
    {
     "data": {
      "text/plain": [
       "<matplotlib.legend.Legend at 0x238a2c5e860>"
      ]
     },
     "execution_count": 226,
     "metadata": {},
     "output_type": "execute_result"
    }
   ],
   "source": [
    "plt.figure()\n",
    "df.plot()\n",
    "plt.legend(loc=\"best\")"
   ]
  },
  {
   "cell_type": "code",
   "execution_count": 227,
   "metadata": {},
   "outputs": [
    {
     "data": {
      "image/png": "[encoded data removed]",
      "text/plain": [
       "<matplotlib.figure.Figure at 0x238a27baeb8>"
      ]
     },
     "metadata": {},
     "output_type": "display_data"
    },
    {
     "data": {
      "text/plain": [
       "<matplotlib.figure.Figure at 0x238a2cf54a8>"
      ]
     },
     "metadata": {},
     "output_type": "display_data"
    },
    {
     "data": {
      "image/png": "[encoded data removed]",
      "text/plain": [
       "<matplotlib.figure.Figure at 0x238a2c5e780>"
      ]
     },
     "metadata": {},
     "output_type": "display_data"
    }
   ],
   "source": [
    "plt.show()"
   ]
  },
  {
   "cell_type": "code",
   "execution_count": 228,
   "metadata": {
    "collapsed": true
   },
   "outputs": [],
   "source": [
    "df.cumsum?\n"
   ]
  },
  {
   "cell_type": "markdown",
   "metadata": {},
   "source": [
    "## Getting Data In/Out"
   ]
  },
  {
   "cell_type": "markdown",
   "metadata": {},
   "source": [
    "### CSV"
   ]
  },
  {
   "cell_type": "code",
   "execution_count": 229,
   "metadata": {
    "collapsed": true
   },
   "outputs": [],
   "source": [
    "df.to_csv(\"foo.csv\")"
   ]
  },
  {
   "cell_type": "code",
   "execution_count": 230,
   "metadata": {},
   "outputs": [
    {
     "data": {
      "text/html": [
       "<div>\n",
       "<style>\n",
       "    .dataframe thead tr:only-child th {\n",
       "        text-align: right;\n",
       "    }\n",
       "\n",
       "    .dataframe thead th {\n",
       "        text-align: left;\n",
       "    }\n",
       "\n",
       "    .dataframe tbody tr th {\n",
       "        vertical-align: top;\n",
       "    }\n",
       "</style>\n",
       "<table border=\"1\" class=\"dataframe\">\n",
       "  <thead>\n",
       "    <tr style=\"text-align: right;\">\n",
       "      <th></th>\n",
       "      <th>Unnamed: 0</th>\n",
       "      <th>A</th>\n",
       "      <th>B</th>\n",
       "      <th>C</th>\n",
       "      <th>D</th>\n",
       "    </tr>\n",
       "  </thead>\n",
       "  <tbody>\n",
       "    <tr>\n",
       "      <th>0</th>\n",
       "      <td>2000-01-01</td>\n",
       "      <td>-0.318521</td>\n",
       "      <td>-0.069281</td>\n",
       "      <td>1.500792</td>\n",
       "      <td>-0.080063</td>\n",
       "    </tr>\n",
       "    <tr>\n",
       "      <th>1</th>\n",
       "      <td>2000-01-02</td>\n",
       "      <td>-2.241293</td>\n",
       "      <td>-0.451110</td>\n",
       "      <td>1.469580</td>\n",
       "      <td>-0.479344</td>\n",
       "    </tr>\n",
       "    <tr>\n",
       "      <th>2</th>\n",
       "      <td>2000-01-03</td>\n",
       "      <td>-3.704233</td>\n",
       "      <td>-0.907178</td>\n",
       "      <td>-0.633714</td>\n",
       "      <td>0.550864</td>\n",
       "    </tr>\n",
       "    <tr>\n",
       "      <th>3</th>\n",
       "      <td>2000-01-04</td>\n",
       "      <td>-3.519505</td>\n",
       "      <td>-1.317420</td>\n",
       "      <td>-1.554043</td>\n",
       "      <td>-0.765876</td>\n",
       "    </tr>\n",
       "    <tr>\n",
       "      <th>4</th>\n",
       "      <td>2000-01-05</td>\n",
       "      <td>-3.426837</td>\n",
       "      <td>-0.795336</td>\n",
       "      <td>-2.033392</td>\n",
       "      <td>-0.309340</td>\n",
       "    </tr>\n",
       "    <tr>\n",
       "      <th>5</th>\n",
       "      <td>2000-01-06</td>\n",
       "      <td>-4.197851</td>\n",
       "      <td>-1.663870</td>\n",
       "      <td>-1.287664</td>\n",
       "      <td>0.206682</td>\n",
       "    </tr>\n",
       "    <tr>\n",
       "      <th>6</th>\n",
       "      <td>2000-01-07</td>\n",
       "      <td>-4.415956</td>\n",
       "      <td>-0.670034</td>\n",
       "      <td>-1.427570</td>\n",
       "      <td>-0.356530</td>\n",
       "    </tr>\n",
       "    <tr>\n",
       "      <th>7</th>\n",
       "      <td>2000-01-08</td>\n",
       "      <td>-7.464808</td>\n",
       "      <td>-0.061665</td>\n",
       "      <td>-1.889833</td>\n",
       "      <td>1.542657</td>\n",
       "    </tr>\n",
       "    <tr>\n",
       "      <th>8</th>\n",
       "      <td>2000-01-09</td>\n",
       "      <td>-7.050139</td>\n",
       "      <td>0.386700</td>\n",
       "      <td>-2.341348</td>\n",
       "      <td>2.619088</td>\n",
       "    </tr>\n",
       "    <tr>\n",
       "      <th>9</th>\n",
       "      <td>2000-01-10</td>\n",
       "      <td>-7.920175</td>\n",
       "      <td>-0.456548</td>\n",
       "      <td>-2.552443</td>\n",
       "      <td>1.381354</td>\n",
       "    </tr>\n",
       "    <tr>\n",
       "      <th>10</th>\n",
       "      <td>2000-01-11</td>\n",
       "      <td>-8.456519</td>\n",
       "      <td>-0.781479</td>\n",
       "      <td>-1.454071</td>\n",
       "      <td>-0.934378</td>\n",
       "    </tr>\n",
       "    <tr>\n",
       "      <th>11</th>\n",
       "      <td>2000-01-12</td>\n",
       "      <td>-6.683756</td>\n",
       "      <td>-3.410949</td>\n",
       "      <td>-0.460522</td>\n",
       "      <td>0.627492</td>\n",
       "    </tr>\n",
       "    <tr>\n",
       "      <th>12</th>\n",
       "      <td>2000-01-13</td>\n",
       "      <td>-4.886169</td>\n",
       "      <td>-4.132066</td>\n",
       "      <td>-0.064894</td>\n",
       "      <td>-2.106896</td>\n",
       "    </tr>\n",
       "    <tr>\n",
       "      <th>13</th>\n",
       "      <td>2000-01-14</td>\n",
       "      <td>-3.754589</td>\n",
       "      <td>-3.174242</td>\n",
       "      <td>-2.168337</td>\n",
       "      <td>-1.328020</td>\n",
       "    </tr>\n",
       "    <tr>\n",
       "      <th>14</th>\n",
       "      <td>2000-01-15</td>\n",
       "      <td>-4.275333</td>\n",
       "      <td>-3.992579</td>\n",
       "      <td>-1.653618</td>\n",
       "      <td>-0.760583</td>\n",
       "    </tr>\n",
       "    <tr>\n",
       "      <th>15</th>\n",
       "      <td>2000-01-16</td>\n",
       "      <td>-4.162704</td>\n",
       "      <td>-4.460994</td>\n",
       "      <td>-2.152618</td>\n",
       "      <td>-2.745559</td>\n",
       "    </tr>\n",
       "    <tr>\n",
       "      <th>16</th>\n",
       "      <td>2000-01-17</td>\n",
       "      <td>-4.062741</td>\n",
       "      <td>-4.601442</td>\n",
       "      <td>-4.198768</td>\n",
       "      <td>-1.360033</td>\n",
       "    </tr>\n",
       "    <tr>\n",
       "      <th>17</th>\n",
       "      <td>2000-01-18</td>\n",
       "      <td>-3.275266</td>\n",
       "      <td>-5.671058</td>\n",
       "      <td>-4.149834</td>\n",
       "      <td>-0.579725</td>\n",
       "    </tr>\n",
       "    <tr>\n",
       "      <th>18</th>\n",
       "      <td>2000-01-19</td>\n",
       "      <td>-1.986749</td>\n",
       "      <td>-6.858071</td>\n",
       "      <td>-5.350513</td>\n",
       "      <td>0.123788</td>\n",
       "    </tr>\n",
       "    <tr>\n",
       "      <th>19</th>\n",
       "      <td>2000-01-20</td>\n",
       "      <td>-1.330495</td>\n",
       "      <td>-7.988410</td>\n",
       "      <td>-5.618811</td>\n",
       "      <td>0.512892</td>\n",
       "    </tr>\n",
       "    <tr>\n",
       "      <th>20</th>\n",
       "      <td>2000-01-21</td>\n",
       "      <td>-1.873545</td>\n",
       "      <td>-8.188835</td>\n",
       "      <td>-8.514072</td>\n",
       "      <td>0.292464</td>\n",
       "    </tr>\n",
       "    <tr>\n",
       "      <th>21</th>\n",
       "      <td>2000-01-22</td>\n",
       "      <td>-1.135987</td>\n",
       "      <td>-7.685835</td>\n",
       "      <td>-9.445687</td>\n",
       "      <td>0.076544</td>\n",
       "    </tr>\n",
       "    <tr>\n",
       "      <th>22</th>\n",
       "      <td>2000-01-23</td>\n",
       "      <td>-2.017057</td>\n",
       "      <td>-7.322413</td>\n",
       "      <td>-10.779478</td>\n",
       "      <td>-0.587468</td>\n",
       "    </tr>\n",
       "    <tr>\n",
       "      <th>23</th>\n",
       "      <td>2000-01-24</td>\n",
       "      <td>-1.836398</td>\n",
       "      <td>-7.861919</td>\n",
       "      <td>-9.893417</td>\n",
       "      <td>0.039124</td>\n",
       "    </tr>\n",
       "    <tr>\n",
       "      <th>24</th>\n",
       "      <td>2000-01-25</td>\n",
       "      <td>-2.964741</td>\n",
       "      <td>-7.873358</td>\n",
       "      <td>-11.152624</td>\n",
       "      <td>-0.148966</td>\n",
       "    </tr>\n",
       "    <tr>\n",
       "      <th>25</th>\n",
       "      <td>2000-01-26</td>\n",
       "      <td>-4.074195</td>\n",
       "      <td>-7.348044</td>\n",
       "      <td>-11.016124</td>\n",
       "      <td>-1.604884</td>\n",
       "    </tr>\n",
       "    <tr>\n",
       "      <th>26</th>\n",
       "      <td>2000-01-27</td>\n",
       "      <td>-4.672791</td>\n",
       "      <td>-7.490201</td>\n",
       "      <td>-11.512797</td>\n",
       "      <td>-1.721145</td>\n",
       "    </tr>\n",
       "    <tr>\n",
       "      <th>27</th>\n",
       "      <td>2000-01-28</td>\n",
       "      <td>-3.603578</td>\n",
       "      <td>-7.780689</td>\n",
       "      <td>-10.644796</td>\n",
       "      <td>-2.324348</td>\n",
       "    </tr>\n",
       "    <tr>\n",
       "      <th>28</th>\n",
       "      <td>2000-01-29</td>\n",
       "      <td>-4.693509</td>\n",
       "      <td>-8.878476</td>\n",
       "      <td>-8.263178</td>\n",
       "      <td>-3.081571</td>\n",
       "    </tr>\n",
       "    <tr>\n",
       "      <th>29</th>\n",
       "      <td>2000-01-30</td>\n",
       "      <td>-4.922416</td>\n",
       "      <td>-8.299012</td>\n",
       "      <td>-7.424817</td>\n",
       "      <td>-3.040342</td>\n",
       "    </tr>\n",
       "    <tr>\n",
       "      <th>...</th>\n",
       "      <td>...</td>\n",
       "      <td>...</td>\n",
       "      <td>...</td>\n",
       "      <td>...</td>\n",
       "      <td>...</td>\n",
       "    </tr>\n",
       "    <tr>\n",
       "      <th>970</th>\n",
       "      <td>2002-08-28</td>\n",
       "      <td>1.746446</td>\n",
       "      <td>-4.326230</td>\n",
       "      <td>3.527811</td>\n",
       "      <td>-3.827475</td>\n",
       "    </tr>\n",
       "    <tr>\n",
       "      <th>971</th>\n",
       "      <td>2002-08-29</td>\n",
       "      <td>3.162148</td>\n",
       "      <td>-4.106268</td>\n",
       "      <td>4.208269</td>\n",
       "      <td>-2.907800</td>\n",
       "    </tr>\n",
       "    <tr>\n",
       "      <th>972</th>\n",
       "      <td>2002-08-30</td>\n",
       "      <td>3.078727</td>\n",
       "      <td>-4.416757</td>\n",
       "      <td>4.233948</td>\n",
       "      <td>-3.241318</td>\n",
       "    </tr>\n",
       "    <tr>\n",
       "      <th>973</th>\n",
       "      <td>2002-08-31</td>\n",
       "      <td>3.862186</td>\n",
       "      <td>-4.192845</td>\n",
       "      <td>5.806876</td>\n",
       "      <td>-3.463433</td>\n",
       "    </tr>\n",
       "    <tr>\n",
       "      <th>974</th>\n",
       "      <td>2002-09-01</td>\n",
       "      <td>3.797689</td>\n",
       "      <td>-3.867710</td>\n",
       "      <td>7.098169</td>\n",
       "      <td>-4.949637</td>\n",
       "    </tr>\n",
       "    <tr>\n",
       "      <th>975</th>\n",
       "      <td>2002-09-02</td>\n",
       "      <td>3.374391</td>\n",
       "      <td>-2.769763</td>\n",
       "      <td>5.123203</td>\n",
       "      <td>-5.709463</td>\n",
       "    </tr>\n",
       "    <tr>\n",
       "      <th>976</th>\n",
       "      <td>2002-09-03</td>\n",
       "      <td>3.138081</td>\n",
       "      <td>-4.445820</td>\n",
       "      <td>4.833085</td>\n",
       "      <td>-5.568497</td>\n",
       "    </tr>\n",
       "    <tr>\n",
       "      <th>977</th>\n",
       "      <td>2002-09-04</td>\n",
       "      <td>0.335627</td>\n",
       "      <td>-4.502833</td>\n",
       "      <td>4.428072</td>\n",
       "      <td>-4.846175</td>\n",
       "    </tr>\n",
       "    <tr>\n",
       "      <th>978</th>\n",
       "      <td>2002-09-05</td>\n",
       "      <td>-0.304164</td>\n",
       "      <td>-5.301938</td>\n",
       "      <td>3.698387</td>\n",
       "      <td>-3.314514</td>\n",
       "    </tr>\n",
       "    <tr>\n",
       "      <th>979</th>\n",
       "      <td>2002-09-06</td>\n",
       "      <td>0.423530</td>\n",
       "      <td>-5.098933</td>\n",
       "      <td>1.769386</td>\n",
       "      <td>-3.141588</td>\n",
       "    </tr>\n",
       "    <tr>\n",
       "      <th>980</th>\n",
       "      <td>2002-09-07</td>\n",
       "      <td>1.402583</td>\n",
       "      <td>-3.293932</td>\n",
       "      <td>1.372325</td>\n",
       "      <td>-3.848559</td>\n",
       "    </tr>\n",
       "    <tr>\n",
       "      <th>981</th>\n",
       "      <td>2002-09-08</td>\n",
       "      <td>3.769768</td>\n",
       "      <td>-4.162333</td>\n",
       "      <td>0.164343</td>\n",
       "      <td>-2.705566</td>\n",
       "    </tr>\n",
       "    <tr>\n",
       "      <th>982</th>\n",
       "      <td>2002-09-09</td>\n",
       "      <td>3.641355</td>\n",
       "      <td>-4.118389</td>\n",
       "      <td>0.469999</td>\n",
       "      <td>-1.949645</td>\n",
       "    </tr>\n",
       "    <tr>\n",
       "      <th>983</th>\n",
       "      <td>2002-09-10</td>\n",
       "      <td>4.102749</td>\n",
       "      <td>-3.816471</td>\n",
       "      <td>0.430381</td>\n",
       "      <td>-1.262094</td>\n",
       "    </tr>\n",
       "    <tr>\n",
       "      <th>984</th>\n",
       "      <td>2002-09-11</td>\n",
       "      <td>4.471061</td>\n",
       "      <td>-4.765372</td>\n",
       "      <td>-0.630910</td>\n",
       "      <td>-1.520693</td>\n",
       "    </tr>\n",
       "    <tr>\n",
       "      <th>985</th>\n",
       "      <td>2002-09-12</td>\n",
       "      <td>3.150555</td>\n",
       "      <td>-4.750909</td>\n",
       "      <td>-0.980625</td>\n",
       "      <td>-0.382941</td>\n",
       "    </tr>\n",
       "    <tr>\n",
       "      <th>986</th>\n",
       "      <td>2002-09-13</td>\n",
       "      <td>2.688166</td>\n",
       "      <td>-5.244984</td>\n",
       "      <td>-2.023040</td>\n",
       "      <td>-0.632738</td>\n",
       "    </tr>\n",
       "    <tr>\n",
       "      <th>987</th>\n",
       "      <td>2002-09-14</td>\n",
       "      <td>2.438050</td>\n",
       "      <td>-4.966000</td>\n",
       "      <td>-1.066770</td>\n",
       "      <td>-0.641888</td>\n",
       "    </tr>\n",
       "    <tr>\n",
       "      <th>988</th>\n",
       "      <td>2002-09-15</td>\n",
       "      <td>2.682019</td>\n",
       "      <td>-4.792632</td>\n",
       "      <td>-2.534199</td>\n",
       "      <td>-0.102955</td>\n",
       "    </tr>\n",
       "    <tr>\n",
       "      <th>989</th>\n",
       "      <td>2002-09-16</td>\n",
       "      <td>1.510590</td>\n",
       "      <td>-3.496199</td>\n",
       "      <td>-2.962717</td>\n",
       "      <td>0.462764</td>\n",
       "    </tr>\n",
       "    <tr>\n",
       "      <th>990</th>\n",
       "      <td>2002-09-17</td>\n",
       "      <td>1.114012</td>\n",
       "      <td>-3.254380</td>\n",
       "      <td>-1.662009</td>\n",
       "      <td>0.332558</td>\n",
       "    </tr>\n",
       "    <tr>\n",
       "      <th>991</th>\n",
       "      <td>2002-09-18</td>\n",
       "      <td>1.338836</td>\n",
       "      <td>-1.943820</td>\n",
       "      <td>-1.887363</td>\n",
       "      <td>-0.809203</td>\n",
       "    </tr>\n",
       "    <tr>\n",
       "      <th>992</th>\n",
       "      <td>2002-09-19</td>\n",
       "      <td>-0.145806</td>\n",
       "      <td>-3.108847</td>\n",
       "      <td>-1.183457</td>\n",
       "      <td>-2.442006</td>\n",
       "    </tr>\n",
       "    <tr>\n",
       "      <th>993</th>\n",
       "      <td>2002-09-20</td>\n",
       "      <td>0.517696</td>\n",
       "      <td>-2.589056</td>\n",
       "      <td>-0.412603</td>\n",
       "      <td>-3.167397</td>\n",
       "    </tr>\n",
       "    <tr>\n",
       "      <th>994</th>\n",
       "      <td>2002-09-21</td>\n",
       "      <td>0.745444</td>\n",
       "      <td>-3.475669</td>\n",
       "      <td>2.272120</td>\n",
       "      <td>-2.357905</td>\n",
       "    </tr>\n",
       "    <tr>\n",
       "      <th>995</th>\n",
       "      <td>2002-09-22</td>\n",
       "      <td>1.636381</td>\n",
       "      <td>-2.719200</td>\n",
       "      <td>-1.979184</td>\n",
       "      <td>0.037954</td>\n",
       "    </tr>\n",
       "    <tr>\n",
       "      <th>996</th>\n",
       "      <td>2002-09-23</td>\n",
       "      <td>2.443854</td>\n",
       "      <td>-2.396103</td>\n",
       "      <td>-0.693928</td>\n",
       "      <td>2.772537</td>\n",
       "    </tr>\n",
       "    <tr>\n",
       "      <th>997</th>\n",
       "      <td>2002-09-24</td>\n",
       "      <td>4.036205</td>\n",
       "      <td>-2.668042</td>\n",
       "      <td>-0.288608</td>\n",
       "      <td>1.957607</td>\n",
       "    </tr>\n",
       "    <tr>\n",
       "      <th>998</th>\n",
       "      <td>2002-09-25</td>\n",
       "      <td>3.303086</td>\n",
       "      <td>-2.560432</td>\n",
       "      <td>-0.320373</td>\n",
       "      <td>2.720565</td>\n",
       "    </tr>\n",
       "    <tr>\n",
       "      <th>999</th>\n",
       "      <td>2002-09-26</td>\n",
       "      <td>3.878821</td>\n",
       "      <td>-1.523435</td>\n",
       "      <td>0.336772</td>\n",
       "      <td>3.179813</td>\n",
       "    </tr>\n",
       "  </tbody>\n",
       "</table>\n",
       "<p>1000 rows × 5 columns</p>\n",
       "</div>"
      ],
      "text/plain": [
       "     Unnamed: 0         A         B          C         D\n",
       "0    2000-01-01 -0.318521 -0.069281   1.500792 -0.080063\n",
       "1    2000-01-02 -2.241293 -0.451110   1.469580 -0.479344\n",
       "2    2000-01-03 -3.704233 -0.907178  -0.633714  0.550864\n",
       "3    2000-01-04 -3.519505 -1.317420  -1.554043 -0.765876\n",
       "4    2000-01-05 -3.426837 -0.795336  -2.033392 -0.309340\n",
       "5    2000-01-06 -4.197851 -1.663870  -1.287664  0.206682\n",
       "6    2000-01-07 -4.415956 -0.670034  -1.427570 -0.356530\n",
       "7    2000-01-08 -7.464808 -0.061665  -1.889833  1.542657\n",
       "8    2000-01-09 -7.050139  0.386700  -2.341348  2.619088\n",
       "9    2000-01-10 -7.920175 -0.456548  -2.552443  1.381354\n",
       "10   2000-01-11 -8.456519 -0.781479  -1.454071 -0.934378\n",
       "11   2000-01-12 -6.683756 -3.410949  -0.460522  0.627492\n",
       "12   2000-01-13 -4.886169 -4.132066  -0.064894 -2.106896\n",
       "13   2000-01-14 -3.754589 -3.174242  -2.168337 -1.328020\n",
       "14   2000-01-15 -4.275333 -3.992579  -1.653618 -0.760583\n",
       "15   2000-01-16 -4.162704 -4.460994  -2.152618 -2.745559\n",
       "16   2000-01-17 -4.062741 -4.601442  -4.198768 -1.360033\n",
       "17   2000-01-18 -3.275266 -5.671058  -4.149834 -0.579725\n",
       "18   2000-01-19 -1.986749 -6.858071  -5.350513  0.123788\n",
       "19   2000-01-20 -1.330495 -7.988410  -5.618811  0.512892\n",
       "20   2000-01-21 -1.873545 -8.188835  -8.514072  0.292464\n",
       "21   2000-01-22 -1.135987 -7.685835  -9.445687  0.076544\n",
       "22   2000-01-23 -2.017057 -7.322413 -10.779478 -0.587468\n",
       "23   2000-01-24 -1.836398 -7.861919  -9.893417  0.039124\n",
       "24   2000-01-25 -2.964741 -7.873358 -11.152624 -0.148966\n",
       "25   2000-01-26 -4.074195 -7.348044 -11.016124 -1.604884\n",
       "26   2000-01-27 -4.672791 -7.490201 -11.512797 -1.721145\n",
       "27   2000-01-28 -3.603578 -7.780689 -10.644796 -2.324348\n",
       "28   2000-01-29 -4.693509 -8.878476  -8.263178 -3.081571\n",
       "29   2000-01-30 -4.922416 -8.299012  -7.424817 -3.040342\n",
       "..          ...       ...       ...        ...       ...\n",
       "970  2002-08-28  1.746446 -4.326230   3.527811 -3.827475\n",
       "971  2002-08-29  3.162148 -4.106268   4.208269 -2.907800\n",
       "972  2002-08-30  3.078727 -4.416757   4.233948 -3.241318\n",
       "973  2002-08-31  3.862186 -4.192845   5.806876 -3.463433\n",
       "974  2002-09-01  3.797689 -3.867710   7.098169 -4.949637\n",
       "975  2002-09-02  3.374391 -2.769763   5.123203 -5.709463\n",
       "976  2002-09-03  3.138081 -4.445820   4.833085 -5.568497\n",
       "977  2002-09-04  0.335627 -4.502833   4.428072 -4.846175\n",
       "978  2002-09-05 -0.304164 -5.301938   3.698387 -3.314514\n",
       "979  2002-09-06  0.423530 -5.098933   1.769386 -3.141588\n",
       "980  2002-09-07  1.402583 -3.293932   1.372325 -3.848559\n",
       "981  2002-09-08  3.769768 -4.162333   0.164343 -2.705566\n",
       "982  2002-09-09  3.641355 -4.118389   0.469999 -1.949645\n",
       "983  2002-09-10  4.102749 -3.816471   0.430381 -1.262094\n",
       "984  2002-09-11  4.471061 -4.765372  -0.630910 -1.520693\n",
       "985  2002-09-12  3.150555 -4.750909  -0.980625 -0.382941\n",
       "986  2002-09-13  2.688166 -5.244984  -2.023040 -0.632738\n",
       "987  2002-09-14  2.438050 -4.966000  -1.066770 -0.641888\n",
       "988  2002-09-15  2.682019 -4.792632  -2.534199 -0.102955\n",
       "989  2002-09-16  1.510590 -3.496199  -2.962717  0.462764\n",
       "990  2002-09-17  1.114012 -3.254380  -1.662009  0.332558\n",
       "991  2002-09-18  1.338836 -1.943820  -1.887363 -0.809203\n",
       "992  2002-09-19 -0.145806 -3.108847  -1.183457 -2.442006\n",
       "993  2002-09-20  0.517696 -2.589056  -0.412603 -3.167397\n",
       "994  2002-09-21  0.745444 -3.475669   2.272120 -2.357905\n",
       "995  2002-09-22  1.636381 -2.719200  -1.979184  0.037954\n",
       "996  2002-09-23  2.443854 -2.396103  -0.693928  2.772537\n",
       "997  2002-09-24  4.036205 -2.668042  -0.288608  1.957607\n",
       "998  2002-09-25  3.303086 -2.560432  -0.320373  2.720565\n",
       "999  2002-09-26  3.878821 -1.523435   0.336772  3.179813\n",
       "\n",
       "[1000 rows x 5 columns]"
      ]
     },
     "execution_count": 230,
     "metadata": {},
     "output_type": "execute_result"
    }
   ],
   "source": [
    "pd.read_csv(\"foo.csv\")"
   ]
  },
  {
   "cell_type": "markdown",
   "metadata": {},
   "source": [
    "### HDF5"
   ]
  },
  {
   "cell_type": "code",
   "execution_count": 234,
   "metadata": {
    "collapsed": true
   },
   "outputs": [],
   "source": [
    "df.to_hdf(\"foo.h5\",\"df\")"
   ]
  },
  {
   "cell_type": "code",
   "execution_count": 235,
   "metadata": {},
   "outputs": [
    {
     "data": {
      "text/html": [
       "<div>\n",
       "<style>\n",
       "    .dataframe thead tr:only-child th {\n",
       "        text-align: right;\n",
       "    }\n",
       "\n",
       "    .dataframe thead th {\n",
       "        text-align: left;\n",
       "    }\n",
       "\n",
       "    .dataframe tbody tr th {\n",
       "        vertical-align: top;\n",
       "    }\n",
       "</style>\n",
       "<table border=\"1\" class=\"dataframe\">\n",
       "  <thead>\n",
       "    <tr style=\"text-align: right;\">\n",
       "      <th></th>\n",
       "      <th>A</th>\n",
       "      <th>B</th>\n",
       "      <th>C</th>\n",
       "      <th>D</th>\n",
       "    </tr>\n",
       "  </thead>\n",
       "  <tbody>\n",
       "    <tr>\n",
       "      <th>2000-01-01</th>\n",
       "      <td>-0.318521</td>\n",
       "      <td>-0.069281</td>\n",
       "      <td>1.500792</td>\n",
       "      <td>-0.080063</td>\n",
       "    </tr>\n",
       "    <tr>\n",
       "      <th>2000-01-02</th>\n",
       "      <td>-2.241293</td>\n",
       "      <td>-0.451110</td>\n",
       "      <td>1.469580</td>\n",
       "      <td>-0.479344</td>\n",
       "    </tr>\n",
       "    <tr>\n",
       "      <th>2000-01-03</th>\n",
       "      <td>-3.704233</td>\n",
       "      <td>-0.907178</td>\n",
       "      <td>-0.633714</td>\n",
       "      <td>0.550864</td>\n",
       "    </tr>\n",
       "    <tr>\n",
       "      <th>2000-01-04</th>\n",
       "      <td>-3.519505</td>\n",
       "      <td>-1.317420</td>\n",
       "      <td>-1.554043</td>\n",
       "      <td>-0.765876</td>\n",
       "    </tr>\n",
       "    <tr>\n",
       "      <th>2000-01-05</th>\n",
       "      <td>-3.426837</td>\n",
       "      <td>-0.795336</td>\n",
       "      <td>-2.033392</td>\n",
       "      <td>-0.309340</td>\n",
       "    </tr>\n",
       "    <tr>\n",
       "      <th>2000-01-06</th>\n",
       "      <td>-4.197851</td>\n",
       "      <td>-1.663870</td>\n",
       "      <td>-1.287664</td>\n",
       "      <td>0.206682</td>\n",
       "    </tr>\n",
       "    <tr>\n",
       "      <th>2000-01-07</th>\n",
       "      <td>-4.415956</td>\n",
       "      <td>-0.670034</td>\n",
       "      <td>-1.427570</td>\n",
       "      <td>-0.356530</td>\n",
       "    </tr>\n",
       "    <tr>\n",
       "      <th>2000-01-08</th>\n",
       "      <td>-7.464808</td>\n",
       "      <td>-0.061665</td>\n",
       "      <td>-1.889833</td>\n",
       "      <td>1.542657</td>\n",
       "    </tr>\n",
       "    <tr>\n",
       "      <th>2000-01-09</th>\n",
       "      <td>-7.050139</td>\n",
       "      <td>0.386700</td>\n",
       "      <td>-2.341348</td>\n",
       "      <td>2.619088</td>\n",
       "    </tr>\n",
       "    <tr>\n",
       "      <th>2000-01-10</th>\n",
       "      <td>-7.920175</td>\n",
       "      <td>-0.456548</td>\n",
       "      <td>-2.552443</td>\n",
       "      <td>1.381354</td>\n",
       "    </tr>\n",
       "    <tr>\n",
       "      <th>2000-01-11</th>\n",
       "      <td>-8.456519</td>\n",
       "      <td>-0.781479</td>\n",
       "      <td>-1.454071</td>\n",
       "      <td>-0.934378</td>\n",
       "    </tr>\n",
       "    <tr>\n",
       "      <th>2000-01-12</th>\n",
       "      <td>-6.683756</td>\n",
       "      <td>-3.410949</td>\n",
       "      <td>-0.460522</td>\n",
       "      <td>0.627492</td>\n",
       "    </tr>\n",
       "    <tr>\n",
       "      <th>2000-01-13</th>\n",
       "      <td>-4.886169</td>\n",
       "      <td>-4.132066</td>\n",
       "      <td>-0.064894</td>\n",
       "      <td>-2.106896</td>\n",
       "    </tr>\n",
       "    <tr>\n",
       "      <th>2000-01-14</th>\n",
       "      <td>-3.754589</td>\n",
       "      <td>-3.174242</td>\n",
       "      <td>-2.168337</td>\n",
       "      <td>-1.328020</td>\n",
       "    </tr>\n",
       "    <tr>\n",
       "      <th>2000-01-15</th>\n",
       "      <td>-4.275333</td>\n",
       "      <td>-3.992579</td>\n",
       "      <td>-1.653618</td>\n",
       "      <td>-0.760583</td>\n",
       "    </tr>\n",
       "    <tr>\n",
       "      <th>2000-01-16</th>\n",
       "      <td>-4.162704</td>\n",
       "      <td>-4.460994</td>\n",
       "      <td>-2.152618</td>\n",
       "      <td>-2.745559</td>\n",
       "    </tr>\n",
       "    <tr>\n",
       "      <th>2000-01-17</th>\n",
       "      <td>-4.062741</td>\n",
       "      <td>-4.601442</td>\n",
       "      <td>-4.198768</td>\n",
       "      <td>-1.360033</td>\n",
       "    </tr>\n",
       "    <tr>\n",
       "      <th>2000-01-18</th>\n",
       "      <td>-3.275266</td>\n",
       "      <td>-5.671058</td>\n",
       "      <td>-4.149834</td>\n",
       "      <td>-0.579725</td>\n",
       "    </tr>\n",
       "    <tr>\n",
       "      <th>2000-01-19</th>\n",
       "      <td>-1.986749</td>\n",
       "      <td>-6.858071</td>\n",
       "      <td>-5.350513</td>\n",
       "      <td>0.123788</td>\n",
       "    </tr>\n",
       "    <tr>\n",
       "      <th>2000-01-20</th>\n",
       "      <td>-1.330495</td>\n",
       "      <td>-7.988410</td>\n",
       "      <td>-5.618811</td>\n",
       "      <td>0.512892</td>\n",
       "    </tr>\n",
       "    <tr>\n",
       "      <th>2000-01-21</th>\n",
       "      <td>-1.873545</td>\n",
       "      <td>-8.188835</td>\n",
       "      <td>-8.514072</td>\n",
       "      <td>0.292464</td>\n",
       "    </tr>\n",
       "    <tr>\n",
       "      <th>2000-01-22</th>\n",
       "      <td>-1.135987</td>\n",
       "      <td>-7.685835</td>\n",
       "      <td>-9.445687</td>\n",
       "      <td>0.076544</td>\n",
       "    </tr>\n",
       "    <tr>\n",
       "      <th>2000-01-23</th>\n",
       "      <td>-2.017057</td>\n",
       "      <td>-7.322413</td>\n",
       "      <td>-10.779478</td>\n",
       "      <td>-0.587468</td>\n",
       "    </tr>\n",
       "    <tr>\n",
       "      <th>2000-01-24</th>\n",
       "      <td>-1.836398</td>\n",
       "      <td>-7.861919</td>\n",
       "      <td>-9.893417</td>\n",
       "      <td>0.039124</td>\n",
       "    </tr>\n",
       "    <tr>\n",
       "      <th>2000-01-25</th>\n",
       "      <td>-2.964741</td>\n",
       "      <td>-7.873358</td>\n",
       "      <td>-11.152624</td>\n",
       "      <td>-0.148966</td>\n",
       "    </tr>\n",
       "    <tr>\n",
       "      <th>2000-01-26</th>\n",
       "      <td>-4.074195</td>\n",
       "      <td>-7.348044</td>\n",
       "      <td>-11.016124</td>\n",
       "      <td>-1.604884</td>\n",
       "    </tr>\n",
       "    <tr>\n",
       "      <th>2000-01-27</th>\n",
       "      <td>-4.672791</td>\n",
       "      <td>-7.490201</td>\n",
       "      <td>-11.512797</td>\n",
       "      <td>-1.721145</td>\n",
       "    </tr>\n",
       "    <tr>\n",
       "      <th>2000-01-28</th>\n",
       "      <td>-3.603578</td>\n",
       "      <td>-7.780689</td>\n",
       "      <td>-10.644796</td>\n",
       "      <td>-2.324348</td>\n",
       "    </tr>\n",
       "    <tr>\n",
       "      <th>2000-01-29</th>\n",
       "      <td>-4.693509</td>\n",
       "      <td>-8.878476</td>\n",
       "      <td>-8.263178</td>\n",
       "      <td>-3.081571</td>\n",
       "    </tr>\n",
       "    <tr>\n",
       "      <th>2000-01-30</th>\n",
       "      <td>-4.922416</td>\n",
       "      <td>-8.299012</td>\n",
       "      <td>-7.424817</td>\n",
       "      <td>-3.040342</td>\n",
       "    </tr>\n",
       "    <tr>\n",
       "      <th>...</th>\n",
       "      <td>...</td>\n",
       "      <td>...</td>\n",
       "      <td>...</td>\n",
       "      <td>...</td>\n",
       "    </tr>\n",
       "    <tr>\n",
       "      <th>2002-08-28</th>\n",
       "      <td>1.746446</td>\n",
       "      <td>-4.326230</td>\n",
       "      <td>3.527811</td>\n",
       "      <td>-3.827475</td>\n",
       "    </tr>\n",
       "    <tr>\n",
       "      <th>2002-08-29</th>\n",
       "      <td>3.162148</td>\n",
       "      <td>-4.106268</td>\n",
       "      <td>4.208269</td>\n",
       "      <td>-2.907800</td>\n",
       "    </tr>\n",
       "    <tr>\n",
       "      <th>2002-08-30</th>\n",
       "      <td>3.078727</td>\n",
       "      <td>-4.416757</td>\n",
       "      <td>4.233948</td>\n",
       "      <td>-3.241318</td>\n",
       "    </tr>\n",
       "    <tr>\n",
       "      <th>2002-08-31</th>\n",
       "      <td>3.862186</td>\n",
       "      <td>-4.192845</td>\n",
       "      <td>5.806876</td>\n",
       "      <td>-3.463433</td>\n",
       "    </tr>\n",
       "    <tr>\n",
       "      <th>2002-09-01</th>\n",
       "      <td>3.797689</td>\n",
       "      <td>-3.867710</td>\n",
       "      <td>7.098169</td>\n",
       "      <td>-4.949637</td>\n",
       "    </tr>\n",
       "    <tr>\n",
       "      <th>2002-09-02</th>\n",
       "      <td>3.374391</td>\n",
       "      <td>-2.769763</td>\n",
       "      <td>5.123203</td>\n",
       "      <td>-5.709463</td>\n",
       "    </tr>\n",
       "    <tr>\n",
       "      <th>2002-09-03</th>\n",
       "      <td>3.138081</td>\n",
       "      <td>-4.445820</td>\n",
       "      <td>4.833085</td>\n",
       "      <td>-5.568497</td>\n",
       "    </tr>\n",
       "    <tr>\n",
       "      <th>2002-09-04</th>\n",
       "      <td>0.335627</td>\n",
       "      <td>-4.502833</td>\n",
       "      <td>4.428072</td>\n",
       "      <td>-4.846175</td>\n",
       "    </tr>\n",
       "    <tr>\n",
       "      <th>2002-09-05</th>\n",
       "      <td>-0.304164</td>\n",
       "      <td>-5.301938</td>\n",
       "      <td>3.698387</td>\n",
       "      <td>-3.314514</td>\n",
       "    </tr>\n",
       "    <tr>\n",
       "      <th>2002-09-06</th>\n",
       "      <td>0.423530</td>\n",
       "      <td>-5.098933</td>\n",
       "      <td>1.769386</td>\n",
       "      <td>-3.141588</td>\n",
       "    </tr>\n",
       "    <tr>\n",
       "      <th>2002-09-07</th>\n",
       "      <td>1.402583</td>\n",
       "      <td>-3.293932</td>\n",
       "      <td>1.372325</td>\n",
       "      <td>-3.848559</td>\n",
       "    </tr>\n",
       "    <tr>\n",
       "      <th>2002-09-08</th>\n",
       "      <td>3.769768</td>\n",
       "      <td>-4.162333</td>\n",
       "      <td>0.164343</td>\n",
       "      <td>-2.705566</td>\n",
       "    </tr>\n",
       "    <tr>\n",
       "      <th>2002-09-09</th>\n",
       "      <td>3.641355</td>\n",
       "      <td>-4.118389</td>\n",
       "      <td>0.469999</td>\n",
       "      <td>-1.949645</td>\n",
       "    </tr>\n",
       "    <tr>\n",
       "      <th>2002-09-10</th>\n",
       "      <td>4.102749</td>\n",
       "      <td>-3.816471</td>\n",
       "      <td>0.430381</td>\n",
       "      <td>-1.262094</td>\n",
       "    </tr>\n",
       "    <tr>\n",
       "      <th>2002-09-11</th>\n",
       "      <td>4.471061</td>\n",
       "      <td>-4.765372</td>\n",
       "      <td>-0.630910</td>\n",
       "      <td>-1.520693</td>\n",
       "    </tr>\n",
       "    <tr>\n",
       "      <th>2002-09-12</th>\n",
       "      <td>3.150555</td>\n",
       "      <td>-4.750909</td>\n",
       "      <td>-0.980625</td>\n",
       "      <td>-0.382941</td>\n",
       "    </tr>\n",
       "    <tr>\n",
       "      <th>2002-09-13</th>\n",
       "      <td>2.688166</td>\n",
       "      <td>-5.244984</td>\n",
       "      <td>-2.023040</td>\n",
       "      <td>-0.632738</td>\n",
       "    </tr>\n",
       "    <tr>\n",
       "      <th>2002-09-14</th>\n",
       "      <td>2.438050</td>\n",
       "      <td>-4.966000</td>\n",
       "      <td>-1.066770</td>\n",
       "      <td>-0.641888</td>\n",
       "    </tr>\n",
       "    <tr>\n",
       "      <th>2002-09-15</th>\n",
       "      <td>2.682019</td>\n",
       "      <td>-4.792632</td>\n",
       "      <td>-2.534199</td>\n",
       "      <td>-0.102955</td>\n",
       "    </tr>\n",
       "    <tr>\n",
       "      <th>2002-09-16</th>\n",
       "      <td>1.510590</td>\n",
       "      <td>-3.496199</td>\n",
       "      <td>-2.962717</td>\n",
       "      <td>0.462764</td>\n",
       "    </tr>\n",
       "    <tr>\n",
       "      <th>2002-09-17</th>\n",
       "      <td>1.114012</td>\n",
       "      <td>-3.254380</td>\n",
       "      <td>-1.662009</td>\n",
       "      <td>0.332558</td>\n",
       "    </tr>\n",
       "    <tr>\n",
       "      <th>2002-09-18</th>\n",
       "      <td>1.338836</td>\n",
       "      <td>-1.943820</td>\n",
       "      <td>-1.887363</td>\n",
       "      <td>-0.809203</td>\n",
       "    </tr>\n",
       "    <tr>\n",
       "      <th>2002-09-19</th>\n",
       "      <td>-0.145806</td>\n",
       "      <td>-3.108847</td>\n",
       "      <td>-1.183457</td>\n",
       "      <td>-2.442006</td>\n",
       "    </tr>\n",
       "    <tr>\n",
       "      <th>2002-09-20</th>\n",
       "      <td>0.517696</td>\n",
       "      <td>-2.589056</td>\n",
       "      <td>-0.412603</td>\n",
       "      <td>-3.167397</td>\n",
       "    </tr>\n",
       "    <tr>\n",
       "      <th>2002-09-21</th>\n",
       "      <td>0.745444</td>\n",
       "      <td>-3.475669</td>\n",
       "      <td>2.272120</td>\n",
       "      <td>-2.357905</td>\n",
       "    </tr>\n",
       "    <tr>\n",
       "      <th>2002-09-22</th>\n",
       "      <td>1.636381</td>\n",
       "      <td>-2.719200</td>\n",
       "      <td>-1.979184</td>\n",
       "      <td>0.037954</td>\n",
       "    </tr>\n",
       "    <tr>\n",
       "      <th>2002-09-23</th>\n",
       "      <td>2.443854</td>\n",
       "      <td>-2.396103</td>\n",
       "      <td>-0.693928</td>\n",
       "      <td>2.772537</td>\n",
       "    </tr>\n",
       "    <tr>\n",
       "      <th>2002-09-24</th>\n",
       "      <td>4.036205</td>\n",
       "      <td>-2.668042</td>\n",
       "      <td>-0.288608</td>\n",
       "      <td>1.957607</td>\n",
       "    </tr>\n",
       "    <tr>\n",
       "      <th>2002-09-25</th>\n",
       "      <td>3.303086</td>\n",
       "      <td>-2.560432</td>\n",
       "      <td>-0.320373</td>\n",
       "      <td>2.720565</td>\n",
       "    </tr>\n",
       "    <tr>\n",
       "      <th>2002-09-26</th>\n",
       "      <td>3.878821</td>\n",
       "      <td>-1.523435</td>\n",
       "      <td>0.336772</td>\n",
       "      <td>3.179813</td>\n",
       "    </tr>\n",
       "  </tbody>\n",
       "</table>\n",
       "<p>1000 rows × 4 columns</p>\n",
       "</div>"
      ],
      "text/plain": [
       "                   A         B          C         D\n",
       "2000-01-01 -0.318521 -0.069281   1.500792 -0.080063\n",
       "2000-01-02 -2.241293 -0.451110   1.469580 -0.479344\n",
       "2000-01-03 -3.704233 -0.907178  -0.633714  0.550864\n",
       "2000-01-04 -3.519505 -1.317420  -1.554043 -0.765876\n",
       "2000-01-05 -3.426837 -0.795336  -2.033392 -0.309340\n",
       "2000-01-06 -4.197851 -1.663870  -1.287664  0.206682\n",
       "2000-01-07 -4.415956 -0.670034  -1.427570 -0.356530\n",
       "2000-01-08 -7.464808 -0.061665  -1.889833  1.542657\n",
       "2000-01-09 -7.050139  0.386700  -2.341348  2.619088\n",
       "2000-01-10 -7.920175 -0.456548  -2.552443  1.381354\n",
       "2000-01-11 -8.456519 -0.781479  -1.454071 -0.934378\n",
       "2000-01-12 -6.683756 -3.410949  -0.460522  0.627492\n",
       "2000-01-13 -4.886169 -4.132066  -0.064894 -2.106896\n",
       "2000-01-14 -3.754589 -3.174242  -2.168337 -1.328020\n",
       "2000-01-15 -4.275333 -3.992579  -1.653618 -0.760583\n",
       "2000-01-16 -4.162704 -4.460994  -2.152618 -2.745559\n",
       "2000-01-17 -4.062741 -4.601442  -4.198768 -1.360033\n",
       "2000-01-18 -3.275266 -5.671058  -4.149834 -0.579725\n",
       "2000-01-19 -1.986749 -6.858071  -5.350513  0.123788\n",
       "2000-01-20 -1.330495 -7.988410  -5.618811  0.512892\n",
       "2000-01-21 -1.873545 -8.188835  -8.514072  0.292464\n",
       "2000-01-22 -1.135987 -7.685835  -9.445687  0.076544\n",
       "2000-01-23 -2.017057 -7.322413 -10.779478 -0.587468\n",
       "2000-01-24 -1.836398 -7.861919  -9.893417  0.039124\n",
       "2000-01-25 -2.964741 -7.873358 -11.152624 -0.148966\n",
       "2000-01-26 -4.074195 -7.348044 -11.016124 -1.604884\n",
       "2000-01-27 -4.672791 -7.490201 -11.512797 -1.721145\n",
       "2000-01-28 -3.603578 -7.780689 -10.644796 -2.324348\n",
       "2000-01-29 -4.693509 -8.878476  -8.263178 -3.081571\n",
       "2000-01-30 -4.922416 -8.299012  -7.424817 -3.040342\n",
       "...              ...       ...        ...       ...\n",
       "2002-08-28  1.746446 -4.326230   3.527811 -3.827475\n",
       "2002-08-29  3.162148 -4.106268   4.208269 -2.907800\n",
       "2002-08-30  3.078727 -4.416757   4.233948 -3.241318\n",
       "2002-08-31  3.862186 -4.192845   5.806876 -3.463433\n",
       "2002-09-01  3.797689 -3.867710   7.098169 -4.949637\n",
       "2002-09-02  3.374391 -2.769763   5.123203 -5.709463\n",
       "2002-09-03  3.138081 -4.445820   4.833085 -5.568497\n",
       "2002-09-04  0.335627 -4.502833   4.428072 -4.846175\n",
       "2002-09-05 -0.304164 -5.301938   3.698387 -3.314514\n",
       "2002-09-06  0.423530 -5.098933   1.769386 -3.141588\n",
       "2002-09-07  1.402583 -3.293932   1.372325 -3.848559\n",
       "2002-09-08  3.769768 -4.162333   0.164343 -2.705566\n",
       "2002-09-09  3.641355 -4.118389   0.469999 -1.949645\n",
       "2002-09-10  4.102749 -3.816471   0.430381 -1.262094\n",
       "2002-09-11  4.471061 -4.765372  -0.630910 -1.520693\n",
       "2002-09-12  3.150555 -4.750909  -0.980625 -0.382941\n",
       "2002-09-13  2.688166 -5.244984  -2.023040 -0.632738\n",
       "2002-09-14  2.438050 -4.966000  -1.066770 -0.641888\n",
       "2002-09-15  2.682019 -4.792632  -2.534199 -0.102955\n",
       "2002-09-16  1.510590 -3.496199  -2.962717  0.462764\n",
       "2002-09-17  1.114012 -3.254380  -1.662009  0.332558\n",
       "2002-09-18  1.338836 -1.943820  -1.887363 -0.809203\n",
       "2002-09-19 -0.145806 -3.108847  -1.183457 -2.442006\n",
       "2002-09-20  0.517696 -2.589056  -0.412603 -3.167397\n",
       "2002-09-21  0.745444 -3.475669   2.272120 -2.357905\n",
       "2002-09-22  1.636381 -2.719200  -1.979184  0.037954\n",
       "2002-09-23  2.443854 -2.396103  -0.693928  2.772537\n",
       "2002-09-24  4.036205 -2.668042  -0.288608  1.957607\n",
       "2002-09-25  3.303086 -2.560432  -0.320373  2.720565\n",
       "2002-09-26  3.878821 -1.523435   0.336772  3.179813\n",
       "\n",
       "[1000 rows x 4 columns]"
      ]
     },
     "execution_count": 235,
     "metadata": {},
     "output_type": "execute_result"
    }
   ],
   "source": [
    "pd.read_hdf(\"foo.h5\",\"df\")"
   ]
  },
  {
   "cell_type": "markdown",
   "metadata": {},
   "source": [
    "### Excel"
   ]
  },
  {
   "cell_type": "code",
   "execution_count": 236,
   "metadata": {
    "collapsed": true
   },
   "outputs": [],
   "source": [
    "df.to_excel(\"foo.xlsx\",sheet_name=\"Sheet1\")"
   ]
  },
  {
   "cell_type": "code",
   "execution_count": 237,
   "metadata": {},
   "outputs": [
    {
     "data": {
      "text/html": [
       "<div>\n",
       "<style>\n",
       "    .dataframe thead tr:only-child th {\n",
       "        text-align: right;\n",
       "    }\n",
       "\n",
       "    .dataframe thead th {\n",
       "        text-align: left;\n",
       "    }\n",
       "\n",
       "    .dataframe tbody tr th {\n",
       "        vertical-align: top;\n",
       "    }\n",
       "</style>\n",
       "<table border=\"1\" class=\"dataframe\">\n",
       "  <thead>\n",
       "    <tr style=\"text-align: right;\">\n",
       "      <th></th>\n",
       "      <th>A</th>\n",
       "      <th>B</th>\n",
       "      <th>C</th>\n",
       "      <th>D</th>\n",
       "    </tr>\n",
       "  </thead>\n",
       "  <tbody>\n",
       "    <tr>\n",
       "      <th>2000-01-01</th>\n",
       "      <td>-0.318521</td>\n",
       "      <td>-0.069281</td>\n",
       "      <td>1.500792</td>\n",
       "      <td>-0.080063</td>\n",
       "    </tr>\n",
       "    <tr>\n",
       "      <th>2000-01-02</th>\n",
       "      <td>-2.241293</td>\n",
       "      <td>-0.451110</td>\n",
       "      <td>1.469580</td>\n",
       "      <td>-0.479344</td>\n",
       "    </tr>\n",
       "    <tr>\n",
       "      <th>2000-01-03</th>\n",
       "      <td>-3.704233</td>\n",
       "      <td>-0.907178</td>\n",
       "      <td>-0.633714</td>\n",
       "      <td>0.550864</td>\n",
       "    </tr>\n",
       "    <tr>\n",
       "      <th>2000-01-04</th>\n",
       "      <td>-3.519505</td>\n",
       "      <td>-1.317420</td>\n",
       "      <td>-1.554043</td>\n",
       "      <td>-0.765876</td>\n",
       "    </tr>\n",
       "    <tr>\n",
       "      <th>2000-01-05</th>\n",
       "      <td>-3.426837</td>\n",
       "      <td>-0.795336</td>\n",
       "      <td>-2.033392</td>\n",
       "      <td>-0.309340</td>\n",
       "    </tr>\n",
       "    <tr>\n",
       "      <th>2000-01-06</th>\n",
       "      <td>-4.197851</td>\n",
       "      <td>-1.663870</td>\n",
       "      <td>-1.287664</td>\n",
       "      <td>0.206682</td>\n",
       "    </tr>\n",
       "    <tr>\n",
       "      <th>2000-01-07</th>\n",
       "      <td>-4.415956</td>\n",
       "      <td>-0.670034</td>\n",
       "      <td>-1.427570</td>\n",
       "      <td>-0.356530</td>\n",
       "    </tr>\n",
       "    <tr>\n",
       "      <th>2000-01-08</th>\n",
       "      <td>-7.464808</td>\n",
       "      <td>-0.061665</td>\n",
       "      <td>-1.889833</td>\n",
       "      <td>1.542657</td>\n",
       "    </tr>\n",
       "    <tr>\n",
       "      <th>2000-01-09</th>\n",
       "      <td>-7.050139</td>\n",
       "      <td>0.386700</td>\n",
       "      <td>-2.341348</td>\n",
       "      <td>2.619088</td>\n",
       "    </tr>\n",
       "    <tr>\n",
       "      <th>2000-01-10</th>\n",
       "      <td>-7.920175</td>\n",
       "      <td>-0.456548</td>\n",
       "      <td>-2.552443</td>\n",
       "      <td>1.381354</td>\n",
       "    </tr>\n",
       "    <tr>\n",
       "      <th>2000-01-11</th>\n",
       "      <td>-8.456519</td>\n",
       "      <td>-0.781479</td>\n",
       "      <td>-1.454071</td>\n",
       "      <td>-0.934378</td>\n",
       "    </tr>\n",
       "    <tr>\n",
       "      <th>2000-01-12</th>\n",
       "      <td>-6.683756</td>\n",
       "      <td>-3.410949</td>\n",
       "      <td>-0.460522</td>\n",
       "      <td>0.627492</td>\n",
       "    </tr>\n",
       "    <tr>\n",
       "      <th>2000-01-13</th>\n",
       "      <td>-4.886169</td>\n",
       "      <td>-4.132066</td>\n",
       "      <td>-0.064894</td>\n",
       "      <td>-2.106896</td>\n",
       "    </tr>\n",
       "    <tr>\n",
       "      <th>2000-01-14</th>\n",
       "      <td>-3.754589</td>\n",
       "      <td>-3.174242</td>\n",
       "      <td>-2.168337</td>\n",
       "      <td>-1.328020</td>\n",
       "    </tr>\n",
       "    <tr>\n",
       "      <th>2000-01-15</th>\n",
       "      <td>-4.275333</td>\n",
       "      <td>-3.992579</td>\n",
       "      <td>-1.653618</td>\n",
       "      <td>-0.760583</td>\n",
       "    </tr>\n",
       "    <tr>\n",
       "      <th>2000-01-16</th>\n",
       "      <td>-4.162704</td>\n",
       "      <td>-4.460994</td>\n",
       "      <td>-2.152618</td>\n",
       "      <td>-2.745559</td>\n",
       "    </tr>\n",
       "    <tr>\n",
       "      <th>2000-01-17</th>\n",
       "      <td>-4.062741</td>\n",
       "      <td>-4.601442</td>\n",
       "      <td>-4.198768</td>\n",
       "      <td>-1.360033</td>\n",
       "    </tr>\n",
       "    <tr>\n",
       "      <th>2000-01-18</th>\n",
       "      <td>-3.275266</td>\n",
       "      <td>-5.671058</td>\n",
       "      <td>-4.149834</td>\n",
       "      <td>-0.579725</td>\n",
       "    </tr>\n",
       "    <tr>\n",
       "      <th>2000-01-19</th>\n",
       "      <td>-1.986749</td>\n",
       "      <td>-6.858071</td>\n",
       "      <td>-5.350513</td>\n",
       "      <td>0.123788</td>\n",
       "    </tr>\n",
       "    <tr>\n",
       "      <th>2000-01-20</th>\n",
       "      <td>-1.330495</td>\n",
       "      <td>-7.988410</td>\n",
       "      <td>-5.618811</td>\n",
       "      <td>0.512892</td>\n",
       "    </tr>\n",
       "    <tr>\n",
       "      <th>2000-01-21</th>\n",
       "      <td>-1.873545</td>\n",
       "      <td>-8.188835</td>\n",
       "      <td>-8.514072</td>\n",
       "      <td>0.292464</td>\n",
       "    </tr>\n",
       "    <tr>\n",
       "      <th>2000-01-22</th>\n",
       "      <td>-1.135987</td>\n",
       "      <td>-7.685835</td>\n",
       "      <td>-9.445687</td>\n",
       "      <td>0.076544</td>\n",
       "    </tr>\n",
       "    <tr>\n",
       "      <th>2000-01-23</th>\n",
       "      <td>-2.017057</td>\n",
       "      <td>-7.322413</td>\n",
       "      <td>-10.779478</td>\n",
       "      <td>-0.587468</td>\n",
       "    </tr>\n",
       "    <tr>\n",
       "      <th>2000-01-24</th>\n",
       "      <td>-1.836398</td>\n",
       "      <td>-7.861919</td>\n",
       "      <td>-9.893417</td>\n",
       "      <td>0.039124</td>\n",
       "    </tr>\n",
       "    <tr>\n",
       "      <th>2000-01-25</th>\n",
       "      <td>-2.964741</td>\n",
       "      <td>-7.873358</td>\n",
       "      <td>-11.152624</td>\n",
       "      <td>-0.148966</td>\n",
       "    </tr>\n",
       "    <tr>\n",
       "      <th>2000-01-26</th>\n",
       "      <td>-4.074195</td>\n",
       "      <td>-7.348044</td>\n",
       "      <td>-11.016124</td>\n",
       "      <td>-1.604884</td>\n",
       "    </tr>\n",
       "    <tr>\n",
       "      <th>2000-01-27</th>\n",
       "      <td>-4.672791</td>\n",
       "      <td>-7.490201</td>\n",
       "      <td>-11.512797</td>\n",
       "      <td>-1.721145</td>\n",
       "    </tr>\n",
       "    <tr>\n",
       "      <th>2000-01-28</th>\n",
       "      <td>-3.603578</td>\n",
       "      <td>-7.780689</td>\n",
       "      <td>-10.644796</td>\n",
       "      <td>-2.324348</td>\n",
       "    </tr>\n",
       "    <tr>\n",
       "      <th>2000-01-29</th>\n",
       "      <td>-4.693509</td>\n",
       "      <td>-8.878476</td>\n",
       "      <td>-8.263178</td>\n",
       "      <td>-3.081571</td>\n",
       "    </tr>\n",
       "    <tr>\n",
       "      <th>2000-01-30</th>\n",
       "      <td>-4.922416</td>\n",
       "      <td>-8.299012</td>\n",
       "      <td>-7.424817</td>\n",
       "      <td>-3.040342</td>\n",
       "    </tr>\n",
       "    <tr>\n",
       "      <th>...</th>\n",
       "      <td>...</td>\n",
       "      <td>...</td>\n",
       "      <td>...</td>\n",
       "      <td>...</td>\n",
       "    </tr>\n",
       "    <tr>\n",
       "      <th>2002-08-28</th>\n",
       "      <td>1.746446</td>\n",
       "      <td>-4.326230</td>\n",
       "      <td>3.527811</td>\n",
       "      <td>-3.827475</td>\n",
       "    </tr>\n",
       "    <tr>\n",
       "      <th>2002-08-29</th>\n",
       "      <td>3.162148</td>\n",
       "      <td>-4.106268</td>\n",
       "      <td>4.208269</td>\n",
       "      <td>-2.907800</td>\n",
       "    </tr>\n",
       "    <tr>\n",
       "      <th>2002-08-30</th>\n",
       "      <td>3.078727</td>\n",
       "      <td>-4.416757</td>\n",
       "      <td>4.233948</td>\n",
       "      <td>-3.241318</td>\n",
       "    </tr>\n",
       "    <tr>\n",
       "      <th>2002-08-31</th>\n",
       "      <td>3.862186</td>\n",
       "      <td>-4.192845</td>\n",
       "      <td>5.806876</td>\n",
       "      <td>-3.463433</td>\n",
       "    </tr>\n",
       "    <tr>\n",
       "      <th>2002-09-01</th>\n",
       "      <td>3.797689</td>\n",
       "      <td>-3.867710</td>\n",
       "      <td>7.098169</td>\n",
       "      <td>-4.949637</td>\n",
       "    </tr>\n",
       "    <tr>\n",
       "      <th>2002-09-02</th>\n",
       "      <td>3.374391</td>\n",
       "      <td>-2.769763</td>\n",
       "      <td>5.123203</td>\n",
       "      <td>-5.709463</td>\n",
       "    </tr>\n",
       "    <tr>\n",
       "      <th>2002-09-03</th>\n",
       "      <td>3.138081</td>\n",
       "      <td>-4.445820</td>\n",
       "      <td>4.833085</td>\n",
       "      <td>-5.568497</td>\n",
       "    </tr>\n",
       "    <tr>\n",
       "      <th>2002-09-04</th>\n",
       "      <td>0.335627</td>\n",
       "      <td>-4.502833</td>\n",
       "      <td>4.428072</td>\n",
       "      <td>-4.846175</td>\n",
       "    </tr>\n",
       "    <tr>\n",
       "      <th>2002-09-05</th>\n",
       "      <td>-0.304164</td>\n",
       "      <td>-5.301938</td>\n",
       "      <td>3.698387</td>\n",
       "      <td>-3.314514</td>\n",
       "    </tr>\n",
       "    <tr>\n",
       "      <th>2002-09-06</th>\n",
       "      <td>0.423530</td>\n",
       "      <td>-5.098933</td>\n",
       "      <td>1.769386</td>\n",
       "      <td>-3.141588</td>\n",
       "    </tr>\n",
       "    <tr>\n",
       "      <th>2002-09-07</th>\n",
       "      <td>1.402583</td>\n",
       "      <td>-3.293932</td>\n",
       "      <td>1.372325</td>\n",
       "      <td>-3.848559</td>\n",
       "    </tr>\n",
       "    <tr>\n",
       "      <th>2002-09-08</th>\n",
       "      <td>3.769768</td>\n",
       "      <td>-4.162333</td>\n",
       "      <td>0.164343</td>\n",
       "      <td>-2.705566</td>\n",
       "    </tr>\n",
       "    <tr>\n",
       "      <th>2002-09-09</th>\n",
       "      <td>3.641355</td>\n",
       "      <td>-4.118389</td>\n",
       "      <td>0.469999</td>\n",
       "      <td>-1.949645</td>\n",
       "    </tr>\n",
       "    <tr>\n",
       "      <th>2002-09-10</th>\n",
       "      <td>4.102749</td>\n",
       "      <td>-3.816471</td>\n",
       "      <td>0.430381</td>\n",
       "      <td>-1.262094</td>\n",
       "    </tr>\n",
       "    <tr>\n",
       "      <th>2002-09-11</th>\n",
       "      <td>4.471061</td>\n",
       "      <td>-4.765372</td>\n",
       "      <td>-0.630910</td>\n",
       "      <td>-1.520693</td>\n",
       "    </tr>\n",
       "    <tr>\n",
       "      <th>2002-09-12</th>\n",
       "      <td>3.150555</td>\n",
       "      <td>-4.750909</td>\n",
       "      <td>-0.980625</td>\n",
       "      <td>-0.382941</td>\n",
       "    </tr>\n",
       "    <tr>\n",
       "      <th>2002-09-13</th>\n",
       "      <td>2.688166</td>\n",
       "      <td>-5.244984</td>\n",
       "      <td>-2.023040</td>\n",
       "      <td>-0.632738</td>\n",
       "    </tr>\n",
       "    <tr>\n",
       "      <th>2002-09-14</th>\n",
       "      <td>2.438050</td>\n",
       "      <td>-4.966000</td>\n",
       "      <td>-1.066770</td>\n",
       "      <td>-0.641888</td>\n",
       "    </tr>\n",
       "    <tr>\n",
       "      <th>2002-09-15</th>\n",
       "      <td>2.682019</td>\n",
       "      <td>-4.792632</td>\n",
       "      <td>-2.534199</td>\n",
       "      <td>-0.102955</td>\n",
       "    </tr>\n",
       "    <tr>\n",
       "      <th>2002-09-16</th>\n",
       "      <td>1.510590</td>\n",
       "      <td>-3.496199</td>\n",
       "      <td>-2.962717</td>\n",
       "      <td>0.462764</td>\n",
       "    </tr>\n",
       "    <tr>\n",
       "      <th>2002-09-17</th>\n",
       "      <td>1.114012</td>\n",
       "      <td>-3.254380</td>\n",
       "      <td>-1.662009</td>\n",
       "      <td>0.332558</td>\n",
       "    </tr>\n",
       "    <tr>\n",
       "      <th>2002-09-18</th>\n",
       "      <td>1.338836</td>\n",
       "      <td>-1.943820</td>\n",
       "      <td>-1.887363</td>\n",
       "      <td>-0.809203</td>\n",
       "    </tr>\n",
       "    <tr>\n",
       "      <th>2002-09-19</th>\n",
       "      <td>-0.145806</td>\n",
       "      <td>-3.108847</td>\n",
       "      <td>-1.183457</td>\n",
       "      <td>-2.442006</td>\n",
       "    </tr>\n",
       "    <tr>\n",
       "      <th>2002-09-20</th>\n",
       "      <td>0.517696</td>\n",
       "      <td>-2.589056</td>\n",
       "      <td>-0.412603</td>\n",
       "      <td>-3.167397</td>\n",
       "    </tr>\n",
       "    <tr>\n",
       "      <th>2002-09-21</th>\n",
       "      <td>0.745444</td>\n",
       "      <td>-3.475669</td>\n",
       "      <td>2.272120</td>\n",
       "      <td>-2.357905</td>\n",
       "    </tr>\n",
       "    <tr>\n",
       "      <th>2002-09-22</th>\n",
       "      <td>1.636381</td>\n",
       "      <td>-2.719200</td>\n",
       "      <td>-1.979184</td>\n",
       "      <td>0.037954</td>\n",
       "    </tr>\n",
       "    <tr>\n",
       "      <th>2002-09-23</th>\n",
       "      <td>2.443854</td>\n",
       "      <td>-2.396103</td>\n",
       "      <td>-0.693928</td>\n",
       "      <td>2.772537</td>\n",
       "    </tr>\n",
       "    <tr>\n",
       "      <th>2002-09-24</th>\n",
       "      <td>4.036205</td>\n",
       "      <td>-2.668042</td>\n",
       "      <td>-0.288608</td>\n",
       "      <td>1.957607</td>\n",
       "    </tr>\n",
       "    <tr>\n",
       "      <th>2002-09-25</th>\n",
       "      <td>3.303086</td>\n",
       "      <td>-2.560432</td>\n",
       "      <td>-0.320373</td>\n",
       "      <td>2.720565</td>\n",
       "    </tr>\n",
       "    <tr>\n",
       "      <th>2002-09-26</th>\n",
       "      <td>3.878821</td>\n",
       "      <td>-1.523435</td>\n",
       "      <td>0.336772</td>\n",
       "      <td>3.179813</td>\n",
       "    </tr>\n",
       "  </tbody>\n",
       "</table>\n",
       "<p>1000 rows × 4 columns</p>\n",
       "</div>"
      ],
      "text/plain": [
       "                   A         B          C         D\n",
       "2000-01-01 -0.318521 -0.069281   1.500792 -0.080063\n",
       "2000-01-02 -2.241293 -0.451110   1.469580 -0.479344\n",
       "2000-01-03 -3.704233 -0.907178  -0.633714  0.550864\n",
       "2000-01-04 -3.519505 -1.317420  -1.554043 -0.765876\n",
       "2000-01-05 -3.426837 -0.795336  -2.033392 -0.309340\n",
       "2000-01-06 -4.197851 -1.663870  -1.287664  0.206682\n",
       "2000-01-07 -4.415956 -0.670034  -1.427570 -0.356530\n",
       "2000-01-08 -7.464808 -0.061665  -1.889833  1.542657\n",
       "2000-01-09 -7.050139  0.386700  -2.341348  2.619088\n",
       "2000-01-10 -7.920175 -0.456548  -2.552443  1.381354\n",
       "2000-01-11 -8.456519 -0.781479  -1.454071 -0.934378\n",
       "2000-01-12 -6.683756 -3.410949  -0.460522  0.627492\n",
       "2000-01-13 -4.886169 -4.132066  -0.064894 -2.106896\n",
       "2000-01-14 -3.754589 -3.174242  -2.168337 -1.328020\n",
       "2000-01-15 -4.275333 -3.992579  -1.653618 -0.760583\n",
       "2000-01-16 -4.162704 -4.460994  -2.152618 -2.745559\n",
       "2000-01-17 -4.062741 -4.601442  -4.198768 -1.360033\n",
       "2000-01-18 -3.275266 -5.671058  -4.149834 -0.579725\n",
       "2000-01-19 -1.986749 -6.858071  -5.350513  0.123788\n",
       "2000-01-20 -1.330495 -7.988410  -5.618811  0.512892\n",
       "2000-01-21 -1.873545 -8.188835  -8.514072  0.292464\n",
       "2000-01-22 -1.135987 -7.685835  -9.445687  0.076544\n",
       "2000-01-23 -2.017057 -7.322413 -10.779478 -0.587468\n",
       "2000-01-24 -1.836398 -7.861919  -9.893417  0.039124\n",
       "2000-01-25 -2.964741 -7.873358 -11.152624 -0.148966\n",
       "2000-01-26 -4.074195 -7.348044 -11.016124 -1.604884\n",
       "2000-01-27 -4.672791 -7.490201 -11.512797 -1.721145\n",
       "2000-01-28 -3.603578 -7.780689 -10.644796 -2.324348\n",
       "2000-01-29 -4.693509 -8.878476  -8.263178 -3.081571\n",
       "2000-01-30 -4.922416 -8.299012  -7.424817 -3.040342\n",
       "...              ...       ...        ...       ...\n",
       "2002-08-28  1.746446 -4.326230   3.527811 -3.827475\n",
       "2002-08-29  3.162148 -4.106268   4.208269 -2.907800\n",
       "2002-08-30  3.078727 -4.416757   4.233948 -3.241318\n",
       "2002-08-31  3.862186 -4.192845   5.806876 -3.463433\n",
       "2002-09-01  3.797689 -3.867710   7.098169 -4.949637\n",
       "2002-09-02  3.374391 -2.769763   5.123203 -5.709463\n",
       "2002-09-03  3.138081 -4.445820   4.833085 -5.568497\n",
       "2002-09-04  0.335627 -4.502833   4.428072 -4.846175\n",
       "2002-09-05 -0.304164 -5.301938   3.698387 -3.314514\n",
       "2002-09-06  0.423530 -5.098933   1.769386 -3.141588\n",
       "2002-09-07  1.402583 -3.293932   1.372325 -3.848559\n",
       "2002-09-08  3.769768 -4.162333   0.164343 -2.705566\n",
       "2002-09-09  3.641355 -4.118389   0.469999 -1.949645\n",
       "2002-09-10  4.102749 -3.816471   0.430381 -1.262094\n",
       "2002-09-11  4.471061 -4.765372  -0.630910 -1.520693\n",
       "2002-09-12  3.150555 -4.750909  -0.980625 -0.382941\n",
       "2002-09-13  2.688166 -5.244984  -2.023040 -0.632738\n",
       "2002-09-14  2.438050 -4.966000  -1.066770 -0.641888\n",
       "2002-09-15  2.682019 -4.792632  -2.534199 -0.102955\n",
       "2002-09-16  1.510590 -3.496199  -2.962717  0.462764\n",
       "2002-09-17  1.114012 -3.254380  -1.662009  0.332558\n",
       "2002-09-18  1.338836 -1.943820  -1.887363 -0.809203\n",
       "2002-09-19 -0.145806 -3.108847  -1.183457 -2.442006\n",
       "2002-09-20  0.517696 -2.589056  -0.412603 -3.167397\n",
       "2002-09-21  0.745444 -3.475669   2.272120 -2.357905\n",
       "2002-09-22  1.636381 -2.719200  -1.979184  0.037954\n",
       "2002-09-23  2.443854 -2.396103  -0.693928  2.772537\n",
       "2002-09-24  4.036205 -2.668042  -0.288608  1.957607\n",
       "2002-09-25  3.303086 -2.560432  -0.320373  2.720565\n",
       "2002-09-26  3.878821 -1.523435   0.336772  3.179813\n",
       "\n",
       "[1000 rows x 4 columns]"
      ]
     },
     "execution_count": 237,
     "metadata": {},
     "output_type": "execute_result"
    }
   ],
   "source": [
    "pd.read_excel(\"foo.xlsx\",\"Sheet1\",index_col=None,na_values=[\"NA\"])"
   ]
  },
  {
   "cell_type": "markdown",
   "metadata": {},
   "source": [
    "# Tutorials"
   ]
  },
  {
   "cell_type": "markdown",
   "metadata": {},
   "source": [
    "## Pandas CookBook"
   ]
  },
  {
   "cell_type": "markdown",
   "metadata": {},
   "source": [
    "- <a href=https://github.com/jvns/pandas-cookbook#how-to-use-this-cookbook>如何使用Pandas的说明手册</a>\n",
    "    - <a href=\"http://nbviewer.jupyter.org/github/jvns/pandas-cookbook/blob/v0.1/cookbook/A%20quick%20tour%20of%20IPython%20Notebook.ipynb\">IPython Notebook的上手指导教程</a>\n",
    "    - <a href=\"http://nbviewer.jupyter.org/github/jvns/pandas-cookbook/blob/v0.1/cookbook/Chapter%201%20-%20Reading%20from%20a%20CSV.ipynb\">把你的数据读入Pandas中，即使编码是错的</a>\n",
    "    - <a href=\"http://nbviewer.jupyter.org/github/jvns/pandas-cookbook/blob/v0.1/cookbook/Chapter%202%20-%20Selecting%20data%20&%20finding%20the%20most%20common%20complaint%20type.ipynb\">如何从Pandas DataFrame中选择数据</a>\n",
    "    - <a href=\"http://nbviewer.jupyter.org/github/jvns/pandas-cookbook/blob/v0.1/cookbook/Chapter%203%20-%20Which%20borough%20has%20the%20most%20noise%20complaints%3F%20%28or%2C%20more%20selecting%20data%29.ipynb\">如何从复杂的形式中过滤出数据，主要涉及数据切片和取舍</a>\n",
    "    - <a href=\"http://nbviewer.jupyter.org/github/jvns/pandas-cookbook/blob/v0.1/cookbook/Chapter%204%20-%20Find%20out%20on%20which%20weekday%20people%20bike%20the%20most%20with%20groupby%20and%20aggregate.ipynb\">Groupby/aggregate</a>\n",
    "    - <a href=\"http://nbviewer.jupyter.org/github/jvns/pandas-cookbook/blob/v0.1/cookbook/Chapter%206%20-%20String%20operations%21%20Which%20month%20was%20the%20snowiest%3F.ipynb\">利用pandas抓取网页</a>\n",
    "    - <a href=\"http://nbviewer.jupyter.org/github/jvns/pandas-cookbook/blob/v0.1/cookbook/Chapter%206%20-%20String%20operations%21%20Which%20month%20was%20the%20snowiest%3F.ipynb\">Pandas中有关String的处理以及方法</a>\n",
    "    - <a href=\"http://nbviewer.jupyter.org/github/jvns/pandas-cookbook/blob/v0.1/cookbook/Chapter%207%20-%20Cleaning%20up%20messy%20data.ipynb\">剔除无用的数据，利用pandas使这项任务更快乐</a>\n",
    "    - <a href=\"http://nbviewer.jupyter.org/github/jvns/pandas-cookbook/blob/v0.1/cookbook/Chapter%208%20-%20How%20to%20deal%20with%20timestamps.ipynb\">解析Unix系统下的时间戳</a>"
   ]
  },
  {
   "cell_type": "markdown",
   "metadata": {},
   "source": [
    "## 给新手的课程"
   ]
  },
  {
   "cell_type": "markdown",
   "metadata": {},
   "source": [
    "想获取更多的资源，请访问<a href=\"https://bitbucket.org/hrojas/learn-pandas\">repository</a>"
   ]
  },
  {
   "cell_type": "markdown",
   "metadata": {},
   "source": [
    "- **<a href=\"http://nbviewer.jupyter.org/urls/bitbucket.org/hrojas/learn-pandas/raw/master/lessons/01%20-%20Lesson.ipynb\">Lesson01</a>** \n",
    "    - Import libraries\n",
    "    - Creating data sets\n",
    "    - Creating DataFrame\n",
    "    - Reading from CSV\n",
    "    - Exporting to CSV\n",
    "    - Finding Max\n",
    "    - Plotting data\n",
    "    \n",
    "- **<a href=\"http://nbviewer.jupyter.org/urls/bitbucket.org/hrojas/learn-pandas/raw/master/lessons/02%20-%20Lesson.ipynb\">Lesson02</a>** \n",
    "    - Reading from TXT\n",
    "    - Exporting to TXT\n",
    "    - Selecting top/bottom records\n",
    "    - Descriptive statistics\n",
    "    - Grouping/sorting data\n",
    "    \n",
    "- **<a href=\"http://nbviewer.jupyter.org/urls/bitbucket.org/hrojas/learn-pandas/raw/master/lessons/03%20-%20Lesson.ipynb\">Lesson03</a>**\n",
    "    - <font color=\"red\">Creating Functions</font>\n",
    "    - Reading from Excel\n",
    "    - Exporting to Excel\n",
    "    - Outliers\n",
    "    - Lambda functions\n",
    "    - Slice and dice data\n",
    "    \n",
    "- **<a href=\"http://nbviewer.jupyter.org/urls/bitbucket.org/hrojas/learn-pandas/raw/master/lessons/04%20-%20Lesson.ipynb\">Lesson04</a>**\n",
    "    - Adding/Deleting columns\n",
    "    - Index operations\n",
    "    \n",
    "- **<a href=\"http://nbviewer.jupyter.org/urls/bitbucket.org/hrojas/learn-pandas/raw/master/lessons/05%20-%20Lesson.ipynb\">Lesson05</a>** \n",
    "    - Stack/Unstack\n",
    "    - Transpose functions\n",
    "    \n",
    "- **<a href=\"http://nbviewer.jupyter.org/urls/bitbucket.org/hrojas/learn-pandas/raw/master/lessons/06%20-%20Lesson.ipynb\">Lesson06</a>**\n",
    "    - <font color=\"red\">GroupBy function</font>\n",
    "    \n",
    "- **<a href=\"http://nbviewer.jupyter.org/urls/bitbucket.org/hrojas/learn-pandas/raw/master/lessons/07%20-%20Lesson.ipynb\">Lesson07</a>**\n",
    "    -  Ways to calculate outliers\n",
    "    \n",
    "- **<a href=\"http://nbviewer.jupyter.org/urls/bitbucket.org/hrojas/learn-pandas/raw/master/lessons/08%20-%20Lesson.ipynb\">Lesson08</a>**\n",
    "    - Read from Microsoft SQL databases\n",
    "    \n",
    "- **<a href=\"http://nbviewer.jupyter.org/urls/bitbucket.org/hrojas/learn-pandas/raw/master/lessons/09%20-%20Lesson.ipynb\">Lesson09</a>**\n",
    "    -  Export to CSV/EXCEL/TXT\n",
    "    \n",
    "- **<a href=\"http://nbviewer.jupyter.org/urls/bitbucket.org/hrojas/learn-pandas/raw/master/lessons/10%20-%20Lesson.ipynb\">Lesson10</a>**\n",
    "    -  Converting between different kinds of formats\n",
    "    \n",
    "- **<a href=\"http://nbviewer.jupyter.org/urls/bitbucket.org/hrojas/learn-pandas/raw/master/lessons/11%20-%20Lesson.ipynb\">Lesson11</a>**\n",
    "    - Combining data from various sources"
   ]
  },
  {
   "cell_type": "markdown",
   "metadata": {},
   "source": [
    "## 利用python进行实际的数据处理"
   ]
  },
  {
   "cell_type": "markdown",
   "metadata": {},
   "source": [
    "- <a href=\"http://wavedatalab.github.io/datawithpython/munge.html\">Munging data</a>\n",
    "- <a href=\"http://wavedatalab.github.io/datawithpython/aggregate.html\">Aggregating data</a>\n",
    "- <a href=\"http://wavedatalab.github.io/datawithpython/visualize.html\">Visualizing data</a>\n",
    "- <a href=\"http://wavedatalab.github.io/datawithpython/timeseries.html\">Time Series</a>"
   ]
  },
  {
   "cell_type": "markdown",
   "metadata": {},
   "source": [
    "## Exercises for New Users"
   ]
  },
  {
   "cell_type": "markdown",
   "metadata": {},
   "source": [
    " 更多资源请访问<a href=\"https://github.com/guipsamora/pandas_exercises\">repository</a>"
   ]
  },
  {
   "cell_type": "markdown",
   "metadata": {},
   "source": [
    "主要包括以下10 个部分的练习题：\n",
    "当然本机上也已经下载了所有的源代码：\n",
    "- Getting & Knowing Your Data\n",
    "- Filtering & Sorting\n",
    "- Grouping\n",
    "- Apply\n",
    "- Merge\n",
    "- Stats\n",
    "- Visualization\n",
    "- Creating Series and DataFrames\n",
    "- Time Series\n",
    "- Deleting"
   ]
  },
  {
   "cell_type": "code",
   "execution_count": 240,
   "metadata": {},
   "outputs": [
    {
     "data": {
      "text/plain": [
       "'C:\\\\Users\\\\徐凯龙'"
      ]
     },
     "execution_count": 240,
     "metadata": {},
     "output_type": "execute_result"
    }
   ],
   "source": [
    "%pwd"
   ]
  },
  {
   "cell_type": "code",
   "execution_count": 246,
   "metadata": {},
   "outputs": [
    {
     "name": "stdout",
     "output_type": "stream",
     "text": [
      " 驱动器 C 中的卷是 Windows\n",
      " 卷的序列号是 3472-27CA\n",
      "\n",
      " C:\\Users\\徐凯龙\\pandas_exercises-master\\pandas_exercises-master 的目录\n",
      "\n",
      "2017/07/18 周二  16:43    <DIR>          .\n",
      "2017/07/18 周二  16:43    <DIR>          ..\n",
      "2017/05/21 周日  08:42                38 .gitignore\n",
      "2017/07/18 周二  16:43    <DIR>          01_Getting_&_Knowing_Your_Data\n",
      "2017/07/18 周二  16:43    <DIR>          02_Filtering_&_Sorting\n",
      "2017/07/18 周二  16:43    <DIR>          03_Grouping\n",
      "2017/07/18 周二  16:43    <DIR>          04_Apply\n",
      "2017/07/18 周二  16:43    <DIR>          05_Merge\n",
      "2017/07/18 周二  16:43    <DIR>          06_Stats\n",
      "2017/07/18 周二  16:43    <DIR>          07_Visualization\n",
      "2017/07/18 周二  16:43    <DIR>          08_Creating_Series_and_DataFrames\n",
      "2017/07/18 周二  16:43    <DIR>          09_Time_Series\n",
      "2017/07/18 周二  16:43    <DIR>          10_Deleting\n",
      "2017/07/18 周二  16:43    <DIR>          11_Indexing\n",
      "2017/05/21 周日  08:42             5,530 README.md\n",
      "2017/07/18 周二  16:43    <DIR>          Template\n",
      "               2 个文件          5,568 字节\n",
      "              14 个目录 74,410,729,472 可用字节\n"
     ]
    }
   ],
   "source": [
    "#该目录为源代码所在的目录\n",
    "!dir {\"C:\\\\Users\\\\徐凯龙\\\\pandas_exercises-master\\\\pandas_exercises-master\"}"
   ]
  },
  {
   "cell_type": "markdown",
   "metadata": {},
   "source": []
  },
  {
   "cell_type": "markdown",
   "metadata": {},
   "source": [
    "## Pandas、Vincent和xlsxwriter处理Excel表格数据"
   ]
  },
  {
   "cell_type": "markdown",
   "metadata": {
    "collapsed": true
   },
   "source": [
    "三种方法具体信息可以点击查看<a href=\"https://pandas-xlsxwriter-charts.readthedocs.io/\"> Using Pandas and XlsxWriter to create Excel charts</a>"
   ]
  },
  {
   "cell_type": "markdown",
   "metadata": {},
   "source": [
    "## 更多的教程信息参考如下网站"
   ]
  },
  {
   "cell_type": "markdown",
   "metadata": {},
   "source": [
    "- <a href=\"http://blog.wesmckinney.com/\">Wes McKinney的博客</a>\n",
    "- <a href=\"http://www.randalolson.com/2012/08/06/statistical-analysis-made-easy-in-python/\">Randal Olson的博客</a>\n",
    "- <a href=\"http://conference.scipy.org/scipy2013/tutorial_detail.php?id=109\">Scipy 2013的教程</a>\n",
    "- <a href=\"http://nbviewer.jupyter.org/github/twiecki/financial-analysis-python-tutorial/blob/master/1.%20Pandas%20Basics.ipynb\">Thomas Wiecki的python金融分析</a>\n",
    "- <a href=\"http://www.gregreda.com/2013/10/26/intro-to-pandas-data-structures/\">Greg Reda：Pandas的数据结构</a>\n",
    "- <a href=\"http://manishamde.github.io/blog/2013/03/07/pandas-and-python-top-10/\">Python和Pandas</a>\n",
    "- <a href=\"http://www.bearrelroll.com/2013/05/python-pandas-tutorial\">Pandas Tutorial教程</a>\n",
    "- <a href=\"https://www.datacamp.com/community/tutorials/pandas-tutorial-dataframe-python\">Pandas DataFrame Tutorial教程</a>"
   ]
  },
  {
   "cell_type": "code",
   "execution_count": null,
   "metadata": {
    "collapsed": true
   },
   "outputs": [],
   "source": []
  }
 ],
 "metadata": {
  "kernelspec": {
   "display_name": "Python 3",
   "language": "python",
   "name": "python3"
  },
  "language_info": {
   "codemirror_mode": {
    "name": "ipython",
    "version": 3
   },
   "file_extension": ".py",
   "mimetype": "text/x-python",
   "name": "python",
   "nbconvert_exporter": "python",
   "pygments_lexer": "ipython3",
   "version": "3.6.1"
  },
  "toc": {
   "colors": {
    "hover_highlight": "#DAA520",
    "navigate_num": "#000000",
    "navigate_text": "#333333",
    "running_highlight": "#FF0000",
    "selected_highlight": "#FFD700",
    "sidebar_border": "#EEEEEE",
    "wrapper_background": "#FFFFFF"
   },
   "moveMenuLeft": true,
   "nav_menu": {
    "height": "12px",
    "width": "252px"
   },
   "navigate_menu": true,
   "number_sections": true,
   "sideBar": true,
   "threshold": 4,
   "toc_cell": false,
   "toc_section_display": "block",
   "toc_window_display": false,
   "widenNotebook": false
  }
 },
 "nbformat": 4,
 "nbformat_minor": 2
}
