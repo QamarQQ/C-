{
 "cells": [
  {
   "cell_type": "code",
   "execution_count": 1,
   "metadata": {
    "collapsed": true
   },
   "outputs": [],
   "source": [
    "from scipy import io as spio"
   ]
  },
  {
   "cell_type": "code",
   "execution_count": 3,
   "metadata": {
    "collapsed": true
   },
   "outputs": [],
   "source": [
    "import numpy as np"
   ]
  },
  {
   "cell_type": "code",
   "execution_count": 4,
   "metadata": {
    "collapsed": true
   },
   "outputs": [],
   "source": [
    "a=np.ones((3,3))\n",
    "spio.savemat('file.mat',{'a':a})\n"
   ]
  },
  {
   "cell_type": "code",
   "execution_count": 5,
   "metadata": {
    "collapsed": false
   },
   "outputs": [
    {
     "data": {
      "text/plain": [
       "array([[ 1.,  1.,  1.],\n",
       "       [ 1.,  1.,  1.],\n",
       "       [ 1.,  1.,  1.]])"
      ]
     },
     "execution_count": 5,
     "metadata": {},
     "output_type": "execute_result"
    }
   ],
   "source": [
    "data=spio.loadmat(\"file.mat\",struct_as_record=True)\n",
    "data['a']"
   ]
  },
  {
   "cell_type": "code",
   "execution_count": 6,
   "metadata": {
    "collapsed": true
   },
   "outputs": [],
   "source": [
    "from scipy import misc"
   ]
  },
  {
   "cell_type": "code",
   "execution_count": 7,
   "metadata": {
    "collapsed": false
   },
   "outputs": [
    {
     "data": {
      "text/plain": [
       "array([[[178, 207, 203],\n",
       "        [178, 207, 203],\n",
       "        [178, 207, 203],\n",
       "        ..., \n",
       "        [178, 207, 203],\n",
       "        [178, 207, 203],\n",
       "        [178, 207, 203]],\n",
       "\n",
       "       [[178, 207, 203],\n",
       "        [178, 207, 203],\n",
       "        [178, 207, 203],\n",
       "        ..., \n",
       "        [178, 207, 203],\n",
       "        [178, 207, 203],\n",
       "        [178, 207, 203]],\n",
       "\n",
       "       [[178, 207, 203],\n",
       "        [178, 207, 203],\n",
       "        [178, 207, 203],\n",
       "        ..., \n",
       "        [178, 207, 203],\n",
       "        [178, 207, 203],\n",
       "        [178, 207, 203]],\n",
       "\n",
       "       ..., \n",
       "       [[178, 207, 203],\n",
       "        [178, 207, 203],\n",
       "        [178, 207, 203],\n",
       "        ..., \n",
       "        [178, 207, 203],\n",
       "        [178, 207, 203],\n",
       "        [178, 207, 203]],\n",
       "\n",
       "       [[178, 207, 203],\n",
       "        [178, 207, 203],\n",
       "        [178, 207, 203],\n",
       "        ..., \n",
       "        [178, 207, 203],\n",
       "        [178, 207, 203],\n",
       "        [178, 207, 203]],\n",
       "\n",
       "       [[178, 207, 203],\n",
       "        [178, 207, 203],\n",
       "        [178, 207, 203],\n",
       "        ..., \n",
       "        [178, 207, 203],\n",
       "        [178, 207, 203],\n",
       "        [178, 207, 203]]], dtype=uint8)"
      ]
     },
     "execution_count": 7,
     "metadata": {},
     "output_type": "execute_result"
    }
   ],
   "source": [
    "misc.imread('crazy.jpg')"
   ]
  },
  {
   "cell_type": "code",
   "execution_count": 8,
   "metadata": {
    "collapsed": true
   },
   "outputs": [],
   "source": [
    "from scipy import linalg"
   ]
  },
  {
   "cell_type": "code",
   "execution_count": 15,
   "metadata": {
    "collapsed": true
   },
   "outputs": [],
   "source": [
    "arr=np.array([[1,2],\n",
    "             [2,3]])"
   ]
  },
  {
   "cell_type": "code",
   "execution_count": 17,
   "metadata": {
    "collapsed": false
   },
   "outputs": [
    {
     "data": {
      "text/plain": [
       "-1.0"
      ]
     },
     "execution_count": 17,
     "metadata": {},
     "output_type": "execute_result"
    }
   ],
   "source": [
    "linalg.det(arr)\n"
   ]
  },
  {
   "cell_type": "code",
   "execution_count": 18,
   "metadata": {
    "collapsed": false
   },
   "outputs": [],
   "source": [
    "iarr=linalg.inv(arr)"
   ]
  },
  {
   "cell_type": "code",
   "execution_count": 21,
   "metadata": {
    "collapsed": false
   },
   "outputs": [
    {
     "data": {
      "text/plain": [
       "True"
      ]
     },
     "execution_count": 21,
     "metadata": {},
     "output_type": "execute_result"
    }
   ],
   "source": [
    "np.allclose(np.dot(arr,iarr),np.eye(2))"
   ]
  },
  {
   "cell_type": "code",
   "execution_count": null,
   "metadata": {
    "collapsed": true
   },
   "outputs": [],
   "source": []
  }
 ],
 "metadata": {
  "kernelspec": {
   "display_name": "Python 3",
   "language": "python",
   "name": "python3"
  },
  "language_info": {
   "codemirror_mode": {
    "name": "ipython",
    "version": 3
   },
   "file_extension": ".py",
   "mimetype": "text/x-python",
   "name": "python",
   "nbconvert_exporter": "python",
   "pygments_lexer": "ipython3",
   "version": "3.6.0"
  }
 },
 "nbformat": 4,
 "nbformat_minor": 2
}
