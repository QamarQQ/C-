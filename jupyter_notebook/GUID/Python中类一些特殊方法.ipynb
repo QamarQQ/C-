{
 "cells": [
  {
   "cell_type": "markdown",
   "metadata": {},
   "source": [
    "# Python中Class的一些特殊方法\n"
   ]
  },
  {
   "cell_type": "markdown",
   "metadata": {},
   "source": [
    "## \\__str\\__\n",
    "\n",
    "- print语句输出的结果"
   ]
  },
  {
   "cell_type": "code",
   "execution_count": 9,
   "metadata": {},
   "outputs": [],
   "source": [
    "class Emploee:\n",
    "    def __init__(self ,name,sex,adrr,salary):\n",
    "        self.name=name\n",
    "        self.sex=sex\n",
    "        self.adrr=adrr\n",
    "        self.salary=salary\n",
    "    def __str__(self):\n",
    "        return \"{0} is {1},{0} home is {2},{0} owns {3}\".\\\n",
    "    format(self.name,self.sex,self.adrr,self.salary)"
   ]
  },
  {
   "cell_type": "code",
   "execution_count": 10,
   "metadata": {},
   "outputs": [
    {
     "name": "stdout",
     "output_type": "stream",
     "text": [
      "李三 is 男,李三 home is 北京,李三 owns 2000\n"
     ]
    }
   ],
   "source": [
    "em_1=Emploee(\"李三\",\"男\",\"北京\",\"2000\")\n",
    "print(em_1)"
   ]
  },
  {
   "cell_type": "markdown",
   "metadata": {},
   "source": [
    "## \\__repr__"
   ]
  },
  {
   "cell_type": "markdown",
   "metadata": {},
   "source": [
    "- 注意和\\__str\\__比较\n",
    "- \\__repr\\__命令行直接输出类名的结果"
   ]
  },
  {
   "cell_type": "code",
   "execution_count": 11,
   "metadata": {
    "collapsed": true
   },
   "outputs": [],
   "source": [
    "class Emploee:\n",
    "    def __init__(self ,name,sex,adrr,salary):\n",
    "        self.name=name\n",
    "        self.sex=sex\n",
    "        self.adrr=adrr\n",
    "        self.salary=salary\n",
    "    def __str__(self):\n",
    "        return \"{0} is {1},{0} home is {2},{0} owns {3}\".\\\n",
    "    format(self.name,self.sex,self.adrr,self.salary)\n",
    "    \n",
    "    __repr__=__str__"
   ]
  },
  {
   "cell_type": "code",
   "execution_count": 12,
   "metadata": {},
   "outputs": [
    {
     "data": {
      "text/plain": [
       "夏红 is 女,夏红 home is 上海,夏红 owns 10000"
      ]
     },
     "execution_count": 12,
     "metadata": {},
     "output_type": "execute_result"
    }
   ],
   "source": [
    "em_2=Emploee(\"夏红\",\"女\",\"上海\",\"10000\")\n",
    "em_2"
   ]
  },
  {
   "cell_type": "markdown",
   "metadata": {},
   "source": [
    "## \\__cmp\\__()  python3取消了"
   ]
  },
  {
   "cell_type": "markdown",
   "metadata": {},
   "source": [
    "- 类的比较规则"
   ]
  },
  {
   "cell_type": "code",
   "execution_count": 33,
   "metadata": {},
   "outputs": [],
   "source": [
    "class Emploee:\n",
    "    def __init__(self ,name,sex,adrr,salary):\n",
    "        self.name=name\n",
    "        self.sex=sex\n",
    "        self.adrr=adrr\n",
    "        self.salary=salary\n",
    "    def __str__(self):\n",
    "        return \"{}-{}-{}-{}\".format(self.name,self.sex,self.adrr,self.salary) \n",
    "    def __cmp__(self,other):\n",
    "        if self.salary>other.salary:\n",
    "            return sorted(self.salary,other.salary)\n",
    "        elif self.salary<other.salary:\n",
    "            return sorted(self.salary,other.salary)\n",
    "        "
   ]
  },
  {
   "cell_type": "markdown",
   "metadata": {},
   "source": [
    "## 类私有属性的创建与访问"
   ]
  },
  {
   "cell_type": "code",
   "execution_count": 57,
   "metadata": {},
   "outputs": [],
   "source": [
    "class Student:\n",
    "    def __init__(self,name,sex):\n",
    "        self.__name=name\n",
    "        self.__sex=sex\n",
    "    "
   ]
  },
  {
   "cell_type": "code",
   "execution_count": 63,
   "metadata": {},
   "outputs": [
    {
     "name": "stdout",
     "output_type": "stream",
     "text": [
      "'Student' object has no attribute 'name'\n",
      "小龙\n"
     ]
    }
   ],
   "source": [
    "student1=Student(\"小龙\",'男')\n",
    "try:\n",
    "    print(student1.name)\n",
    "except Exception as e:\n",
    "    print(e)\n",
    "finally:\n",
    "    print(student1._Student__name)"
   ]
  },
  {
   "cell_type": "markdown",
   "metadata": {},
   "source": [
    "## \\__getattr\\__和\\__setattr\\__和\\__getattribute\\__"
   ]
  },
  {
   "cell_type": "code",
   "execution_count": 54,
   "metadata": {},
   "outputs": [
    {
     "name": "stdout",
     "output_type": "stream",
     "text": [
      "blue\n",
      "5\n"
     ]
    }
   ],
   "source": [
    "class Fruit(object):\n",
    "    def __init__(self, color = \"red\", price = 0):\n",
    "        self.__color = color\n",
    "        self.__price = price\n",
    "    def __getattribute__(self,name):\n",
    "        return object.__getattribute__(self,name)\n",
    "    def __setattr__(self, name, value):\n",
    "        self.__dict__[name] = value\n",
    "        \n",
    "        \n",
    "fruit = Fruit(\"blue\", 10)\n",
    "print(fruit.__dict__.get(\"_Fruit__color\"))\n",
    "fruit.__dict__[\"_Fruit__price\"] = 5\n",
    "print(fruit.__dict__.get('_Fruit__price'))"
   ]
  },
  {
   "cell_type": "code",
   "execution_count": 64,
   "metadata": {},
   "outputs": [
    {
     "data": {
      "text/plain": [
       "{'_Fruit__color': 'blue', '_Fruit__price': 5}"
      ]
     },
     "execution_count": 64,
     "metadata": {},
     "output_type": "execute_result"
    }
   ],
   "source": [
    "fruit.__dict__"
   ]
  },
  {
   "cell_type": "markdown",
   "metadata": {},
   "source": [
    "## \\__new\\__"
   ]
  },
  {
   "cell_type": "markdown",
   "metadata": {},
   "source": [
    "- 每当实例化类时候MyClass(\\*args,\\*\\*kargs),\\__new\\__都会more自动执行MyClass.\\__new\\__，如果想改变这种行为可以，对\\__new\\__进行自定义\n",
    "- \\__new\\__比\\__init\\__先运行"
   ]
  },
  {
   "cell_type": "code",
   "execution_count": 65,
   "metadata": {
    "collapsed": true
   },
   "outputs": [],
   "source": [
    "class inch(float):\n",
    "    def __new__(cls, arg=0.0):\n",
    "        return float.__new__(cls, arg * 0.0254)"
   ]
  },
  {
   "cell_type": "code",
   "execution_count": 66,
   "metadata": {},
   "outputs": [
    {
     "name": "stdout",
     "output_type": "stream",
     "text": [
      "0.07619999999999999\n"
     ]
    }
   ],
   "source": [
    "a=inch(3)\n",
    "print(a)"
   ]
  },
  {
   "cell_type": "code",
   "execution_count": 75,
   "metadata": {
    "collapsed": true
   },
   "outputs": [],
   "source": [
    "class inch(float):\n",
    "    def __new__(cls, arg):\n",
    "        return float.__new__(cls, arg * 0.0254)\n",
    "    def __init__(self,value):\n",
    "        self.value=value"
   ]
  },
  {
   "cell_type": "code",
   "execution_count": 77,
   "metadata": {},
   "outputs": [
    {
     "data": {
      "text/plain": [
       "1.127"
      ]
     },
     "execution_count": 77,
     "metadata": {},
     "output_type": "execute_result"
    }
   ],
   "source": [
    "b=inch(5)\n",
    "b+1"
   ]
  },
  {
   "cell_type": "markdown",
   "metadata": {},
   "source": [
    "## \\__call\\__"
   ]
  },
  {
   "cell_type": "markdown",
   "metadata": {},
   "source": [
    "一个实例对象可以有自己的属性和方法，当我们调用实例方法时候，我们用instance.method()调用。能不能直接在实例本身上调用呢？在Python中答案是肯定的"
   ]
  },
  {
   "cell_type": "code",
   "execution_count": 80,
   "metadata": {},
   "outputs": [],
   "source": [
    "class Studetnt:\n",
    "    def __init__(self,name):\n",
    "        self.name=name\n",
    "    def __call__(self):\n",
    "        return \"My name is {}\".format(self.name)"
   ]
  },
  {
   "cell_type": "code",
   "execution_count": 82,
   "metadata": {},
   "outputs": [],
   "source": [
    "s=Studetnt(\"John\")"
   ]
  },
  {
   "cell_type": "code",
   "execution_count": 83,
   "metadata": {},
   "outputs": [
    {
     "data": {
      "text/plain": [
       "'My name is John'"
      ]
     },
     "execution_count": 83,
     "metadata": {},
     "output_type": "execute_result"
    }
   ],
   "source": [
    "s()"
   ]
  },
  {
   "cell_type": "markdown",
   "metadata": {},
   "source": [
    "当然了call 方法还可以自带参数"
   ]
  },
  {
   "cell_type": "code",
   "execution_count": 85,
   "metadata": {},
   "outputs": [],
   "source": [
    "class Studetnt:\n",
    "    def __init__(self,name,sex):\n",
    "        self.name=name\n",
    "        self.sex=sex\n",
    "    def __call__(self,salary):\n",
    "        return \"My salary is {}\".format(salary)"
   ]
  },
  {
   "cell_type": "code",
   "execution_count": 86,
   "metadata": {
    "collapsed": true
   },
   "outputs": [],
   "source": [
    "s=Studetnt(\"Mike\",\"男\")"
   ]
  },
  {
   "cell_type": "code",
   "execution_count": 87,
   "metadata": {},
   "outputs": [
    {
     "data": {
      "text/plain": [
       "'My salary is 2000'"
      ]
     },
     "execution_count": 87,
     "metadata": {},
     "output_type": "execute_result"
    }
   ],
   "source": [
    "s(2000)"
   ]
  },
  {
   "cell_type": "markdown",
   "metadata": {},
   "source": [
    "## \\__del\\__"
   ]
  },
  {
   "cell_type": "code",
   "execution_count": 88,
   "metadata": {
    "collapsed": true
   },
   "outputs": [],
   "source": [
    "class Studetnt:\n",
    "    def __init__(self,name,sex):\n",
    "        self.name=name\n",
    "        self.sex=sex\n",
    "    def __call__(self,salary):\n",
    "        return \"My salary is {}\".format(salary)\n",
    "    def __del__(self):\n",
    "        print(\"正在销毁\")"
   ]
  },
  {
   "cell_type": "code",
   "execution_count": 97,
   "metadata": {
    "collapsed": true
   },
   "outputs": [],
   "source": [
    "s2=Studetnt(\"Doney\",\"男\")\n"
   ]
  },
  {
   "cell_type": "code",
   "execution_count": 98,
   "metadata": {},
   "outputs": [
    {
     "name": "stdout",
     "output_type": "stream",
     "text": [
      "正在销毁\n"
     ]
    }
   ],
   "source": [
    "del s2"
   ]
  },
  {
   "cell_type": "markdown",
   "metadata": {},
   "source": [
    "## \\__getitem\\__和\\__setitem\\__和\\__delitem\\__"
   ]
  },
  {
   "cell_type": "code",
   "execution_count": 144,
   "metadata": {},
   "outputs": [],
   "source": [
    "class Zoo:\n",
    "    def __getitem__(self,key):\n",
    "        if key=='tiger':\n",
    "            return 'tiger'\n",
    "        elif key==\"monkey\":\n",
    "            return 'monkey'\n",
    "    def __setitem__(self,key,value):\n",
    "        print(\"键是： {}；值是：{}\".format(key,value))\n",
    "    def __delitem__(self,key):\n",
    "        print(\"正在删除{}键\".format(key))"
   ]
  },
  {
   "cell_type": "code",
   "execution_count": 145,
   "metadata": {
    "collapsed": true
   },
   "outputs": [],
   "source": [
    "zoo=Zoo()"
   ]
  },
  {
   "cell_type": "code",
   "execution_count": 146,
   "metadata": {},
   "outputs": [
    {
     "name": "stdout",
     "output_type": "stream",
     "text": [
      "键是： a；值是：tiger\n"
     ]
    }
   ],
   "source": [
    "zoo[\"a\"]=\"tiger\""
   ]
  },
  {
   "cell_type": "code",
   "execution_count": 147,
   "metadata": {},
   "outputs": [
    {
     "name": "stdout",
     "output_type": "stream",
     "text": [
      "正在删除a键\n"
     ]
    }
   ],
   "source": [
    "del zoo['a']"
   ]
  },
  {
   "cell_type": "code",
   "execution_count": 148,
   "metadata": {},
   "outputs": [
    {
     "name": "stdout",
     "output_type": "stream",
     "text": [
      "键是： tiger；值是：big tiger\n"
     ]
    }
   ],
   "source": [
    "zoo[\"tiger\"]=\"big tiger\""
   ]
  },
  {
   "cell_type": "code",
   "execution_count": 149,
   "metadata": {},
   "outputs": [
    {
     "data": {
      "text/plain": [
       "'tiger'"
      ]
     },
     "execution_count": 149,
     "metadata": {},
     "output_type": "execute_result"
    }
   ],
   "source": [
    "zoo[\"tiger\"]"
   ]
  },
  {
   "cell_type": "code",
   "execution_count": 150,
   "metadata": {},
   "outputs": [
    {
     "data": {
      "text/plain": [
       "'tiger'"
      ]
     },
     "execution_count": 150,
     "metadata": {},
     "output_type": "execute_result"
    }
   ],
   "source": [
    "zoo[\"tiger\"]"
   ]
  },
  {
   "cell_type": "code",
   "execution_count": 125,
   "metadata": {},
   "outputs": [
    {
     "data": {
      "text/plain": [
       "'little monkey'"
      ]
     },
     "execution_count": 125,
     "metadata": {},
     "output_type": "execute_result"
    }
   ],
   "source": [
    "zoo[\"tiger\"]"
   ]
  },
  {
   "cell_type": "markdown",
   "metadata": {},
   "source": [
    "# 类装饰器"
   ]
  },
  {
   "cell_type": "markdown",
   "metadata": {},
   "source": [
    "## 类方法和静态方法"
   ]
  },
  {
   "cell_type": "markdown",
   "metadata": {},
   "source": [
    "- 类方法和静态方法都可以被类和类实例调用\n",
    "- 类实例方法仅仅可以被类实例调用\n",
    "- 类方法的隐含调用参数是类，而类实例方法的隐含调用参数是类的实例；\n",
    "- 静态方法没有隐含调用参数"
   ]
  },
  {
   "cell_type": "code",
   "execution_count": 165,
   "metadata": {},
   "outputs": [
    {
     "name": "stdout",
     "output_type": "stream",
     "text": [
      "类的实例方法\n",
      "<__main__.Test object at 0x000001ED13241EF0>\n",
      "类方法\n",
      "<class '__main__.Test'>\n",
      "静态方法\n",
      "类方法\n",
      "<class '__main__.Test'>\n",
      "静态方法\n",
      "类的实例方法\n",
      "<__main__.Test object at 0x000001ED13241EF0>\n",
      "类的实例方法\n",
      "<__main__.Test object at 0x000001ED13241EF0>\n"
     ]
    }
   ],
   "source": [
    "class Test(object):\n",
    "\n",
    "    def InstanceFun(self):\n",
    "        print(\"类的实例方法\")\n",
    "        print(self)\n",
    "\n",
    "    @classmethod\n",
    "    def ClassFun(cls):\n",
    "        print(\"类方法\")\n",
    "        print(cls)\n",
    "\n",
    "    @staticmethod\n",
    "    def StaticFun():\n",
    "        print(\"静态方法\")\n",
    "\n",
    "        \n",
    "t=Test()\n",
    "t.InstanceFun()\n",
    "t.ClassFun()\n",
    "t.StaticFun()\n",
    "Test.ClassFun()\n",
    "Test.StaticFun()\n",
    "#Test.InstanceFun() #会出错\n",
    "Test.InstanceFun(t)\n",
    "  "
   ]
  },
  {
   "cell_type": "markdown",
   "metadata": {},
   "source": [
    "## property"
   ]
  },
  {
   "cell_type": "code",
   "execution_count": 174,
   "metadata": {},
   "outputs": [],
   "source": [
    "class Emploee:\n",
    "    def __init__(self,first,last):\n",
    "        self.first=first\n",
    "        self.last=last\n",
    "    @property\n",
    "    def fullname(self):\n",
    "        return self.first+\".\"+self.last\n",
    "    @property\n",
    "    def email(self):\n",
    "        return self.first+\".\"+self.last+\"@\"+\"qq.com\""
   ]
  },
  {
   "cell_type": "code",
   "execution_count": 175,
   "metadata": {
    "collapsed": true
   },
   "outputs": [],
   "source": [
    "em_1=Emploee(\"John\",\"Doney\")"
   ]
  },
  {
   "cell_type": "code",
   "execution_count": 176,
   "metadata": {},
   "outputs": [
    {
     "name": "stdout",
     "output_type": "stream",
     "text": [
      "John.Doney\n",
      "John.Doney@qq.com\n"
     ]
    }
   ],
   "source": [
    "print(em_1.fullname)\n",
    "print(em_1.email)"
   ]
  },
  {
   "cell_type": "code",
   "execution_count": 178,
   "metadata": {},
   "outputs": [
    {
     "ename": "TypeError",
     "evalue": "'str' object is not callable",
     "output_type": "error",
     "traceback": [
      "\u001b[1;31m---------------------------------------------------------------------------\u001b[0m",
      "\u001b[1;31mTypeError\u001b[0m                                 Traceback (most recent call last)",
      "\u001b[1;32m<ipython-input-178-d4141e469acb>\u001b[0m in \u001b[0;36m<module>\u001b[1;34m()\u001b[0m\n\u001b[1;32m----> 1\u001b[1;33m \u001b[0mem_1\u001b[0m\u001b[1;33m.\u001b[0m\u001b[0mfullname\u001b[0m\u001b[1;33m(\u001b[0m\u001b[1;33m)\u001b[0m\u001b[1;33m\u001b[0m\u001b[0m\n\u001b[0m",
      "\u001b[1;31mTypeError\u001b[0m: 'str' object is not callable"
     ]
    }
   ],
   "source": [
    "em_1.fullname()"
   ]
  },
  {
   "cell_type": "code",
   "execution_count": 179,
   "metadata": {},
   "outputs": [
    {
     "ename": "TypeError",
     "evalue": "'str' object is not callable",
     "output_type": "error",
     "traceback": [
      "\u001b[1;31m---------------------------------------------------------------------------\u001b[0m",
      "\u001b[1;31mTypeError\u001b[0m                                 Traceback (most recent call last)",
      "\u001b[1;32m<ipython-input-179-c3251540bddf>\u001b[0m in \u001b[0;36m<module>\u001b[1;34m()\u001b[0m\n\u001b[1;32m----> 1\u001b[1;33m \u001b[0mem_1\u001b[0m\u001b[1;33m.\u001b[0m\u001b[0memail\u001b[0m\u001b[1;33m(\u001b[0m\u001b[1;33m)\u001b[0m\u001b[1;33m\u001b[0m\u001b[0m\n\u001b[0m",
      "\u001b[1;31mTypeError\u001b[0m: 'str' object is not callable"
     ]
    }
   ],
   "source": [
    "em_1.email()"
   ]
  },
  {
   "cell_type": "code",
   "execution_count": null,
   "metadata": {
    "collapsed": true
   },
   "outputs": [],
   "source": []
  }
 ],
 "metadata": {
  "kernelspec": {
   "display_name": "Python 3",
   "language": "python",
   "name": "python3"
  },
  "language_info": {
   "codemirror_mode": {
    "name": "ipython",
    "version": 3
   },
   "file_extension": ".py",
   "mimetype": "text/x-python",
   "name": "python",
   "nbconvert_exporter": "python",
   "pygments_lexer": "ipython3",
   "version": "3.6.1"
  },
  "toc": {
   "colors": {
    "hover_highlight": "#DAA520",
    "navigate_num": "#000000",
    "navigate_text": "#333333",
    "running_highlight": "#FF0000",
    "selected_highlight": "#FFD700",
    "sidebar_border": "#EEEEEE",
    "wrapper_background": "#FFFFFF"
   },
   "moveMenuLeft": true,
   "nav_menu": {
    "height": "265px",
    "width": "252px"
   },
   "navigate_menu": true,
   "number_sections": true,
   "sideBar": true,
   "threshold": 4,
   "toc_cell": false,
   "toc_section_display": "block",
   "toc_window_display": false,
   "widenNotebook": false
  }
 },
 "nbformat": 4,
 "nbformat_minor": 2
}
